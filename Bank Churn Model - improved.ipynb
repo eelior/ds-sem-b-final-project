{
 "cells": [
  {
   "cell_type": "markdown",
   "metadata": {},
   "source": [
    "# <center>Bank Churn Model</center>"
   ]
  },
  {
   "cell_type": "markdown",
   "metadata": {},
   "source": [
    "### Sources and credits for this project\n",
    "\n",
    "- https://www.kaggle.com/shrutimechlearn/churn-modelling\n",
    "- Big thanks to https://www.superdatascience.com/pages/deep-learning\n",
    "- author: Shruti_Iyyer https://www.kaggle.com/shrutimechlearn\n",
    "- Book: Hands-On Machine Learning with Scikit-Learn and TensorFlow: Concepts, Tools, and Techniques to Build Intelligent Systems.\n",
    "- K-Neighbors Classifier: https://scikit-learn.org/stable/modules/generated/sklearn.neighbors.KNeighborsClassifier.html\n",
    "- K-nearest neighbors algorithm: https://en.wikipedia.org/wiki/K-nearest_neighbors_algorithm\n",
    "- Random Forest Classifier: https://scikit-learn.org/stable/modules/generated/sklearn.ensemble.RandomForestClassifier.html\n",
    "- Random decision forests: https://en.wikipedia.org/wiki/Random_forest\n",
    "- Optimizing parameters: https://towardsdatascience.com/building-a-k-nearest-neighbors-k-nn-model-with-scikit-learn-51209555453a\n",
    "- Confusion matrix: https://en.wikipedia.org/wiki/Confusion_matrix"
   ]
  },
  {
   "cell_type": "markdown",
   "metadata": {},
   "source": [
    "## Introduction and Goal definition"
   ]
  },
  {
   "cell_type": "markdown",
   "metadata": {},
   "source": [
    "This data set contains details of a bank's customers and the target variable is a binary variable reflecting the fact whether the customer left the bank (closed his account) or he continues to be a customer. The column representing it is 'Exited', with 1 for a customer that did exited, and 0 for a customer who stayed.\n",
    "\n",
    "So to answear the question of if a customer left the bank or no' we are going to build two classification models using some known classification algorithms: KNN and Random-Forest."
   ]
  },
  {
   "cell_type": "markdown",
   "metadata": {},
   "source": [
    "### Workflow stages"
   ]
  },
  {
   "cell_type": "markdown",
   "metadata": {},
   "source": [
    "1. Prepare and clean the data for work. \n",
    "2. Analyze, identify patterns, and explore the data.\n",
    "3. Division of the records into a training group and a test group.\n",
    "4. Models training and evaluation."
   ]
  },
  {
   "cell_type": "markdown",
   "metadata": {},
   "source": [
    "## 1) Prepare and clean the data for work"
   ]
  },
  {
   "cell_type": "code",
   "execution_count": 63,
   "metadata": {},
   "outputs": [],
   "source": [
    "# some basic imports that will surely be useful\n",
    "import pandas as pd\n",
    "import numpy as np\n",
    "import matplotlib.pyplot as plt \n",
    "import seaborn as sns\n",
    "from sklearn.decomposition import PCA\n",
    "from sklearn.ensemble import (\n",
    "    RandomForestClassifier,\n",
    "    AdaBoostClassifier,\n",
    ")\n",
    "from xgboost import XGBClassifier\n",
    "from sklearn.ensemble import StackingClassifier\n",
    "from sklearn.ensemble import VotingClassifier"
   ]
  },
  {
   "cell_type": "code",
   "execution_count": 2,
   "metadata": {},
   "outputs": [],
   "source": [
    "data = pd.read_csv('Churn_Modelling.csv')"
   ]
  },
  {
   "cell_type": "code",
   "execution_count": 3,
   "metadata": {},
   "outputs": [
    {
     "data": {
      "text/html": [
       "<div>\n",
       "<style scoped>\n",
       "    .dataframe tbody tr th:only-of-type {\n",
       "        vertical-align: middle;\n",
       "    }\n",
       "\n",
       "    .dataframe tbody tr th {\n",
       "        vertical-align: top;\n",
       "    }\n",
       "\n",
       "    .dataframe thead th {\n",
       "        text-align: right;\n",
       "    }\n",
       "</style>\n",
       "<table border=\"1\" class=\"dataframe\">\n",
       "  <thead>\n",
       "    <tr style=\"text-align: right;\">\n",
       "      <th></th>\n",
       "      <th>RowNumber</th>\n",
       "      <th>CustomerId</th>\n",
       "      <th>Surname</th>\n",
       "      <th>CreditScore</th>\n",
       "      <th>Geography</th>\n",
       "      <th>Gender</th>\n",
       "      <th>Age</th>\n",
       "      <th>Tenure</th>\n",
       "      <th>Balance</th>\n",
       "      <th>NumOfProducts</th>\n",
       "      <th>HasCrCard</th>\n",
       "      <th>IsActiveMember</th>\n",
       "      <th>EstimatedSalary</th>\n",
       "      <th>Exited</th>\n",
       "    </tr>\n",
       "  </thead>\n",
       "  <tbody>\n",
       "    <tr>\n",
       "      <td>0</td>\n",
       "      <td>1</td>\n",
       "      <td>15634602</td>\n",
       "      <td>Hargrave</td>\n",
       "      <td>619</td>\n",
       "      <td>France</td>\n",
       "      <td>Female</td>\n",
       "      <td>42</td>\n",
       "      <td>2</td>\n",
       "      <td>0.00</td>\n",
       "      <td>1</td>\n",
       "      <td>1</td>\n",
       "      <td>1</td>\n",
       "      <td>101348.88</td>\n",
       "      <td>1</td>\n",
       "    </tr>\n",
       "    <tr>\n",
       "      <td>1</td>\n",
       "      <td>2</td>\n",
       "      <td>15647311</td>\n",
       "      <td>Hill</td>\n",
       "      <td>608</td>\n",
       "      <td>Spain</td>\n",
       "      <td>Female</td>\n",
       "      <td>41</td>\n",
       "      <td>1</td>\n",
       "      <td>83807.86</td>\n",
       "      <td>1</td>\n",
       "      <td>0</td>\n",
       "      <td>1</td>\n",
       "      <td>112542.58</td>\n",
       "      <td>0</td>\n",
       "    </tr>\n",
       "    <tr>\n",
       "      <td>2</td>\n",
       "      <td>3</td>\n",
       "      <td>15619304</td>\n",
       "      <td>Onio</td>\n",
       "      <td>502</td>\n",
       "      <td>France</td>\n",
       "      <td>Female</td>\n",
       "      <td>42</td>\n",
       "      <td>8</td>\n",
       "      <td>159660.80</td>\n",
       "      <td>3</td>\n",
       "      <td>1</td>\n",
       "      <td>0</td>\n",
       "      <td>113931.57</td>\n",
       "      <td>1</td>\n",
       "    </tr>\n",
       "    <tr>\n",
       "      <td>3</td>\n",
       "      <td>4</td>\n",
       "      <td>15701354</td>\n",
       "      <td>Boni</td>\n",
       "      <td>699</td>\n",
       "      <td>France</td>\n",
       "      <td>Female</td>\n",
       "      <td>39</td>\n",
       "      <td>1</td>\n",
       "      <td>0.00</td>\n",
       "      <td>2</td>\n",
       "      <td>0</td>\n",
       "      <td>0</td>\n",
       "      <td>93826.63</td>\n",
       "      <td>0</td>\n",
       "    </tr>\n",
       "    <tr>\n",
       "      <td>4</td>\n",
       "      <td>5</td>\n",
       "      <td>15737888</td>\n",
       "      <td>Mitchell</td>\n",
       "      <td>850</td>\n",
       "      <td>Spain</td>\n",
       "      <td>Female</td>\n",
       "      <td>43</td>\n",
       "      <td>2</td>\n",
       "      <td>125510.82</td>\n",
       "      <td>1</td>\n",
       "      <td>1</td>\n",
       "      <td>1</td>\n",
       "      <td>79084.10</td>\n",
       "      <td>0</td>\n",
       "    </tr>\n",
       "    <tr>\n",
       "      <td>...</td>\n",
       "      <td>...</td>\n",
       "      <td>...</td>\n",
       "      <td>...</td>\n",
       "      <td>...</td>\n",
       "      <td>...</td>\n",
       "      <td>...</td>\n",
       "      <td>...</td>\n",
       "      <td>...</td>\n",
       "      <td>...</td>\n",
       "      <td>...</td>\n",
       "      <td>...</td>\n",
       "      <td>...</td>\n",
       "      <td>...</td>\n",
       "      <td>...</td>\n",
       "    </tr>\n",
       "    <tr>\n",
       "      <td>9995</td>\n",
       "      <td>9996</td>\n",
       "      <td>15606229</td>\n",
       "      <td>Obijiaku</td>\n",
       "      <td>771</td>\n",
       "      <td>France</td>\n",
       "      <td>Male</td>\n",
       "      <td>39</td>\n",
       "      <td>5</td>\n",
       "      <td>0.00</td>\n",
       "      <td>2</td>\n",
       "      <td>1</td>\n",
       "      <td>0</td>\n",
       "      <td>96270.64</td>\n",
       "      <td>0</td>\n",
       "    </tr>\n",
       "    <tr>\n",
       "      <td>9996</td>\n",
       "      <td>9997</td>\n",
       "      <td>15569892</td>\n",
       "      <td>Johnstone</td>\n",
       "      <td>516</td>\n",
       "      <td>France</td>\n",
       "      <td>Male</td>\n",
       "      <td>35</td>\n",
       "      <td>10</td>\n",
       "      <td>57369.61</td>\n",
       "      <td>1</td>\n",
       "      <td>1</td>\n",
       "      <td>1</td>\n",
       "      <td>101699.77</td>\n",
       "      <td>0</td>\n",
       "    </tr>\n",
       "    <tr>\n",
       "      <td>9997</td>\n",
       "      <td>9998</td>\n",
       "      <td>15584532</td>\n",
       "      <td>Liu</td>\n",
       "      <td>709</td>\n",
       "      <td>France</td>\n",
       "      <td>Female</td>\n",
       "      <td>36</td>\n",
       "      <td>7</td>\n",
       "      <td>0.00</td>\n",
       "      <td>1</td>\n",
       "      <td>0</td>\n",
       "      <td>1</td>\n",
       "      <td>42085.58</td>\n",
       "      <td>1</td>\n",
       "    </tr>\n",
       "    <tr>\n",
       "      <td>9998</td>\n",
       "      <td>9999</td>\n",
       "      <td>15682355</td>\n",
       "      <td>Sabbatini</td>\n",
       "      <td>772</td>\n",
       "      <td>Germany</td>\n",
       "      <td>Male</td>\n",
       "      <td>42</td>\n",
       "      <td>3</td>\n",
       "      <td>75075.31</td>\n",
       "      <td>2</td>\n",
       "      <td>1</td>\n",
       "      <td>0</td>\n",
       "      <td>92888.52</td>\n",
       "      <td>1</td>\n",
       "    </tr>\n",
       "    <tr>\n",
       "      <td>9999</td>\n",
       "      <td>10000</td>\n",
       "      <td>15628319</td>\n",
       "      <td>Walker</td>\n",
       "      <td>792</td>\n",
       "      <td>France</td>\n",
       "      <td>Female</td>\n",
       "      <td>28</td>\n",
       "      <td>4</td>\n",
       "      <td>130142.79</td>\n",
       "      <td>1</td>\n",
       "      <td>1</td>\n",
       "      <td>0</td>\n",
       "      <td>38190.78</td>\n",
       "      <td>0</td>\n",
       "    </tr>\n",
       "  </tbody>\n",
       "</table>\n",
       "<p>10000 rows × 14 columns</p>\n",
       "</div>"
      ],
      "text/plain": [
       "      RowNumber  CustomerId    Surname  CreditScore Geography  Gender  Age  \\\n",
       "0             1    15634602   Hargrave          619    France  Female   42   \n",
       "1             2    15647311       Hill          608     Spain  Female   41   \n",
       "2             3    15619304       Onio          502    France  Female   42   \n",
       "3             4    15701354       Boni          699    France  Female   39   \n",
       "4             5    15737888   Mitchell          850     Spain  Female   43   \n",
       "...         ...         ...        ...          ...       ...     ...  ...   \n",
       "9995       9996    15606229   Obijiaku          771    France    Male   39   \n",
       "9996       9997    15569892  Johnstone          516    France    Male   35   \n",
       "9997       9998    15584532        Liu          709    France  Female   36   \n",
       "9998       9999    15682355  Sabbatini          772   Germany    Male   42   \n",
       "9999      10000    15628319     Walker          792    France  Female   28   \n",
       "\n",
       "      Tenure    Balance  NumOfProducts  HasCrCard  IsActiveMember  \\\n",
       "0          2       0.00              1          1               1   \n",
       "1          1   83807.86              1          0               1   \n",
       "2          8  159660.80              3          1               0   \n",
       "3          1       0.00              2          0               0   \n",
       "4          2  125510.82              1          1               1   \n",
       "...      ...        ...            ...        ...             ...   \n",
       "9995       5       0.00              2          1               0   \n",
       "9996      10   57369.61              1          1               1   \n",
       "9997       7       0.00              1          0               1   \n",
       "9998       3   75075.31              2          1               0   \n",
       "9999       4  130142.79              1          1               0   \n",
       "\n",
       "      EstimatedSalary  Exited  \n",
       "0           101348.88       1  \n",
       "1           112542.58       0  \n",
       "2           113931.57       1  \n",
       "3            93826.63       0  \n",
       "4            79084.10       0  \n",
       "...               ...     ...  \n",
       "9995         96270.64       0  \n",
       "9996        101699.77       0  \n",
       "9997         42085.58       1  \n",
       "9998         92888.52       1  \n",
       "9999         38190.78       0  \n",
       "\n",
       "[10000 rows x 14 columns]"
      ]
     },
     "execution_count": 3,
     "metadata": {},
     "output_type": "execute_result"
    }
   ],
   "source": [
    "data"
   ]
  },
  {
   "cell_type": "code",
   "execution_count": 4,
   "metadata": {},
   "outputs": [
    {
     "data": {
      "text/html": [
       "<div>\n",
       "<style scoped>\n",
       "    .dataframe tbody tr th:only-of-type {\n",
       "        vertical-align: middle;\n",
       "    }\n",
       "\n",
       "    .dataframe tbody tr th {\n",
       "        vertical-align: top;\n",
       "    }\n",
       "\n",
       "    .dataframe thead th {\n",
       "        text-align: right;\n",
       "    }\n",
       "</style>\n",
       "<table border=\"1\" class=\"dataframe\">\n",
       "  <thead>\n",
       "    <tr style=\"text-align: right;\">\n",
       "      <th></th>\n",
       "      <th>RowNumber</th>\n",
       "      <th>CustomerId</th>\n",
       "      <th>CreditScore</th>\n",
       "      <th>Age</th>\n",
       "      <th>Tenure</th>\n",
       "      <th>Balance</th>\n",
       "      <th>NumOfProducts</th>\n",
       "      <th>HasCrCard</th>\n",
       "      <th>IsActiveMember</th>\n",
       "      <th>EstimatedSalary</th>\n",
       "      <th>Exited</th>\n",
       "    </tr>\n",
       "    <tr>\n",
       "      <th>Geography</th>\n",
       "      <th></th>\n",
       "      <th></th>\n",
       "      <th></th>\n",
       "      <th></th>\n",
       "      <th></th>\n",
       "      <th></th>\n",
       "      <th></th>\n",
       "      <th></th>\n",
       "      <th></th>\n",
       "      <th></th>\n",
       "      <th></th>\n",
       "    </tr>\n",
       "  </thead>\n",
       "  <tbody>\n",
       "    <tr>\n",
       "      <td>France</td>\n",
       "      <td>5025.228560</td>\n",
       "      <td>1.569065e+07</td>\n",
       "      <td>649.668329</td>\n",
       "      <td>38.511767</td>\n",
       "      <td>5.004587</td>\n",
       "      <td>62092.636516</td>\n",
       "      <td>1.530913</td>\n",
       "      <td>0.706621</td>\n",
       "      <td>0.516753</td>\n",
       "      <td>99899.180814</td>\n",
       "      <td>0.161548</td>\n",
       "    </tr>\n",
       "    <tr>\n",
       "      <td>Germany</td>\n",
       "      <td>5000.278996</td>\n",
       "      <td>1.569056e+07</td>\n",
       "      <td>651.453567</td>\n",
       "      <td>39.771622</td>\n",
       "      <td>5.009964</td>\n",
       "      <td>119730.116134</td>\n",
       "      <td>1.519729</td>\n",
       "      <td>0.713830</td>\n",
       "      <td>0.497409</td>\n",
       "      <td>101113.435102</td>\n",
       "      <td>0.324432</td>\n",
       "    </tr>\n",
       "    <tr>\n",
       "      <td>Spain</td>\n",
       "      <td>4950.667743</td>\n",
       "      <td>1.569192e+07</td>\n",
       "      <td>651.333872</td>\n",
       "      <td>38.890997</td>\n",
       "      <td>5.032297</td>\n",
       "      <td>61818.147763</td>\n",
       "      <td>1.539362</td>\n",
       "      <td>0.694792</td>\n",
       "      <td>0.529673</td>\n",
       "      <td>99440.572281</td>\n",
       "      <td>0.166734</td>\n",
       "    </tr>\n",
       "  </tbody>\n",
       "</table>\n",
       "</div>"
      ],
      "text/plain": [
       "             RowNumber    CustomerId  CreditScore        Age    Tenure  \\\n",
       "Geography                                                                \n",
       "France     5025.228560  1.569065e+07   649.668329  38.511767  5.004587   \n",
       "Germany    5000.278996  1.569056e+07   651.453567  39.771622  5.009964   \n",
       "Spain      4950.667743  1.569192e+07   651.333872  38.890997  5.032297   \n",
       "\n",
       "                 Balance  NumOfProducts  HasCrCard  IsActiveMember  \\\n",
       "Geography                                                            \n",
       "France      62092.636516       1.530913   0.706621        0.516753   \n",
       "Germany    119730.116134       1.519729   0.713830        0.497409   \n",
       "Spain       61818.147763       1.539362   0.694792        0.529673   \n",
       "\n",
       "           EstimatedSalary    Exited  \n",
       "Geography                             \n",
       "France        99899.180814  0.161548  \n",
       "Germany      101113.435102  0.324432  \n",
       "Spain         99440.572281  0.166734  "
      ]
     },
     "execution_count": 4,
     "metadata": {},
     "output_type": "execute_result"
    }
   ],
   "source": [
    "data.groupby(['Geography']).mean()"
   ]
  },
  {
   "cell_type": "markdown",
   "metadata": {},
   "source": [
    "### Attributes explanation:\n",
    "\n",
    "- RowNumber: Row Numbers from 1 to 10000.\n",
    "- CustomerId: Unique Ids for bank customer identification.\n",
    "- Surname: Customer's last name.\n",
    "- CreditScore: Credit score of the customer.\n",
    "- Geography: The country from which the customer belongs.\n",
    "- Gender: Male or Female.\n",
    "- Age: Age of the customer. \n",
    "- Tenure: Number of years for which the customer has been with the bank.\n",
    "- Balance: Bank balance of the customer.\n",
    "- NumOfProducts: Number of bank products the customer is utilising.\n",
    "- HasCrCard: Binary Flag for whether the customer holds a credit card with the bank or not.\n",
    "- IsActiveMember: Binary Flag for whether the customer is an active member with the bank or not.\n",
    "- EstimatedSalary: Estimated salary of the customer in Dollars.\n",
    "- Exited: Binary flag 1 if the customer closed account with bank and 0 if the customer is retained."
   ]
  },
  {
   "cell_type": "markdown",
   "metadata": {},
   "source": [
    "### Basic Exploratory Of The Data - Quick Look at the Data Structure"
   ]
  },
  {
   "cell_type": "markdown",
   "metadata": {},
   "source": [
    "We want to check for unneccecery and problamatic columns that might need removal or normalization.\n",
    "\n",
    "Let's take a basic look about the columns."
   ]
  },
  {
   "cell_type": "code",
   "execution_count": 5,
   "metadata": {},
   "outputs": [
    {
     "name": "stdout",
     "output_type": "stream",
     "text": [
      "<class 'pandas.core.frame.DataFrame'>\n",
      "RangeIndex: 10000 entries, 0 to 9999\n",
      "Data columns (total 14 columns):\n",
      "RowNumber          10000 non-null int64\n",
      "CustomerId         10000 non-null int64\n",
      "Surname            10000 non-null object\n",
      "CreditScore        10000 non-null int64\n",
      "Geography          10000 non-null object\n",
      "Gender             10000 non-null object\n",
      "Age                10000 non-null int64\n",
      "Tenure             10000 non-null int64\n",
      "Balance            10000 non-null float64\n",
      "NumOfProducts      10000 non-null int64\n",
      "HasCrCard          10000 non-null int64\n",
      "IsActiveMember     10000 non-null int64\n",
      "EstimatedSalary    10000 non-null float64\n",
      "Exited             10000 non-null int64\n",
      "dtypes: float64(2), int64(9), object(3)\n",
      "memory usage: 1.1+ MB\n"
     ]
    }
   ],
   "source": [
    "data.info()"
   ]
  },
  {
   "cell_type": "markdown",
   "metadata": {},
   "source": [
    "The data is clean from null values, and is mostly conducted from numerical values.\n",
    "The columns that are conducted from Object values are:\n",
    "\n",
    "- Surname: Non-categorial so with no benefit for our reasearch.\n",
    "- Geography: Categorial, we will look further to see which ones.\n",
    "- Gender: Categorial, Males and Females."
   ]
  },
  {
   "cell_type": "code",
   "execution_count": 6,
   "metadata": {},
   "outputs": [
    {
     "data": {
      "text/plain": [
       "France     5014\n",
       "Germany    2509\n",
       "Spain      2477\n",
       "Name: Geography, dtype: int64"
      ]
     },
     "execution_count": 6,
     "metadata": {},
     "output_type": "execute_result"
    }
   ],
   "source": [
    "data['Geography'].value_counts()"
   ]
  },
  {
   "cell_type": "code",
   "execution_count": 7,
   "metadata": {},
   "outputs": [
    {
     "data": {
      "text/plain": [
       "Male      5457\n",
       "Female    4543\n",
       "Name: Gender, dtype: int64"
      ]
     },
     "execution_count": 7,
     "metadata": {},
     "output_type": "execute_result"
    }
   ],
   "source": [
    "data['Gender'].value_counts()"
   ]
  },
  {
   "cell_type": "markdown",
   "metadata": {},
   "source": [
    "We can see that our bank serves only three countries: mainly France, but also Germany and Spain. Also we can see most of it's customers are male."
   ]
  },
  {
   "cell_type": "code",
   "execution_count": 8,
   "metadata": {},
   "outputs": [
    {
     "data": {
      "text/html": [
       "<div>\n",
       "<style scoped>\n",
       "    .dataframe tbody tr th:only-of-type {\n",
       "        vertical-align: middle;\n",
       "    }\n",
       "\n",
       "    .dataframe tbody tr th {\n",
       "        vertical-align: top;\n",
       "    }\n",
       "\n",
       "    .dataframe thead th {\n",
       "        text-align: right;\n",
       "    }\n",
       "</style>\n",
       "<table border=\"1\" class=\"dataframe\">\n",
       "  <thead>\n",
       "    <tr style=\"text-align: right;\">\n",
       "      <th></th>\n",
       "      <th>RowNumber</th>\n",
       "      <th>CustomerId</th>\n",
       "      <th>CreditScore</th>\n",
       "      <th>Age</th>\n",
       "      <th>Tenure</th>\n",
       "      <th>Balance</th>\n",
       "      <th>NumOfProducts</th>\n",
       "      <th>HasCrCard</th>\n",
       "      <th>IsActiveMember</th>\n",
       "      <th>EstimatedSalary</th>\n",
       "      <th>Exited</th>\n",
       "    </tr>\n",
       "  </thead>\n",
       "  <tbody>\n",
       "    <tr>\n",
       "      <td>count</td>\n",
       "      <td>10000.00000</td>\n",
       "      <td>1.000000e+04</td>\n",
       "      <td>10000.000000</td>\n",
       "      <td>10000.000000</td>\n",
       "      <td>10000.000000</td>\n",
       "      <td>10000.000000</td>\n",
       "      <td>10000.000000</td>\n",
       "      <td>10000.00000</td>\n",
       "      <td>10000.000000</td>\n",
       "      <td>10000.000000</td>\n",
       "      <td>10000.000000</td>\n",
       "    </tr>\n",
       "    <tr>\n",
       "      <td>mean</td>\n",
       "      <td>5000.50000</td>\n",
       "      <td>1.569094e+07</td>\n",
       "      <td>650.528800</td>\n",
       "      <td>38.921800</td>\n",
       "      <td>5.012800</td>\n",
       "      <td>76485.889288</td>\n",
       "      <td>1.530200</td>\n",
       "      <td>0.70550</td>\n",
       "      <td>0.515100</td>\n",
       "      <td>100090.239881</td>\n",
       "      <td>0.203700</td>\n",
       "    </tr>\n",
       "    <tr>\n",
       "      <td>std</td>\n",
       "      <td>2886.89568</td>\n",
       "      <td>7.193619e+04</td>\n",
       "      <td>96.653299</td>\n",
       "      <td>10.487806</td>\n",
       "      <td>2.892174</td>\n",
       "      <td>62397.405202</td>\n",
       "      <td>0.581654</td>\n",
       "      <td>0.45584</td>\n",
       "      <td>0.499797</td>\n",
       "      <td>57510.492818</td>\n",
       "      <td>0.402769</td>\n",
       "    </tr>\n",
       "    <tr>\n",
       "      <td>min</td>\n",
       "      <td>1.00000</td>\n",
       "      <td>1.556570e+07</td>\n",
       "      <td>350.000000</td>\n",
       "      <td>18.000000</td>\n",
       "      <td>0.000000</td>\n",
       "      <td>0.000000</td>\n",
       "      <td>1.000000</td>\n",
       "      <td>0.00000</td>\n",
       "      <td>0.000000</td>\n",
       "      <td>11.580000</td>\n",
       "      <td>0.000000</td>\n",
       "    </tr>\n",
       "    <tr>\n",
       "      <td>25%</td>\n",
       "      <td>2500.75000</td>\n",
       "      <td>1.562853e+07</td>\n",
       "      <td>584.000000</td>\n",
       "      <td>32.000000</td>\n",
       "      <td>3.000000</td>\n",
       "      <td>0.000000</td>\n",
       "      <td>1.000000</td>\n",
       "      <td>0.00000</td>\n",
       "      <td>0.000000</td>\n",
       "      <td>51002.110000</td>\n",
       "      <td>0.000000</td>\n",
       "    </tr>\n",
       "    <tr>\n",
       "      <td>50%</td>\n",
       "      <td>5000.50000</td>\n",
       "      <td>1.569074e+07</td>\n",
       "      <td>652.000000</td>\n",
       "      <td>37.000000</td>\n",
       "      <td>5.000000</td>\n",
       "      <td>97198.540000</td>\n",
       "      <td>1.000000</td>\n",
       "      <td>1.00000</td>\n",
       "      <td>1.000000</td>\n",
       "      <td>100193.915000</td>\n",
       "      <td>0.000000</td>\n",
       "    </tr>\n",
       "    <tr>\n",
       "      <td>75%</td>\n",
       "      <td>7500.25000</td>\n",
       "      <td>1.575323e+07</td>\n",
       "      <td>718.000000</td>\n",
       "      <td>44.000000</td>\n",
       "      <td>7.000000</td>\n",
       "      <td>127644.240000</td>\n",
       "      <td>2.000000</td>\n",
       "      <td>1.00000</td>\n",
       "      <td>1.000000</td>\n",
       "      <td>149388.247500</td>\n",
       "      <td>0.000000</td>\n",
       "    </tr>\n",
       "    <tr>\n",
       "      <td>max</td>\n",
       "      <td>10000.00000</td>\n",
       "      <td>1.581569e+07</td>\n",
       "      <td>850.000000</td>\n",
       "      <td>92.000000</td>\n",
       "      <td>10.000000</td>\n",
       "      <td>250898.090000</td>\n",
       "      <td>4.000000</td>\n",
       "      <td>1.00000</td>\n",
       "      <td>1.000000</td>\n",
       "      <td>199992.480000</td>\n",
       "      <td>1.000000</td>\n",
       "    </tr>\n",
       "  </tbody>\n",
       "</table>\n",
       "</div>"
      ],
      "text/plain": [
       "         RowNumber    CustomerId   CreditScore           Age        Tenure  \\\n",
       "count  10000.00000  1.000000e+04  10000.000000  10000.000000  10000.000000   \n",
       "mean    5000.50000  1.569094e+07    650.528800     38.921800      5.012800   \n",
       "std     2886.89568  7.193619e+04     96.653299     10.487806      2.892174   \n",
       "min        1.00000  1.556570e+07    350.000000     18.000000      0.000000   \n",
       "25%     2500.75000  1.562853e+07    584.000000     32.000000      3.000000   \n",
       "50%     5000.50000  1.569074e+07    652.000000     37.000000      5.000000   \n",
       "75%     7500.25000  1.575323e+07    718.000000     44.000000      7.000000   \n",
       "max    10000.00000  1.581569e+07    850.000000     92.000000     10.000000   \n",
       "\n",
       "             Balance  NumOfProducts    HasCrCard  IsActiveMember  \\\n",
       "count   10000.000000   10000.000000  10000.00000    10000.000000   \n",
       "mean    76485.889288       1.530200      0.70550        0.515100   \n",
       "std     62397.405202       0.581654      0.45584        0.499797   \n",
       "min         0.000000       1.000000      0.00000        0.000000   \n",
       "25%         0.000000       1.000000      0.00000        0.000000   \n",
       "50%     97198.540000       1.000000      1.00000        1.000000   \n",
       "75%    127644.240000       2.000000      1.00000        1.000000   \n",
       "max    250898.090000       4.000000      1.00000        1.000000   \n",
       "\n",
       "       EstimatedSalary        Exited  \n",
       "count     10000.000000  10000.000000  \n",
       "mean     100090.239881      0.203700  \n",
       "std       57510.492818      0.402769  \n",
       "min          11.580000      0.000000  \n",
       "25%       51002.110000      0.000000  \n",
       "50%      100193.915000      0.000000  \n",
       "75%      149388.247500      0.000000  \n",
       "max      199992.480000      1.000000  "
      ]
     },
     "execution_count": 8,
     "metadata": {},
     "output_type": "execute_result"
    }
   ],
   "source": [
    "data.describe()"
   ]
  },
  {
   "cell_type": "code",
   "execution_count": 9,
   "metadata": {},
   "outputs": [
    {
     "data": {
      "image/png": "[encoded data removed]",
      "text/plain": [
       "<Figure size 1440x1080 with 12 Axes>"
      ]
     },
     "metadata": {
      "needs_background": "light"
     },
     "output_type": "display_data"
    }
   ],
   "source": [
    "data.hist(bins=40, figsize=(20,15))\n",
    "plt.show()"
   ]
  },
  {
   "cell_type": "markdown",
   "metadata": {},
   "source": [
    "Describing the data starts reavilling more intresting insights about the numerical features but we will go deeper on that later.\n",
    "\n",
    "For now, we can notice:\n",
    "\n",
    "- Age, is a bit long-tail.\n",
    "- Balance might have an outlier.\n",
    "- Estimated Salary, IsActiveMember and Tenure are spread pretty even.\n",
    "- Most customers did not exit.\n",
    "- Most customers has a credit card.\n",
    "- Almost all customers are using 1-2 products."
   ]
  },
  {
   "cell_type": "markdown",
   "metadata": {},
   "source": [
    "### Cleaning The Data"
   ]
  },
  {
   "cell_type": "markdown",
   "metadata": {},
   "source": [
    "I will drop completely useless columns."
   ]
  },
  {
   "cell_type": "code",
   "execution_count": 10,
   "metadata": {},
   "outputs": [],
   "source": [
    "# 'og_data' => original data. keeping a copy of the original data.\n",
    "og_data = data\n",
    "data.drop(['CustomerId','RowNumber','Surname'], axis=1, inplace=True)"
   ]
  },
  {
   "cell_type": "code",
   "execution_count": 11,
   "metadata": {},
   "outputs": [
    {
     "name": "stdout",
     "output_type": "stream",
     "text": [
      "<class 'pandas.core.frame.DataFrame'>\n",
      "RangeIndex: 10000 entries, 0 to 9999\n",
      "Data columns (total 11 columns):\n",
      "CreditScore        10000 non-null int64\n",
      "Geography          10000 non-null object\n",
      "Gender             10000 non-null object\n",
      "Age                10000 non-null int64\n",
      "Tenure             10000 non-null int64\n",
      "Balance            10000 non-null float64\n",
      "NumOfProducts      10000 non-null int64\n",
      "HasCrCard          10000 non-null int64\n",
      "IsActiveMember     10000 non-null int64\n",
      "EstimatedSalary    10000 non-null float64\n",
      "Exited             10000 non-null int64\n",
      "dtypes: float64(2), int64(7), object(2)\n",
      "memory usage: 859.5+ KB\n"
     ]
    }
   ],
   "source": [
    "data.info()"
   ]
  },
  {
   "cell_type": "markdown",
   "metadata": {},
   "source": [
    "### Converting Object Columns to Numerical"
   ]
  },
  {
   "cell_type": "code",
   "execution_count": 12,
   "metadata": {},
   "outputs": [
    {
     "data": {
      "text/html": [
       "<div>\n",
       "<style scoped>\n",
       "    .dataframe tbody tr th:only-of-type {\n",
       "        vertical-align: middle;\n",
       "    }\n",
       "\n",
       "    .dataframe tbody tr th {\n",
       "        vertical-align: top;\n",
       "    }\n",
       "\n",
       "    .dataframe thead th {\n",
       "        text-align: right;\n",
       "    }\n",
       "</style>\n",
       "<table border=\"1\" class=\"dataframe\">\n",
       "  <thead>\n",
       "    <tr style=\"text-align: right;\">\n",
       "      <th></th>\n",
       "      <th>CreditScore</th>\n",
       "      <th>Age</th>\n",
       "      <th>Tenure</th>\n",
       "      <th>Balance</th>\n",
       "      <th>NumOfProducts</th>\n",
       "      <th>HasCrCard</th>\n",
       "      <th>IsActiveMember</th>\n",
       "      <th>EstimatedSalary</th>\n",
       "      <th>Exited</th>\n",
       "      <th>Geo_dummy_France</th>\n",
       "      <th>Geo_dummy_Germany</th>\n",
       "      <th>Geo_dummy_Spain</th>\n",
       "      <th>Gender</th>\n",
       "    </tr>\n",
       "  </thead>\n",
       "  <tbody>\n",
       "    <tr>\n",
       "      <td>0</td>\n",
       "      <td>619</td>\n",
       "      <td>42</td>\n",
       "      <td>2</td>\n",
       "      <td>0.00</td>\n",
       "      <td>1</td>\n",
       "      <td>1</td>\n",
       "      <td>1</td>\n",
       "      <td>101348.88</td>\n",
       "      <td>1</td>\n",
       "      <td>1</td>\n",
       "      <td>0</td>\n",
       "      <td>0</td>\n",
       "      <td>0</td>\n",
       "    </tr>\n",
       "    <tr>\n",
       "      <td>1</td>\n",
       "      <td>608</td>\n",
       "      <td>41</td>\n",
       "      <td>1</td>\n",
       "      <td>83807.86</td>\n",
       "      <td>1</td>\n",
       "      <td>0</td>\n",
       "      <td>1</td>\n",
       "      <td>112542.58</td>\n",
       "      <td>0</td>\n",
       "      <td>0</td>\n",
       "      <td>0</td>\n",
       "      <td>1</td>\n",
       "      <td>0</td>\n",
       "    </tr>\n",
       "    <tr>\n",
       "      <td>2</td>\n",
       "      <td>502</td>\n",
       "      <td>42</td>\n",
       "      <td>8</td>\n",
       "      <td>159660.80</td>\n",
       "      <td>3</td>\n",
       "      <td>1</td>\n",
       "      <td>0</td>\n",
       "      <td>113931.57</td>\n",
       "      <td>1</td>\n",
       "      <td>1</td>\n",
       "      <td>0</td>\n",
       "      <td>0</td>\n",
       "      <td>0</td>\n",
       "    </tr>\n",
       "    <tr>\n",
       "      <td>3</td>\n",
       "      <td>699</td>\n",
       "      <td>39</td>\n",
       "      <td>1</td>\n",
       "      <td>0.00</td>\n",
       "      <td>2</td>\n",
       "      <td>0</td>\n",
       "      <td>0</td>\n",
       "      <td>93826.63</td>\n",
       "      <td>0</td>\n",
       "      <td>1</td>\n",
       "      <td>0</td>\n",
       "      <td>0</td>\n",
       "      <td>0</td>\n",
       "    </tr>\n",
       "    <tr>\n",
       "      <td>4</td>\n",
       "      <td>850</td>\n",
       "      <td>43</td>\n",
       "      <td>2</td>\n",
       "      <td>125510.82</td>\n",
       "      <td>1</td>\n",
       "      <td>1</td>\n",
       "      <td>1</td>\n",
       "      <td>79084.10</td>\n",
       "      <td>0</td>\n",
       "      <td>0</td>\n",
       "      <td>0</td>\n",
       "      <td>1</td>\n",
       "      <td>0</td>\n",
       "    </tr>\n",
       "    <tr>\n",
       "      <td>...</td>\n",
       "      <td>...</td>\n",
       "      <td>...</td>\n",
       "      <td>...</td>\n",
       "      <td>...</td>\n",
       "      <td>...</td>\n",
       "      <td>...</td>\n",
       "      <td>...</td>\n",
       "      <td>...</td>\n",
       "      <td>...</td>\n",
       "      <td>...</td>\n",
       "      <td>...</td>\n",
       "      <td>...</td>\n",
       "      <td>...</td>\n",
       "    </tr>\n",
       "    <tr>\n",
       "      <td>9995</td>\n",
       "      <td>771</td>\n",
       "      <td>39</td>\n",
       "      <td>5</td>\n",
       "      <td>0.00</td>\n",
       "      <td>2</td>\n",
       "      <td>1</td>\n",
       "      <td>0</td>\n",
       "      <td>96270.64</td>\n",
       "      <td>0</td>\n",
       "      <td>1</td>\n",
       "      <td>0</td>\n",
       "      <td>0</td>\n",
       "      <td>1</td>\n",
       "    </tr>\n",
       "    <tr>\n",
       "      <td>9996</td>\n",
       "      <td>516</td>\n",
       "      <td>35</td>\n",
       "      <td>10</td>\n",
       "      <td>57369.61</td>\n",
       "      <td>1</td>\n",
       "      <td>1</td>\n",
       "      <td>1</td>\n",
       "      <td>101699.77</td>\n",
       "      <td>0</td>\n",
       "      <td>1</td>\n",
       "      <td>0</td>\n",
       "      <td>0</td>\n",
       "      <td>1</td>\n",
       "    </tr>\n",
       "    <tr>\n",
       "      <td>9997</td>\n",
       "      <td>709</td>\n",
       "      <td>36</td>\n",
       "      <td>7</td>\n",
       "      <td>0.00</td>\n",
       "      <td>1</td>\n",
       "      <td>0</td>\n",
       "      <td>1</td>\n",
       "      <td>42085.58</td>\n",
       "      <td>1</td>\n",
       "      <td>1</td>\n",
       "      <td>0</td>\n",
       "      <td>0</td>\n",
       "      <td>0</td>\n",
       "    </tr>\n",
       "    <tr>\n",
       "      <td>9998</td>\n",
       "      <td>772</td>\n",
       "      <td>42</td>\n",
       "      <td>3</td>\n",
       "      <td>75075.31</td>\n",
       "      <td>2</td>\n",
       "      <td>1</td>\n",
       "      <td>0</td>\n",
       "      <td>92888.52</td>\n",
       "      <td>1</td>\n",
       "      <td>0</td>\n",
       "      <td>1</td>\n",
       "      <td>0</td>\n",
       "      <td>1</td>\n",
       "    </tr>\n",
       "    <tr>\n",
       "      <td>9999</td>\n",
       "      <td>792</td>\n",
       "      <td>28</td>\n",
       "      <td>4</td>\n",
       "      <td>130142.79</td>\n",
       "      <td>1</td>\n",
       "      <td>1</td>\n",
       "      <td>0</td>\n",
       "      <td>38190.78</td>\n",
       "      <td>0</td>\n",
       "      <td>1</td>\n",
       "      <td>0</td>\n",
       "      <td>0</td>\n",
       "      <td>0</td>\n",
       "    </tr>\n",
       "  </tbody>\n",
       "</table>\n",
       "<p>10000 rows × 13 columns</p>\n",
       "</div>"
      ],
      "text/plain": [
       "      CreditScore  Age  Tenure    Balance  NumOfProducts  HasCrCard  \\\n",
       "0             619   42       2       0.00              1          1   \n",
       "1             608   41       1   83807.86              1          0   \n",
       "2             502   42       8  159660.80              3          1   \n",
       "3             699   39       1       0.00              2          0   \n",
       "4             850   43       2  125510.82              1          1   \n",
       "...           ...  ...     ...        ...            ...        ...   \n",
       "9995          771   39       5       0.00              2          1   \n",
       "9996          516   35      10   57369.61              1          1   \n",
       "9997          709   36       7       0.00              1          0   \n",
       "9998          772   42       3   75075.31              2          1   \n",
       "9999          792   28       4  130142.79              1          1   \n",
       "\n",
       "      IsActiveMember  EstimatedSalary  Exited  Geo_dummy_France  \\\n",
       "0                  1        101348.88       1                 1   \n",
       "1                  1        112542.58       0                 0   \n",
       "2                  0        113931.57       1                 1   \n",
       "3                  0         93826.63       0                 1   \n",
       "4                  1         79084.10       0                 0   \n",
       "...              ...              ...     ...               ...   \n",
       "9995               0         96270.64       0                 1   \n",
       "9996               1        101699.77       0                 1   \n",
       "9997               1         42085.58       1                 1   \n",
       "9998               0         92888.52       1                 0   \n",
       "9999               0         38190.78       0                 1   \n",
       "\n",
       "      Geo_dummy_Germany  Geo_dummy_Spain  Gender  \n",
       "0                     0                0       0  \n",
       "1                     0                1       0  \n",
       "2                     0                0       0  \n",
       "3                     0                0       0  \n",
       "4                     0                1       0  \n",
       "...                 ...              ...     ...  \n",
       "9995                  0                0       1  \n",
       "9996                  0                0       1  \n",
       "9997                  0                0       0  \n",
       "9998                  1                0       1  \n",
       "9999                  0                0       0  \n",
       "\n",
       "[10000 rows x 13 columns]"
      ]
     },
     "execution_count": 12,
     "metadata": {},
     "output_type": "execute_result"
    }
   ],
   "source": [
    "gender_dummies = pd.get_dummies(data['Gender'])\n",
    "geo_dummies = pd.get_dummies(data['Geography'], prefix = \"Geo_dummy\")\n",
    "data = pd.concat([data, geo_dummies, gender_dummies], axis = 1)\n",
    "data.drop(['Geography', 'Gender', 'Female'],axis = 1, inplace=True)\n",
    "data.rename(columns={'Male': 'Gender'}, inplace=True)\n",
    "data"
   ]
  },
  {
   "cell_type": "markdown",
   "metadata": {},
   "source": [
    "Rearange for the columns order:"
   ]
  },
  {
   "cell_type": "code",
   "execution_count": 13,
   "metadata": {},
   "outputs": [
    {
     "data": {
      "text/plain": [
       "['CreditScore',\n",
       " 'Age',\n",
       " 'Tenure',\n",
       " 'Balance',\n",
       " 'NumOfProducts',\n",
       " 'HasCrCard',\n",
       " 'IsActiveMember',\n",
       " 'EstimatedSalary',\n",
       " 'Exited',\n",
       " 'Geo_dummy_France',\n",
       " 'Geo_dummy_Germany',\n",
       " 'Geo_dummy_Spain',\n",
       " 'Gender']"
      ]
     },
     "execution_count": 13,
     "metadata": {},
     "output_type": "execute_result"
    }
   ],
   "source": [
    "list(data.columns.values)"
   ]
  },
  {
   "cell_type": "code",
   "execution_count": 14,
   "metadata": {},
   "outputs": [
    {
     "data": {
      "text/html": [
       "<div>\n",
       "<style scoped>\n",
       "    .dataframe tbody tr th:only-of-type {\n",
       "        vertical-align: middle;\n",
       "    }\n",
       "\n",
       "    .dataframe tbody tr th {\n",
       "        vertical-align: top;\n",
       "    }\n",
       "\n",
       "    .dataframe thead th {\n",
       "        text-align: right;\n",
       "    }\n",
       "</style>\n",
       "<table border=\"1\" class=\"dataframe\">\n",
       "  <thead>\n",
       "    <tr style=\"text-align: right;\">\n",
       "      <th></th>\n",
       "      <th>CreditScore</th>\n",
       "      <th>Gender</th>\n",
       "      <th>Age</th>\n",
       "      <th>Tenure</th>\n",
       "      <th>Balance</th>\n",
       "      <th>NumOfProducts</th>\n",
       "      <th>HasCrCard</th>\n",
       "      <th>IsActiveMember</th>\n",
       "      <th>EstimatedSalary</th>\n",
       "      <th>Geo_dummy_France</th>\n",
       "      <th>Geo_dummy_Germany</th>\n",
       "      <th>Geo_dummy_Spain</th>\n",
       "      <th>Exited</th>\n",
       "    </tr>\n",
       "  </thead>\n",
       "  <tbody>\n",
       "    <tr>\n",
       "      <td>0</td>\n",
       "      <td>619</td>\n",
       "      <td>0</td>\n",
       "      <td>42</td>\n",
       "      <td>2</td>\n",
       "      <td>0.00</td>\n",
       "      <td>1</td>\n",
       "      <td>1</td>\n",
       "      <td>1</td>\n",
       "      <td>101348.88</td>\n",
       "      <td>1</td>\n",
       "      <td>0</td>\n",
       "      <td>0</td>\n",
       "      <td>1</td>\n",
       "    </tr>\n",
       "    <tr>\n",
       "      <td>1</td>\n",
       "      <td>608</td>\n",
       "      <td>0</td>\n",
       "      <td>41</td>\n",
       "      <td>1</td>\n",
       "      <td>83807.86</td>\n",
       "      <td>1</td>\n",
       "      <td>0</td>\n",
       "      <td>1</td>\n",
       "      <td>112542.58</td>\n",
       "      <td>0</td>\n",
       "      <td>0</td>\n",
       "      <td>1</td>\n",
       "      <td>0</td>\n",
       "    </tr>\n",
       "    <tr>\n",
       "      <td>2</td>\n",
       "      <td>502</td>\n",
       "      <td>0</td>\n",
       "      <td>42</td>\n",
       "      <td>8</td>\n",
       "      <td>159660.80</td>\n",
       "      <td>3</td>\n",
       "      <td>1</td>\n",
       "      <td>0</td>\n",
       "      <td>113931.57</td>\n",
       "      <td>1</td>\n",
       "      <td>0</td>\n",
       "      <td>0</td>\n",
       "      <td>1</td>\n",
       "    </tr>\n",
       "    <tr>\n",
       "      <td>3</td>\n",
       "      <td>699</td>\n",
       "      <td>0</td>\n",
       "      <td>39</td>\n",
       "      <td>1</td>\n",
       "      <td>0.00</td>\n",
       "      <td>2</td>\n",
       "      <td>0</td>\n",
       "      <td>0</td>\n",
       "      <td>93826.63</td>\n",
       "      <td>1</td>\n",
       "      <td>0</td>\n",
       "      <td>0</td>\n",
       "      <td>0</td>\n",
       "    </tr>\n",
       "    <tr>\n",
       "      <td>4</td>\n",
       "      <td>850</td>\n",
       "      <td>0</td>\n",
       "      <td>43</td>\n",
       "      <td>2</td>\n",
       "      <td>125510.82</td>\n",
       "      <td>1</td>\n",
       "      <td>1</td>\n",
       "      <td>1</td>\n",
       "      <td>79084.10</td>\n",
       "      <td>0</td>\n",
       "      <td>0</td>\n",
       "      <td>1</td>\n",
       "      <td>0</td>\n",
       "    </tr>\n",
       "    <tr>\n",
       "      <td>...</td>\n",
       "      <td>...</td>\n",
       "      <td>...</td>\n",
       "      <td>...</td>\n",
       "      <td>...</td>\n",
       "      <td>...</td>\n",
       "      <td>...</td>\n",
       "      <td>...</td>\n",
       "      <td>...</td>\n",
       "      <td>...</td>\n",
       "      <td>...</td>\n",
       "      <td>...</td>\n",
       "      <td>...</td>\n",
       "      <td>...</td>\n",
       "    </tr>\n",
       "    <tr>\n",
       "      <td>9995</td>\n",
       "      <td>771</td>\n",
       "      <td>1</td>\n",
       "      <td>39</td>\n",
       "      <td>5</td>\n",
       "      <td>0.00</td>\n",
       "      <td>2</td>\n",
       "      <td>1</td>\n",
       "      <td>0</td>\n",
       "      <td>96270.64</td>\n",
       "      <td>1</td>\n",
       "      <td>0</td>\n",
       "      <td>0</td>\n",
       "      <td>0</td>\n",
       "    </tr>\n",
       "    <tr>\n",
       "      <td>9996</td>\n",
       "      <td>516</td>\n",
       "      <td>1</td>\n",
       "      <td>35</td>\n",
       "      <td>10</td>\n",
       "      <td>57369.61</td>\n",
       "      <td>1</td>\n",
       "      <td>1</td>\n",
       "      <td>1</td>\n",
       "      <td>101699.77</td>\n",
       "      <td>1</td>\n",
       "      <td>0</td>\n",
       "      <td>0</td>\n",
       "      <td>0</td>\n",
       "    </tr>\n",
       "    <tr>\n",
       "      <td>9997</td>\n",
       "      <td>709</td>\n",
       "      <td>0</td>\n",
       "      <td>36</td>\n",
       "      <td>7</td>\n",
       "      <td>0.00</td>\n",
       "      <td>1</td>\n",
       "      <td>0</td>\n",
       "      <td>1</td>\n",
       "      <td>42085.58</td>\n",
       "      <td>1</td>\n",
       "      <td>0</td>\n",
       "      <td>0</td>\n",
       "      <td>1</td>\n",
       "    </tr>\n",
       "    <tr>\n",
       "      <td>9998</td>\n",
       "      <td>772</td>\n",
       "      <td>1</td>\n",
       "      <td>42</td>\n",
       "      <td>3</td>\n",
       "      <td>75075.31</td>\n",
       "      <td>2</td>\n",
       "      <td>1</td>\n",
       "      <td>0</td>\n",
       "      <td>92888.52</td>\n",
       "      <td>0</td>\n",
       "      <td>1</td>\n",
       "      <td>0</td>\n",
       "      <td>1</td>\n",
       "    </tr>\n",
       "    <tr>\n",
       "      <td>9999</td>\n",
       "      <td>792</td>\n",
       "      <td>0</td>\n",
       "      <td>28</td>\n",
       "      <td>4</td>\n",
       "      <td>130142.79</td>\n",
       "      <td>1</td>\n",
       "      <td>1</td>\n",
       "      <td>0</td>\n",
       "      <td>38190.78</td>\n",
       "      <td>1</td>\n",
       "      <td>0</td>\n",
       "      <td>0</td>\n",
       "      <td>0</td>\n",
       "    </tr>\n",
       "  </tbody>\n",
       "</table>\n",
       "<p>10000 rows × 13 columns</p>\n",
       "</div>"
      ],
      "text/plain": [
       "      CreditScore  Gender  Age  Tenure    Balance  NumOfProducts  HasCrCard  \\\n",
       "0             619       0   42       2       0.00              1          1   \n",
       "1             608       0   41       1   83807.86              1          0   \n",
       "2             502       0   42       8  159660.80              3          1   \n",
       "3             699       0   39       1       0.00              2          0   \n",
       "4             850       0   43       2  125510.82              1          1   \n",
       "...           ...     ...  ...     ...        ...            ...        ...   \n",
       "9995          771       1   39       5       0.00              2          1   \n",
       "9996          516       1   35      10   57369.61              1          1   \n",
       "9997          709       0   36       7       0.00              1          0   \n",
       "9998          772       1   42       3   75075.31              2          1   \n",
       "9999          792       0   28       4  130142.79              1          1   \n",
       "\n",
       "      IsActiveMember  EstimatedSalary  Geo_dummy_France  Geo_dummy_Germany  \\\n",
       "0                  1        101348.88                 1                  0   \n",
       "1                  1        112542.58                 0                  0   \n",
       "2                  0        113931.57                 1                  0   \n",
       "3                  0         93826.63                 1                  0   \n",
       "4                  1         79084.10                 0                  0   \n",
       "...              ...              ...               ...                ...   \n",
       "9995               0         96270.64                 1                  0   \n",
       "9996               1        101699.77                 1                  0   \n",
       "9997               1         42085.58                 1                  0   \n",
       "9998               0         92888.52                 0                  1   \n",
       "9999               0         38190.78                 1                  0   \n",
       "\n",
       "      Geo_dummy_Spain  Exited  \n",
       "0                   0       1  \n",
       "1                   1       0  \n",
       "2                   0       1  \n",
       "3                   0       0  \n",
       "4                   1       0  \n",
       "...               ...     ...  \n",
       "9995                0       0  \n",
       "9996                0       0  \n",
       "9997                0       1  \n",
       "9998                0       1  \n",
       "9999                0       0  \n",
       "\n",
       "[10000 rows x 13 columns]"
      ]
     },
     "execution_count": 14,
     "metadata": {},
     "output_type": "execute_result"
    }
   ],
   "source": [
    "data = data[[\n",
    " 'CreditScore',\n",
    " 'Gender',\n",
    " 'Age',\n",
    " 'Tenure',\n",
    " 'Balance',\n",
    " 'NumOfProducts',\n",
    " 'HasCrCard',\n",
    " 'IsActiveMember',\n",
    " 'EstimatedSalary',\n",
    " 'Geo_dummy_France',\n",
    " 'Geo_dummy_Germany',\n",
    " 'Geo_dummy_Spain',\n",
    " 'Exited'\n",
    "]]\n",
    "data"
   ]
  },
  {
   "cell_type": "markdown",
   "metadata": {},
   "source": [
    "## 2) Analyze, identify patterns, and explore the data"
   ]
  },
  {
   "cell_type": "markdown",
   "metadata": {},
   "source": [
    "Now that we have our data basicly ready to work with, we can examn it more closly to have deeper understanding of the data, analyzing, looking for patterns, corralations and finaly deciding which features are relavent to us and which models to develop."
   ]
  },
  {
   "cell_type": "markdown",
   "metadata": {},
   "source": [
    "### Looking for outliers\n",
    "\n",
    "We can use boxplot to detect pretty easily if there is any outliers in any of our attributes."
   ]
  },
  {
   "cell_type": "code",
   "execution_count": 15,
   "metadata": {
    "scrolled": true
   },
   "outputs": [
    {
     "data": {
      "image/png": "[encoded data removed]",
      "text/plain": [
       "<Figure size 1440x1440 with 13 Axes>"
      ]
     },
     "metadata": {
      "needs_background": "light"
     },
     "output_type": "display_data"
    }
   ],
   "source": [
    "cols = list(data.columns)\n",
    "\n",
    "a = 4  # number of rows\n",
    "b = 4  # number of columns\n",
    "c = 1  # initialize plot counter\n",
    "\n",
    "fig = plt.figure(figsize=(20,20))\n",
    "\n",
    "for i in cols:\n",
    "    plt.subplot(a, b, c)\n",
    "    sns.boxplot(x=data[i])\n",
    "    c += 1\n",
    "\n",
    "plt.show()"
   ]
  },
  {
   "cell_type": "markdown",
   "metadata": {},
   "source": [
    "Even we might see tiny exceptions in some attributes, they are not real outliers. When we look closer in each of them and considering the scale of each of them, then we see the \"exceptions\" are not far enough, so there are no real outliers for us to remove."
   ]
  },
  {
   "cell_type": "markdown",
   "metadata": {},
   "source": [
    "### Features Correlation Matrix\n",
    "\n",
    "I want to start with a simple correlation matrix to look for noticeable correlation between features, and in particular, between features to the 'Exited' value."
   ]
  },
  {
   "cell_type": "code",
   "execution_count": 16,
   "metadata": {},
   "outputs": [
    {
     "data": {
      "text/html": [
       "<style  type=\"text/css\" >\n",
       "    #T_0b82fc28_0b61_11ec_b163_04ed33c19f61row0_col0 {\n",
       "            background-color:  #fde725;\n",
       "            color:  #000000;\n",
       "        }    #T_0b82fc28_0b61_11ec_b163_04ed33c19f61row0_col1 {\n",
       "            background-color:  #2d708e;\n",
       "            color:  #f1f1f1;\n",
       "        }    #T_0b82fc28_0b61_11ec_b163_04ed33c19f61row0_col2 {\n",
       "            background-color:  #2d708e;\n",
       "            color:  #f1f1f1;\n",
       "        }    #T_0b82fc28_0b61_11ec_b163_04ed33c19f61row0_col3 {\n",
       "            background-color:  #2d718e;\n",
       "            color:  #f1f1f1;\n",
       "        }    #T_0b82fc28_0b61_11ec_b163_04ed33c19f61row0_col4 {\n",
       "            background-color:  #2c718e;\n",
       "            color:  #f1f1f1;\n",
       "        }    #T_0b82fc28_0b61_11ec_b163_04ed33c19f61row0_col5 {\n",
       "            background-color:  #2c718e;\n",
       "            color:  #f1f1f1;\n",
       "        }    #T_0b82fc28_0b61_11ec_b163_04ed33c19f61row0_col6 {\n",
       "            background-color:  #2d708e;\n",
       "            color:  #f1f1f1;\n",
       "        }    #T_0b82fc28_0b61_11ec_b163_04ed33c19f61row0_col7 {\n",
       "            background-color:  #2b748e;\n",
       "            color:  #f1f1f1;\n",
       "        }    #T_0b82fc28_0b61_11ec_b163_04ed33c19f61row0_col8 {\n",
       "            background-color:  #2d708e;\n",
       "            color:  #f1f1f1;\n",
       "        }    #T_0b82fc28_0b61_11ec_b163_04ed33c19f61row0_col9 {\n",
       "            background-color:  #2e6f8e;\n",
       "            color:  #f1f1f1;\n",
       "        }    #T_0b82fc28_0b61_11ec_b163_04ed33c19f61row0_col10 {\n",
       "            background-color:  #2d718e;\n",
       "            color:  #f1f1f1;\n",
       "        }    #T_0b82fc28_0b61_11ec_b163_04ed33c19f61row0_col11 {\n",
       "            background-color:  #2d718e;\n",
       "            color:  #f1f1f1;\n",
       "        }    #T_0b82fc28_0b61_11ec_b163_04ed33c19f61row0_col12 {\n",
       "            background-color:  #2f6c8e;\n",
       "            color:  #f1f1f1;\n",
       "        }    #T_0b82fc28_0b61_11ec_b163_04ed33c19f61row1_col0 {\n",
       "            background-color:  #2d708e;\n",
       "            color:  #f1f1f1;\n",
       "        }    #T_0b82fc28_0b61_11ec_b163_04ed33c19f61row1_col1 {\n",
       "            background-color:  #fde725;\n",
       "            color:  #000000;\n",
       "        }    #T_0b82fc28_0b61_11ec_b163_04ed33c19f61row1_col2 {\n",
       "            background-color:  #2f6c8e;\n",
       "            color:  #f1f1f1;\n",
       "        }    #T_0b82fc28_0b61_11ec_b163_04ed33c19f61row1_col3 {\n",
       "            background-color:  #2c728e;\n",
       "            color:  #f1f1f1;\n",
       "        }    #T_0b82fc28_0b61_11ec_b163_04ed33c19f61row1_col4 {\n",
       "            background-color:  #2c718e;\n",
       "            color:  #f1f1f1;\n",
       "        }    #T_0b82fc28_0b61_11ec_b163_04ed33c19f61row1_col5 {\n",
       "            background-color:  #2e6d8e;\n",
       "            color:  #f1f1f1;\n",
       "        }    #T_0b82fc28_0b61_11ec_b163_04ed33c19f61row1_col6 {\n",
       "            background-color:  #2d718e;\n",
       "            color:  #f1f1f1;\n",
       "        }    #T_0b82fc28_0b61_11ec_b163_04ed33c19f61row1_col7 {\n",
       "            background-color:  #2c738e;\n",
       "            color:  #f1f1f1;\n",
       "        }    #T_0b82fc28_0b61_11ec_b163_04ed33c19f61row1_col8 {\n",
       "            background-color:  #2e6f8e;\n",
       "            color:  #f1f1f1;\n",
       "        }    #T_0b82fc28_0b61_11ec_b163_04ed33c19f61row1_col9 {\n",
       "            background-color:  #2c718e;\n",
       "            color:  #f1f1f1;\n",
       "        }    #T_0b82fc28_0b61_11ec_b163_04ed33c19f61row1_col10 {\n",
       "            background-color:  #2e6d8e;\n",
       "            color:  #f1f1f1;\n",
       "        }    #T_0b82fc28_0b61_11ec_b163_04ed33c19f61row1_col11 {\n",
       "            background-color:  #2c728e;\n",
       "            color:  #f1f1f1;\n",
       "        }    #T_0b82fc28_0b61_11ec_b163_04ed33c19f61row1_col12 {\n",
       "            background-color:  #355f8d;\n",
       "            color:  #f1f1f1;\n",
       "        }    #T_0b82fc28_0b61_11ec_b163_04ed33c19f61row2_col0 {\n",
       "            background-color:  #2d708e;\n",
       "            color:  #f1f1f1;\n",
       "        }    #T_0b82fc28_0b61_11ec_b163_04ed33c19f61row2_col1 {\n",
       "            background-color:  #2f6c8e;\n",
       "            color:  #f1f1f1;\n",
       "        }    #T_0b82fc28_0b61_11ec_b163_04ed33c19f61row2_col2 {\n",
       "            background-color:  #fde725;\n",
       "            color:  #000000;\n",
       "        }    #T_0b82fc28_0b61_11ec_b163_04ed33c19f61row2_col3 {\n",
       "            background-color:  #2e6f8e;\n",
       "            color:  #f1f1f1;\n",
       "        }    #T_0b82fc28_0b61_11ec_b163_04ed33c19f61row2_col4 {\n",
       "            background-color:  #2b748e;\n",
       "            color:  #f1f1f1;\n",
       "        }    #T_0b82fc28_0b61_11ec_b163_04ed33c19f61row2_col5 {\n",
       "            background-color:  #2f6c8e;\n",
       "            color:  #f1f1f1;\n",
       "        }    #T_0b82fc28_0b61_11ec_b163_04ed33c19f61row2_col6 {\n",
       "            background-color:  #2e6f8e;\n",
       "            color:  #f1f1f1;\n",
       "        }    #T_0b82fc28_0b61_11ec_b163_04ed33c19f61row2_col7 {\n",
       "            background-color:  #287d8e;\n",
       "            color:  #000000;\n",
       "        }    #T_0b82fc28_0b61_11ec_b163_04ed33c19f61row2_col8 {\n",
       "            background-color:  #2e6f8e;\n",
       "            color:  #f1f1f1;\n",
       "        }    #T_0b82fc28_0b61_11ec_b163_04ed33c19f61row2_col9 {\n",
       "            background-color:  #306a8e;\n",
       "            color:  #f1f1f1;\n",
       "        }    #T_0b82fc28_0b61_11ec_b163_04ed33c19f61row2_col10 {\n",
       "            background-color:  #2a778e;\n",
       "            color:  #000000;\n",
       "        }    #T_0b82fc28_0b61_11ec_b163_04ed33c19f61row2_col11 {\n",
       "            background-color:  #2d708e;\n",
       "            color:  #f1f1f1;\n",
       "        }    #T_0b82fc28_0b61_11ec_b163_04ed33c19f61row2_col12 {\n",
       "            background-color:  #1e9c89;\n",
       "            color:  #000000;\n",
       "        }    #T_0b82fc28_0b61_11ec_b163_04ed33c19f61row3_col0 {\n",
       "            background-color:  #2d718e;\n",
       "            color:  #f1f1f1;\n",
       "        }    #T_0b82fc28_0b61_11ec_b163_04ed33c19f61row3_col1 {\n",
       "            background-color:  #2c728e;\n",
       "            color:  #f1f1f1;\n",
       "        }    #T_0b82fc28_0b61_11ec_b163_04ed33c19f61row3_col2 {\n",
       "            background-color:  #2e6f8e;\n",
       "            color:  #f1f1f1;\n",
       "        }    #T_0b82fc28_0b61_11ec_b163_04ed33c19f61row3_col3 {\n",
       "            background-color:  #fde725;\n",
       "            color:  #000000;\n",
       "        }    #T_0b82fc28_0b61_11ec_b163_04ed33c19f61row3_col4 {\n",
       "            background-color:  #2e6f8e;\n",
       "            color:  #f1f1f1;\n",
       "        }    #T_0b82fc28_0b61_11ec_b163_04ed33c19f61row3_col5 {\n",
       "            background-color:  #2c728e;\n",
       "            color:  #f1f1f1;\n",
       "        }    #T_0b82fc28_0b61_11ec_b163_04ed33c19f61row3_col6 {\n",
       "            background-color:  #2c738e;\n",
       "            color:  #f1f1f1;\n",
       "        }    #T_0b82fc28_0b61_11ec_b163_04ed33c19f61row3_col7 {\n",
       "            background-color:  #2f6c8e;\n",
       "            color:  #f1f1f1;\n",
       "        }    #T_0b82fc28_0b61_11ec_b163_04ed33c19f61row3_col8 {\n",
       "            background-color:  #2c718e;\n",
       "            color:  #f1f1f1;\n",
       "        }    #T_0b82fc28_0b61_11ec_b163_04ed33c19f61row3_col9 {\n",
       "            background-color:  #2d708e;\n",
       "            color:  #f1f1f1;\n",
       "        }    #T_0b82fc28_0b61_11ec_b163_04ed33c19f61row3_col10 {\n",
       "            background-color:  #2d708e;\n",
       "            color:  #f1f1f1;\n",
       "        }    #T_0b82fc28_0b61_11ec_b163_04ed33c19f61row3_col11 {\n",
       "            background-color:  #2d718e;\n",
       "            color:  #f1f1f1;\n",
       "        }    #T_0b82fc28_0b61_11ec_b163_04ed33c19f61row3_col12 {\n",
       "            background-color:  #2e6e8e;\n",
       "            color:  #f1f1f1;\n",
       "        }    #T_0b82fc28_0b61_11ec_b163_04ed33c19f61row4_col0 {\n",
       "            background-color:  #2c718e;\n",
       "            color:  #f1f1f1;\n",
       "        }    #T_0b82fc28_0b61_11ec_b163_04ed33c19f61row4_col1 {\n",
       "            background-color:  #2c718e;\n",
       "            color:  #f1f1f1;\n",
       "        }    #T_0b82fc28_0b61_11ec_b163_04ed33c19f61row4_col2 {\n",
       "            background-color:  #2b748e;\n",
       "            color:  #f1f1f1;\n",
       "        }    #T_0b82fc28_0b61_11ec_b163_04ed33c19f61row4_col3 {\n",
       "            background-color:  #2e6f8e;\n",
       "            color:  #f1f1f1;\n",
       "        }    #T_0b82fc28_0b61_11ec_b163_04ed33c19f61row4_col4 {\n",
       "            background-color:  #fde725;\n",
       "            color:  #000000;\n",
       "        }    #T_0b82fc28_0b61_11ec_b163_04ed33c19f61row4_col5 {\n",
       "            background-color:  #443b84;\n",
       "            color:  #f1f1f1;\n",
       "        }    #T_0b82fc28_0b61_11ec_b163_04ed33c19f61row4_col6 {\n",
       "            background-color:  #2e6e8e;\n",
       "            color:  #f1f1f1;\n",
       "        }    #T_0b82fc28_0b61_11ec_b163_04ed33c19f61row4_col7 {\n",
       "            background-color:  #2e6f8e;\n",
       "            color:  #f1f1f1;\n",
       "        }    #T_0b82fc28_0b61_11ec_b163_04ed33c19f61row4_col8 {\n",
       "            background-color:  #2c728e;\n",
       "            color:  #f1f1f1;\n",
       "        }    #T_0b82fc28_0b61_11ec_b163_04ed33c19f61row4_col9 {\n",
       "            background-color:  #3e4989;\n",
       "            color:  #f1f1f1;\n",
       "        }    #T_0b82fc28_0b61_11ec_b163_04ed33c19f61row4_col10 {\n",
       "            background-color:  #26ad81;\n",
       "            color:  #000000;\n",
       "        }    #T_0b82fc28_0b61_11ec_b163_04ed33c19f61row4_col11 {\n",
       "            background-color:  #375b8d;\n",
       "            color:  #f1f1f1;\n",
       "        }    #T_0b82fc28_0b61_11ec_b163_04ed33c19f61row4_col12 {\n",
       "            background-color:  #26828e;\n",
       "            color:  #000000;\n",
       "        }    #T_0b82fc28_0b61_11ec_b163_04ed33c19f61row5_col0 {\n",
       "            background-color:  #2c718e;\n",
       "            color:  #f1f1f1;\n",
       "        }    #T_0b82fc28_0b61_11ec_b163_04ed33c19f61row5_col1 {\n",
       "            background-color:  #2e6d8e;\n",
       "            color:  #f1f1f1;\n",
       "        }    #T_0b82fc28_0b61_11ec_b163_04ed33c19f61row5_col2 {\n",
       "            background-color:  #2f6c8e;\n",
       "            color:  #f1f1f1;\n",
       "        }    #T_0b82fc28_0b61_11ec_b163_04ed33c19f61row5_col3 {\n",
       "            background-color:  #2c728e;\n",
       "            color:  #f1f1f1;\n",
       "        }    #T_0b82fc28_0b61_11ec_b163_04ed33c19f61row5_col4 {\n",
       "            background-color:  #443b84;\n",
       "            color:  #f1f1f1;\n",
       "        }    #T_0b82fc28_0b61_11ec_b163_04ed33c19f61row5_col5 {\n",
       "            background-color:  #fde725;\n",
       "            color:  #000000;\n",
       "        }    #T_0b82fc28_0b61_11ec_b163_04ed33c19f61row5_col6 {\n",
       "            background-color:  #2d718e;\n",
       "            color:  #f1f1f1;\n",
       "        }    #T_0b82fc28_0b61_11ec_b163_04ed33c19f61row5_col7 {\n",
       "            background-color:  #2c718e;\n",
       "            color:  #f1f1f1;\n",
       "        }    #T_0b82fc28_0b61_11ec_b163_04ed33c19f61row5_col8 {\n",
       "            background-color:  #2c728e;\n",
       "            color:  #f1f1f1;\n",
       "        }    #T_0b82fc28_0b61_11ec_b163_04ed33c19f61row5_col9 {\n",
       "            background-color:  #2d718e;\n",
       "            color:  #f1f1f1;\n",
       "        }    #T_0b82fc28_0b61_11ec_b163_04ed33c19f61row5_col10 {\n",
       "            background-color:  #2e6f8e;\n",
       "            color:  #f1f1f1;\n",
       "        }    #T_0b82fc28_0b61_11ec_b163_04ed33c19f61row5_col11 {\n",
       "            background-color:  #2c718e;\n",
       "            color:  #f1f1f1;\n",
       "        }    #T_0b82fc28_0b61_11ec_b163_04ed33c19f61row5_col12 {\n",
       "            background-color:  #30698e;\n",
       "            color:  #f1f1f1;\n",
       "        }    #T_0b82fc28_0b61_11ec_b163_04ed33c19f61row6_col0 {\n",
       "            background-color:  #2d708e;\n",
       "            color:  #f1f1f1;\n",
       "        }    #T_0b82fc28_0b61_11ec_b163_04ed33c19f61row6_col1 {\n",
       "            background-color:  #2d718e;\n",
       "            color:  #f1f1f1;\n",
       "        }    #T_0b82fc28_0b61_11ec_b163_04ed33c19f61row6_col2 {\n",
       "            background-color:  #2e6f8e;\n",
       "            color:  #f1f1f1;\n",
       "        }    #T_0b82fc28_0b61_11ec_b163_04ed33c19f61row6_col3 {\n",
       "            background-color:  #2c738e;\n",
       "            color:  #f1f1f1;\n",
       "        }    #T_0b82fc28_0b61_11ec_b163_04ed33c19f61row6_col4 {\n",
       "            background-color:  #2e6e8e;\n",
       "            color:  #f1f1f1;\n",
       "        }    #T_0b82fc28_0b61_11ec_b163_04ed33c19f61row6_col5 {\n",
       "            background-color:  #2d718e;\n",
       "            color:  #f1f1f1;\n",
       "        }    #T_0b82fc28_0b61_11ec_b163_04ed33c19f61row6_col6 {\n",
       "            background-color:  #fde725;\n",
       "            color:  #000000;\n",
       "        }    #T_0b82fc28_0b61_11ec_b163_04ed33c19f61row6_col7 {\n",
       "            background-color:  #2e6f8e;\n",
       "            color:  #f1f1f1;\n",
       "        }    #T_0b82fc28_0b61_11ec_b163_04ed33c19f61row6_col8 {\n",
       "            background-color:  #2e6f8e;\n",
       "            color:  #f1f1f1;\n",
       "        }    #T_0b82fc28_0b61_11ec_b163_04ed33c19f61row6_col9 {\n",
       "            background-color:  #2d718e;\n",
       "            color:  #f1f1f1;\n",
       "        }    #T_0b82fc28_0b61_11ec_b163_04ed33c19f61row6_col10 {\n",
       "            background-color:  #2c718e;\n",
       "            color:  #f1f1f1;\n",
       "        }    #T_0b82fc28_0b61_11ec_b163_04ed33c19f61row6_col11 {\n",
       "            background-color:  #2e6e8e;\n",
       "            color:  #f1f1f1;\n",
       "        }    #T_0b82fc28_0b61_11ec_b163_04ed33c19f61row6_col12 {\n",
       "            background-color:  #2e6f8e;\n",
       "            color:  #f1f1f1;\n",
       "        }    #T_0b82fc28_0b61_11ec_b163_04ed33c19f61row7_col0 {\n",
       "            background-color:  #2b748e;\n",
       "            color:  #f1f1f1;\n",
       "        }    #T_0b82fc28_0b61_11ec_b163_04ed33c19f61row7_col1 {\n",
       "            background-color:  #2c738e;\n",
       "            color:  #f1f1f1;\n",
       "        }    #T_0b82fc28_0b61_11ec_b163_04ed33c19f61row7_col2 {\n",
       "            background-color:  #287d8e;\n",
       "            color:  #000000;\n",
       "        }    #T_0b82fc28_0b61_11ec_b163_04ed33c19f61row7_col3 {\n",
       "            background-color:  #2f6c8e;\n",
       "            color:  #f1f1f1;\n",
       "        }    #T_0b82fc28_0b61_11ec_b163_04ed33c19f61row7_col4 {\n",
       "            background-color:  #2e6f8e;\n",
       "            color:  #f1f1f1;\n",
       "        }    #T_0b82fc28_0b61_11ec_b163_04ed33c19f61row7_col5 {\n",
       "            background-color:  #2c718e;\n",
       "            color:  #f1f1f1;\n",
       "        }    #T_0b82fc28_0b61_11ec_b163_04ed33c19f61row7_col6 {\n",
       "            background-color:  #2e6f8e;\n",
       "            color:  #f1f1f1;\n",
       "        }    #T_0b82fc28_0b61_11ec_b163_04ed33c19f61row7_col7 {\n",
       "            background-color:  #fde725;\n",
       "            color:  #000000;\n",
       "        }    #T_0b82fc28_0b61_11ec_b163_04ed33c19f61row7_col8 {\n",
       "            background-color:  #2e6f8e;\n",
       "            color:  #f1f1f1;\n",
       "        }    #T_0b82fc28_0b61_11ec_b163_04ed33c19f61row7_col9 {\n",
       "            background-color:  #2d718e;\n",
       "            color:  #f1f1f1;\n",
       "        }    #T_0b82fc28_0b61_11ec_b163_04ed33c19f61row7_col10 {\n",
       "            background-color:  #2e6d8e;\n",
       "            color:  #f1f1f1;\n",
       "        }    #T_0b82fc28_0b61_11ec_b163_04ed33c19f61row7_col11 {\n",
       "            background-color:  #2c728e;\n",
       "            color:  #f1f1f1;\n",
       "        }    #T_0b82fc28_0b61_11ec_b163_04ed33c19f61row7_col12 {\n",
       "            background-color:  #39568c;\n",
       "            color:  #f1f1f1;\n",
       "        }    #T_0b82fc28_0b61_11ec_b163_04ed33c19f61row8_col0 {\n",
       "            background-color:  #2d708e;\n",
       "            color:  #f1f1f1;\n",
       "        }    #T_0b82fc28_0b61_11ec_b163_04ed33c19f61row8_col1 {\n",
       "            background-color:  #2e6f8e;\n",
       "            color:  #f1f1f1;\n",
       "        }    #T_0b82fc28_0b61_11ec_b163_04ed33c19f61row8_col2 {\n",
       "            background-color:  #2e6f8e;\n",
       "            color:  #f1f1f1;\n",
       "        }    #T_0b82fc28_0b61_11ec_b163_04ed33c19f61row8_col3 {\n",
       "            background-color:  #2c718e;\n",
       "            color:  #f1f1f1;\n",
       "        }    #T_0b82fc28_0b61_11ec_b163_04ed33c19f61row8_col4 {\n",
       "            background-color:  #2c728e;\n",
       "            color:  #f1f1f1;\n",
       "        }    #T_0b82fc28_0b61_11ec_b163_04ed33c19f61row8_col5 {\n",
       "            background-color:  #2c728e;\n",
       "            color:  #f1f1f1;\n",
       "        }    #T_0b82fc28_0b61_11ec_b163_04ed33c19f61row8_col6 {\n",
       "            background-color:  #2e6f8e;\n",
       "            color:  #f1f1f1;\n",
       "        }    #T_0b82fc28_0b61_11ec_b163_04ed33c19f61row8_col7 {\n",
       "            background-color:  #2e6f8e;\n",
       "            color:  #f1f1f1;\n",
       "        }    #T_0b82fc28_0b61_11ec_b163_04ed33c19f61row8_col8 {\n",
       "            background-color:  #fde725;\n",
       "            color:  #000000;\n",
       "        }    #T_0b82fc28_0b61_11ec_b163_04ed33c19f61row8_col9 {\n",
       "            background-color:  #2d708e;\n",
       "            color:  #f1f1f1;\n",
       "        }    #T_0b82fc28_0b61_11ec_b163_04ed33c19f61row8_col10 {\n",
       "            background-color:  #2c718e;\n",
       "            color:  #f1f1f1;\n",
       "        }    #T_0b82fc28_0b61_11ec_b163_04ed33c19f61row8_col11 {\n",
       "            background-color:  #2e6f8e;\n",
       "            color:  #f1f1f1;\n",
       "        }    #T_0b82fc28_0b61_11ec_b163_04ed33c19f61row8_col12 {\n",
       "            background-color:  #2c718e;\n",
       "            color:  #f1f1f1;\n",
       "        }    #T_0b82fc28_0b61_11ec_b163_04ed33c19f61row9_col0 {\n",
       "            background-color:  #2e6f8e;\n",
       "            color:  #f1f1f1;\n",
       "        }    #T_0b82fc28_0b61_11ec_b163_04ed33c19f61row9_col1 {\n",
       "            background-color:  #2c718e;\n",
       "            color:  #f1f1f1;\n",
       "        }    #T_0b82fc28_0b61_11ec_b163_04ed33c19f61row9_col2 {\n",
       "            background-color:  #306a8e;\n",
       "            color:  #f1f1f1;\n",
       "        }    #T_0b82fc28_0b61_11ec_b163_04ed33c19f61row9_col3 {\n",
       "            background-color:  #2d708e;\n",
       "            color:  #f1f1f1;\n",
       "        }    #T_0b82fc28_0b61_11ec_b163_04ed33c19f61row9_col4 {\n",
       "            background-color:  #3e4989;\n",
       "            color:  #f1f1f1;\n",
       "        }    #T_0b82fc28_0b61_11ec_b163_04ed33c19f61row9_col5 {\n",
       "            background-color:  #2d718e;\n",
       "            color:  #f1f1f1;\n",
       "        }    #T_0b82fc28_0b61_11ec_b163_04ed33c19f61row9_col6 {\n",
       "            background-color:  #2d718e;\n",
       "            color:  #f1f1f1;\n",
       "        }    #T_0b82fc28_0b61_11ec_b163_04ed33c19f61row9_col7 {\n",
       "            background-color:  #2d718e;\n",
       "            color:  #f1f1f1;\n",
       "        }    #T_0b82fc28_0b61_11ec_b163_04ed33c19f61row9_col8 {\n",
       "            background-color:  #2d708e;\n",
       "            color:  #f1f1f1;\n",
       "        }    #T_0b82fc28_0b61_11ec_b163_04ed33c19f61row9_col9 {\n",
       "            background-color:  #fde725;\n",
       "            color:  #000000;\n",
       "        }    #T_0b82fc28_0b61_11ec_b163_04ed33c19f61row9_col10 {\n",
       "            background-color:  #440154;\n",
       "            color:  #f1f1f1;\n",
       "        }    #T_0b82fc28_0b61_11ec_b163_04ed33c19f61row9_col11 {\n",
       "            background-color:  #440154;\n",
       "            color:  #f1f1f1;\n",
       "        }    #T_0b82fc28_0b61_11ec_b163_04ed33c19f61row9_col12 {\n",
       "            background-color:  #34608d;\n",
       "            color:  #f1f1f1;\n",
       "        }    #T_0b82fc28_0b61_11ec_b163_04ed33c19f61row10_col0 {\n",
       "            background-color:  #2d718e;\n",
       "            color:  #f1f1f1;\n",
       "        }    #T_0b82fc28_0b61_11ec_b163_04ed33c19f61row10_col1 {\n",
       "            background-color:  #2e6d8e;\n",
       "            color:  #f1f1f1;\n",
       "        }    #T_0b82fc28_0b61_11ec_b163_04ed33c19f61row10_col2 {\n",
       "            background-color:  #2a778e;\n",
       "            color:  #000000;\n",
       "        }    #T_0b82fc28_0b61_11ec_b163_04ed33c19f61row10_col3 {\n",
       "            background-color:  #2d708e;\n",
       "            color:  #f1f1f1;\n",
       "        }    #T_0b82fc28_0b61_11ec_b163_04ed33c19f61row10_col4 {\n",
       "            background-color:  #26ad81;\n",
       "            color:  #000000;\n",
       "        }    #T_0b82fc28_0b61_11ec_b163_04ed33c19f61row10_col5 {\n",
       "            background-color:  #2e6f8e;\n",
       "            color:  #f1f1f1;\n",
       "        }    #T_0b82fc28_0b61_11ec_b163_04ed33c19f61row10_col6 {\n",
       "            background-color:  #2c718e;\n",
       "            color:  #f1f1f1;\n",
       "        }    #T_0b82fc28_0b61_11ec_b163_04ed33c19f61row10_col7 {\n",
       "            background-color:  #2e6d8e;\n",
       "            color:  #f1f1f1;\n",
       "        }    #T_0b82fc28_0b61_11ec_b163_04ed33c19f61row10_col8 {\n",
       "            background-color:  #2c718e;\n",
       "            color:  #f1f1f1;\n",
       "        }    #T_0b82fc28_0b61_11ec_b163_04ed33c19f61row10_col9 {\n",
       "            background-color:  #440154;\n",
       "            color:  #f1f1f1;\n",
       "        }    #T_0b82fc28_0b61_11ec_b163_04ed33c19f61row10_col10 {\n",
       "            background-color:  #fde725;\n",
       "            color:  #000000;\n",
       "        }    #T_0b82fc28_0b61_11ec_b163_04ed33c19f61row10_col11 {\n",
       "            background-color:  #453781;\n",
       "            color:  #f1f1f1;\n",
       "        }    #T_0b82fc28_0b61_11ec_b163_04ed33c19f61row10_col12 {\n",
       "            background-color:  #228b8d;\n",
       "            color:  #000000;\n",
       "        }    #T_0b82fc28_0b61_11ec_b163_04ed33c19f61row11_col0 {\n",
       "            background-color:  #2d718e;\n",
       "            color:  #f1f1f1;\n",
       "        }    #T_0b82fc28_0b61_11ec_b163_04ed33c19f61row11_col1 {\n",
       "            background-color:  #2c728e;\n",
       "            color:  #f1f1f1;\n",
       "        }    #T_0b82fc28_0b61_11ec_b163_04ed33c19f61row11_col2 {\n",
       "            background-color:  #2d708e;\n",
       "            color:  #f1f1f1;\n",
       "        }    #T_0b82fc28_0b61_11ec_b163_04ed33c19f61row11_col3 {\n",
       "            background-color:  #2d718e;\n",
       "            color:  #f1f1f1;\n",
       "        }    #T_0b82fc28_0b61_11ec_b163_04ed33c19f61row11_col4 {\n",
       "            background-color:  #375b8d;\n",
       "            color:  #f1f1f1;\n",
       "        }    #T_0b82fc28_0b61_11ec_b163_04ed33c19f61row11_col5 {\n",
       "            background-color:  #2c718e;\n",
       "            color:  #f1f1f1;\n",
       "        }    #T_0b82fc28_0b61_11ec_b163_04ed33c19f61row11_col6 {\n",
       "            background-color:  #2e6e8e;\n",
       "            color:  #f1f1f1;\n",
       "        }    #T_0b82fc28_0b61_11ec_b163_04ed33c19f61row11_col7 {\n",
       "            background-color:  #2c728e;\n",
       "            color:  #f1f1f1;\n",
       "        }    #T_0b82fc28_0b61_11ec_b163_04ed33c19f61row11_col8 {\n",
       "            background-color:  #2e6f8e;\n",
       "            color:  #f1f1f1;\n",
       "        }    #T_0b82fc28_0b61_11ec_b163_04ed33c19f61row11_col9 {\n",
       "            background-color:  #440154;\n",
       "            color:  #f1f1f1;\n",
       "        }    #T_0b82fc28_0b61_11ec_b163_04ed33c19f61row11_col10 {\n",
       "            background-color:  #453781;\n",
       "            color:  #f1f1f1;\n",
       "        }    #T_0b82fc28_0b61_11ec_b163_04ed33c19f61row11_col11 {\n",
       "            background-color:  #fde725;\n",
       "            color:  #000000;\n",
       "        }    #T_0b82fc28_0b61_11ec_b163_04ed33c19f61row11_col12 {\n",
       "            background-color:  #31688e;\n",
       "            color:  #f1f1f1;\n",
       "        }    #T_0b82fc28_0b61_11ec_b163_04ed33c19f61row12_col0 {\n",
       "            background-color:  #2f6c8e;\n",
       "            color:  #f1f1f1;\n",
       "        }    #T_0b82fc28_0b61_11ec_b163_04ed33c19f61row12_col1 {\n",
       "            background-color:  #355f8d;\n",
       "            color:  #f1f1f1;\n",
       "        }    #T_0b82fc28_0b61_11ec_b163_04ed33c19f61row12_col2 {\n",
       "            background-color:  #1e9c89;\n",
       "            color:  #000000;\n",
       "        }    #T_0b82fc28_0b61_11ec_b163_04ed33c19f61row12_col3 {\n",
       "            background-color:  #2e6e8e;\n",
       "            color:  #f1f1f1;\n",
       "        }    #T_0b82fc28_0b61_11ec_b163_04ed33c19f61row12_col4 {\n",
       "            background-color:  #26828e;\n",
       "            color:  #000000;\n",
       "        }    #T_0b82fc28_0b61_11ec_b163_04ed33c19f61row12_col5 {\n",
       "            background-color:  #30698e;\n",
       "            color:  #f1f1f1;\n",
       "        }    #T_0b82fc28_0b61_11ec_b163_04ed33c19f61row12_col6 {\n",
       "            background-color:  #2e6f8e;\n",
       "            color:  #f1f1f1;\n",
       "        }    #T_0b82fc28_0b61_11ec_b163_04ed33c19f61row12_col7 {\n",
       "            background-color:  #39568c;\n",
       "            color:  #f1f1f1;\n",
       "        }    #T_0b82fc28_0b61_11ec_b163_04ed33c19f61row12_col8 {\n",
       "            background-color:  #2c718e;\n",
       "            color:  #f1f1f1;\n",
       "        }    #T_0b82fc28_0b61_11ec_b163_04ed33c19f61row12_col9 {\n",
       "            background-color:  #34608d;\n",
       "            color:  #f1f1f1;\n",
       "        }    #T_0b82fc28_0b61_11ec_b163_04ed33c19f61row12_col10 {\n",
       "            background-color:  #228b8d;\n",
       "            color:  #000000;\n",
       "        }    #T_0b82fc28_0b61_11ec_b163_04ed33c19f61row12_col11 {\n",
       "            background-color:  #31688e;\n",
       "            color:  #f1f1f1;\n",
       "        }    #T_0b82fc28_0b61_11ec_b163_04ed33c19f61row12_col12 {\n",
       "            background-color:  #fde725;\n",
       "            color:  #000000;\n",
       "        }</style><table id=\"T_0b82fc28_0b61_11ec_b163_04ed33c19f61\" ><caption>Features Correlation Matrix</caption><thead>    <tr>        <th class=\"blank level0\" ></th>        <th class=\"col_heading level0 col0\" >CreditScore</th>        <th class=\"col_heading level0 col1\" >Gender</th>        <th class=\"col_heading level0 col2\" >Age</th>        <th class=\"col_heading level0 col3\" >Tenure</th>        <th class=\"col_heading level0 col4\" >Balance</th>        <th class=\"col_heading level0 col5\" >NumOfProducts</th>        <th class=\"col_heading level0 col6\" >HasCrCard</th>        <th class=\"col_heading level0 col7\" >IsActiveMember</th>        <th class=\"col_heading level0 col8\" >EstimatedSalary</th>        <th class=\"col_heading level0 col9\" >Geo_dummy_France</th>        <th class=\"col_heading level0 col10\" >Geo_dummy_Germany</th>        <th class=\"col_heading level0 col11\" >Geo_dummy_Spain</th>        <th class=\"col_heading level0 col12\" >Exited</th>    </tr></thead><tbody>\n",
       "                <tr>\n",
       "                        <th id=\"T_0b82fc28_0b61_11ec_b163_04ed33c19f61level0_row0\" class=\"row_heading level0 row0\" >CreditScore</th>\n",
       "                        <td id=\"T_0b82fc28_0b61_11ec_b163_04ed33c19f61row0_col0\" class=\"data row0 col0\" >1</td>\n",
       "                        <td id=\"T_0b82fc28_0b61_11ec_b163_04ed33c19f61row0_col1\" class=\"data row0 col1\" >-0.0029</td>\n",
       "                        <td id=\"T_0b82fc28_0b61_11ec_b163_04ed33c19f61row0_col2\" class=\"data row0 col2\" >-0.004</td>\n",
       "                        <td id=\"T_0b82fc28_0b61_11ec_b163_04ed33c19f61row0_col3\" class=\"data row0 col3\" >0.00084</td>\n",
       "                        <td id=\"T_0b82fc28_0b61_11ec_b163_04ed33c19f61row0_col4\" class=\"data row0 col4\" >0.0063</td>\n",
       "                        <td id=\"T_0b82fc28_0b61_11ec_b163_04ed33c19f61row0_col5\" class=\"data row0 col5\" >0.012</td>\n",
       "                        <td id=\"T_0b82fc28_0b61_11ec_b163_04ed33c19f61row0_col6\" class=\"data row0 col6\" >-0.0055</td>\n",
       "                        <td id=\"T_0b82fc28_0b61_11ec_b163_04ed33c19f61row0_col7\" class=\"data row0 col7\" >0.026</td>\n",
       "                        <td id=\"T_0b82fc28_0b61_11ec_b163_04ed33c19f61row0_col8\" class=\"data row0 col8\" >-0.0014</td>\n",
       "                        <td id=\"T_0b82fc28_0b61_11ec_b163_04ed33c19f61row0_col9\" class=\"data row0 col9\" >-0.0089</td>\n",
       "                        <td id=\"T_0b82fc28_0b61_11ec_b163_04ed33c19f61row0_col10\" class=\"data row0 col10\" >0.0055</td>\n",
       "                        <td id=\"T_0b82fc28_0b61_11ec_b163_04ed33c19f61row0_col11\" class=\"data row0 col11\" >0.0048</td>\n",
       "                        <td id=\"T_0b82fc28_0b61_11ec_b163_04ed33c19f61row0_col12\" class=\"data row0 col12\" >-0.027</td>\n",
       "            </tr>\n",
       "            <tr>\n",
       "                        <th id=\"T_0b82fc28_0b61_11ec_b163_04ed33c19f61level0_row1\" class=\"row_heading level0 row1\" >Gender</th>\n",
       "                        <td id=\"T_0b82fc28_0b61_11ec_b163_04ed33c19f61row1_col0\" class=\"data row1 col0\" >-0.0029</td>\n",
       "                        <td id=\"T_0b82fc28_0b61_11ec_b163_04ed33c19f61row1_col1\" class=\"data row1 col1\" >1</td>\n",
       "                        <td id=\"T_0b82fc28_0b61_11ec_b163_04ed33c19f61row1_col2\" class=\"data row1 col2\" >-0.028</td>\n",
       "                        <td id=\"T_0b82fc28_0b61_11ec_b163_04ed33c19f61row1_col3\" class=\"data row1 col3\" >0.015</td>\n",
       "                        <td id=\"T_0b82fc28_0b61_11ec_b163_04ed33c19f61row1_col4\" class=\"data row1 col4\" >0.012</td>\n",
       "                        <td id=\"T_0b82fc28_0b61_11ec_b163_04ed33c19f61row1_col5\" class=\"data row1 col5\" >-0.022</td>\n",
       "                        <td id=\"T_0b82fc28_0b61_11ec_b163_04ed33c19f61row1_col6\" class=\"data row1 col6\" >0.0058</td>\n",
       "                        <td id=\"T_0b82fc28_0b61_11ec_b163_04ed33c19f61row1_col7\" class=\"data row1 col7\" >0.023</td>\n",
       "                        <td id=\"T_0b82fc28_0b61_11ec_b163_04ed33c19f61row1_col8\" class=\"data row1 col8\" >-0.0081</td>\n",
       "                        <td id=\"T_0b82fc28_0b61_11ec_b163_04ed33c19f61row1_col9\" class=\"data row1 col9\" >0.0068</td>\n",
       "                        <td id=\"T_0b82fc28_0b61_11ec_b163_04ed33c19f61row1_col10\" class=\"data row1 col10\" >-0.025</td>\n",
       "                        <td id=\"T_0b82fc28_0b61_11ec_b163_04ed33c19f61row1_col11\" class=\"data row1 col11\" >0.017</td>\n",
       "                        <td id=\"T_0b82fc28_0b61_11ec_b163_04ed33c19f61row1_col12\" class=\"data row1 col12\" >-0.11</td>\n",
       "            </tr>\n",
       "            <tr>\n",
       "                        <th id=\"T_0b82fc28_0b61_11ec_b163_04ed33c19f61level0_row2\" class=\"row_heading level0 row2\" >Age</th>\n",
       "                        <td id=\"T_0b82fc28_0b61_11ec_b163_04ed33c19f61row2_col0\" class=\"data row2 col0\" >-0.004</td>\n",
       "                        <td id=\"T_0b82fc28_0b61_11ec_b163_04ed33c19f61row2_col1\" class=\"data row2 col1\" >-0.028</td>\n",
       "                        <td id=\"T_0b82fc28_0b61_11ec_b163_04ed33c19f61row2_col2\" class=\"data row2 col2\" >1</td>\n",
       "                        <td id=\"T_0b82fc28_0b61_11ec_b163_04ed33c19f61row2_col3\" class=\"data row2 col3\" >-0.01</td>\n",
       "                        <td id=\"T_0b82fc28_0b61_11ec_b163_04ed33c19f61row2_col4\" class=\"data row2 col4\" >0.028</td>\n",
       "                        <td id=\"T_0b82fc28_0b61_11ec_b163_04ed33c19f61row2_col5\" class=\"data row2 col5\" >-0.031</td>\n",
       "                        <td id=\"T_0b82fc28_0b61_11ec_b163_04ed33c19f61row2_col6\" class=\"data row2 col6\" >-0.012</td>\n",
       "                        <td id=\"T_0b82fc28_0b61_11ec_b163_04ed33c19f61row2_col7\" class=\"data row2 col7\" >0.085</td>\n",
       "                        <td id=\"T_0b82fc28_0b61_11ec_b163_04ed33c19f61row2_col8\" class=\"data row2 col8\" >-0.0072</td>\n",
       "                        <td id=\"T_0b82fc28_0b61_11ec_b163_04ed33c19f61row2_col9\" class=\"data row2 col9\" >-0.039</td>\n",
       "                        <td id=\"T_0b82fc28_0b61_11ec_b163_04ed33c19f61row2_col10\" class=\"data row2 col10\" >0.047</td>\n",
       "                        <td id=\"T_0b82fc28_0b61_11ec_b163_04ed33c19f61row2_col11\" class=\"data row2 col11\" >-0.0017</td>\n",
       "                        <td id=\"T_0b82fc28_0b61_11ec_b163_04ed33c19f61row2_col12\" class=\"data row2 col12\" >0.29</td>\n",
       "            </tr>\n",
       "            <tr>\n",
       "                        <th id=\"T_0b82fc28_0b61_11ec_b163_04ed33c19f61level0_row3\" class=\"row_heading level0 row3\" >Tenure</th>\n",
       "                        <td id=\"T_0b82fc28_0b61_11ec_b163_04ed33c19f61row3_col0\" class=\"data row3 col0\" >0.00084</td>\n",
       "                        <td id=\"T_0b82fc28_0b61_11ec_b163_04ed33c19f61row3_col1\" class=\"data row3 col1\" >0.015</td>\n",
       "                        <td id=\"T_0b82fc28_0b61_11ec_b163_04ed33c19f61row3_col2\" class=\"data row3 col2\" >-0.01</td>\n",
       "                        <td id=\"T_0b82fc28_0b61_11ec_b163_04ed33c19f61row3_col3\" class=\"data row3 col3\" >1</td>\n",
       "                        <td id=\"T_0b82fc28_0b61_11ec_b163_04ed33c19f61row3_col4\" class=\"data row3 col4\" >-0.012</td>\n",
       "                        <td id=\"T_0b82fc28_0b61_11ec_b163_04ed33c19f61row3_col5\" class=\"data row3 col5\" >0.013</td>\n",
       "                        <td id=\"T_0b82fc28_0b61_11ec_b163_04ed33c19f61row3_col6\" class=\"data row3 col6\" >0.023</td>\n",
       "                        <td id=\"T_0b82fc28_0b61_11ec_b163_04ed33c19f61row3_col7\" class=\"data row3 col7\" >-0.028</td>\n",
       "                        <td id=\"T_0b82fc28_0b61_11ec_b163_04ed33c19f61row3_col8\" class=\"data row3 col8\" >0.0078</td>\n",
       "                        <td id=\"T_0b82fc28_0b61_11ec_b163_04ed33c19f61row3_col9\" class=\"data row3 col9\" >-0.0028</td>\n",
       "                        <td id=\"T_0b82fc28_0b61_11ec_b163_04ed33c19f61row3_col10\" class=\"data row3 col10\" >-0.00057</td>\n",
       "                        <td id=\"T_0b82fc28_0b61_11ec_b163_04ed33c19f61row3_col11\" class=\"data row3 col11\" >0.0039</td>\n",
       "                        <td id=\"T_0b82fc28_0b61_11ec_b163_04ed33c19f61row3_col12\" class=\"data row3 col12\" >-0.014</td>\n",
       "            </tr>\n",
       "            <tr>\n",
       "                        <th id=\"T_0b82fc28_0b61_11ec_b163_04ed33c19f61level0_row4\" class=\"row_heading level0 row4\" >Balance</th>\n",
       "                        <td id=\"T_0b82fc28_0b61_11ec_b163_04ed33c19f61row4_col0\" class=\"data row4 col0\" >0.0063</td>\n",
       "                        <td id=\"T_0b82fc28_0b61_11ec_b163_04ed33c19f61row4_col1\" class=\"data row4 col1\" >0.012</td>\n",
       "                        <td id=\"T_0b82fc28_0b61_11ec_b163_04ed33c19f61row4_col2\" class=\"data row4 col2\" >0.028</td>\n",
       "                        <td id=\"T_0b82fc28_0b61_11ec_b163_04ed33c19f61row4_col3\" class=\"data row4 col3\" >-0.012</td>\n",
       "                        <td id=\"T_0b82fc28_0b61_11ec_b163_04ed33c19f61row4_col4\" class=\"data row4 col4\" >1</td>\n",
       "                        <td id=\"T_0b82fc28_0b61_11ec_b163_04ed33c19f61row4_col5\" class=\"data row4 col5\" >-0.3</td>\n",
       "                        <td id=\"T_0b82fc28_0b61_11ec_b163_04ed33c19f61row4_col6\" class=\"data row4 col6\" >-0.015</td>\n",
       "                        <td id=\"T_0b82fc28_0b61_11ec_b163_04ed33c19f61row4_col7\" class=\"data row4 col7\" >-0.01</td>\n",
       "                        <td id=\"T_0b82fc28_0b61_11ec_b163_04ed33c19f61row4_col8\" class=\"data row4 col8\" >0.013</td>\n",
       "                        <td id=\"T_0b82fc28_0b61_11ec_b163_04ed33c19f61row4_col9\" class=\"data row4 col9\" >-0.23</td>\n",
       "                        <td id=\"T_0b82fc28_0b61_11ec_b163_04ed33c19f61row4_col10\" class=\"data row4 col10\" >0.4</td>\n",
       "                        <td id=\"T_0b82fc28_0b61_11ec_b163_04ed33c19f61row4_col11\" class=\"data row4 col11\" >-0.13</td>\n",
       "                        <td id=\"T_0b82fc28_0b61_11ec_b163_04ed33c19f61row4_col12\" class=\"data row4 col12\" >0.12</td>\n",
       "            </tr>\n",
       "            <tr>\n",
       "                        <th id=\"T_0b82fc28_0b61_11ec_b163_04ed33c19f61level0_row5\" class=\"row_heading level0 row5\" >NumOfProducts</th>\n",
       "                        <td id=\"T_0b82fc28_0b61_11ec_b163_04ed33c19f61row5_col0\" class=\"data row5 col0\" >0.012</td>\n",
       "                        <td id=\"T_0b82fc28_0b61_11ec_b163_04ed33c19f61row5_col1\" class=\"data row5 col1\" >-0.022</td>\n",
       "                        <td id=\"T_0b82fc28_0b61_11ec_b163_04ed33c19f61row5_col2\" class=\"data row5 col2\" >-0.031</td>\n",
       "                        <td id=\"T_0b82fc28_0b61_11ec_b163_04ed33c19f61row5_col3\" class=\"data row5 col3\" >0.013</td>\n",
       "                        <td id=\"T_0b82fc28_0b61_11ec_b163_04ed33c19f61row5_col4\" class=\"data row5 col4\" >-0.3</td>\n",
       "                        <td id=\"T_0b82fc28_0b61_11ec_b163_04ed33c19f61row5_col5\" class=\"data row5 col5\" >1</td>\n",
       "                        <td id=\"T_0b82fc28_0b61_11ec_b163_04ed33c19f61row5_col6\" class=\"data row5 col6\" >0.0032</td>\n",
       "                        <td id=\"T_0b82fc28_0b61_11ec_b163_04ed33c19f61row5_col7\" class=\"data row5 col7\" >0.0096</td>\n",
       "                        <td id=\"T_0b82fc28_0b61_11ec_b163_04ed33c19f61row5_col8\" class=\"data row5 col8\" >0.014</td>\n",
       "                        <td id=\"T_0b82fc28_0b61_11ec_b163_04ed33c19f61row5_col9\" class=\"data row5 col9\" >0.0012</td>\n",
       "                        <td id=\"T_0b82fc28_0b61_11ec_b163_04ed33c19f61row5_col10\" class=\"data row5 col10\" >-0.01</td>\n",
       "                        <td id=\"T_0b82fc28_0b61_11ec_b163_04ed33c19f61row5_col11\" class=\"data row5 col11\" >0.009</td>\n",
       "                        <td id=\"T_0b82fc28_0b61_11ec_b163_04ed33c19f61row5_col12\" class=\"data row5 col12\" >-0.048</td>\n",
       "            </tr>\n",
       "            <tr>\n",
       "                        <th id=\"T_0b82fc28_0b61_11ec_b163_04ed33c19f61level0_row6\" class=\"row_heading level0 row6\" >HasCrCard</th>\n",
       "                        <td id=\"T_0b82fc28_0b61_11ec_b163_04ed33c19f61row6_col0\" class=\"data row6 col0\" >-0.0055</td>\n",
       "                        <td id=\"T_0b82fc28_0b61_11ec_b163_04ed33c19f61row6_col1\" class=\"data row6 col1\" >0.0058</td>\n",
       "                        <td id=\"T_0b82fc28_0b61_11ec_b163_04ed33c19f61row6_col2\" class=\"data row6 col2\" >-0.012</td>\n",
       "                        <td id=\"T_0b82fc28_0b61_11ec_b163_04ed33c19f61row6_col3\" class=\"data row6 col3\" >0.023</td>\n",
       "                        <td id=\"T_0b82fc28_0b61_11ec_b163_04ed33c19f61row6_col4\" class=\"data row6 col4\" >-0.015</td>\n",
       "                        <td id=\"T_0b82fc28_0b61_11ec_b163_04ed33c19f61row6_col5\" class=\"data row6 col5\" >0.0032</td>\n",
       "                        <td id=\"T_0b82fc28_0b61_11ec_b163_04ed33c19f61row6_col6\" class=\"data row6 col6\" >1</td>\n",
       "                        <td id=\"T_0b82fc28_0b61_11ec_b163_04ed33c19f61row6_col7\" class=\"data row6 col7\" >-0.012</td>\n",
       "                        <td id=\"T_0b82fc28_0b61_11ec_b163_04ed33c19f61row6_col8\" class=\"data row6 col8\" >-0.0099</td>\n",
       "                        <td id=\"T_0b82fc28_0b61_11ec_b163_04ed33c19f61row6_col9\" class=\"data row6 col9\" >0.0025</td>\n",
       "                        <td id=\"T_0b82fc28_0b61_11ec_b163_04ed33c19f61row6_col10\" class=\"data row6 col10\" >0.011</td>\n",
       "                        <td id=\"T_0b82fc28_0b61_11ec_b163_04ed33c19f61row6_col11\" class=\"data row6 col11\" >-0.013</td>\n",
       "                        <td id=\"T_0b82fc28_0b61_11ec_b163_04ed33c19f61row6_col12\" class=\"data row6 col12\" >-0.0071</td>\n",
       "            </tr>\n",
       "            <tr>\n",
       "                        <th id=\"T_0b82fc28_0b61_11ec_b163_04ed33c19f61level0_row7\" class=\"row_heading level0 row7\" >IsActiveMember</th>\n",
       "                        <td id=\"T_0b82fc28_0b61_11ec_b163_04ed33c19f61row7_col0\" class=\"data row7 col0\" >0.026</td>\n",
       "                        <td id=\"T_0b82fc28_0b61_11ec_b163_04ed33c19f61row7_col1\" class=\"data row7 col1\" >0.023</td>\n",
       "                        <td id=\"T_0b82fc28_0b61_11ec_b163_04ed33c19f61row7_col2\" class=\"data row7 col2\" >0.085</td>\n",
       "                        <td id=\"T_0b82fc28_0b61_11ec_b163_04ed33c19f61row7_col3\" class=\"data row7 col3\" >-0.028</td>\n",
       "                        <td id=\"T_0b82fc28_0b61_11ec_b163_04ed33c19f61row7_col4\" class=\"data row7 col4\" >-0.01</td>\n",
       "                        <td id=\"T_0b82fc28_0b61_11ec_b163_04ed33c19f61row7_col5\" class=\"data row7 col5\" >0.0096</td>\n",
       "                        <td id=\"T_0b82fc28_0b61_11ec_b163_04ed33c19f61row7_col6\" class=\"data row7 col6\" >-0.012</td>\n",
       "                        <td id=\"T_0b82fc28_0b61_11ec_b163_04ed33c19f61row7_col7\" class=\"data row7 col7\" >1</td>\n",
       "                        <td id=\"T_0b82fc28_0b61_11ec_b163_04ed33c19f61row7_col8\" class=\"data row7 col8\" >-0.011</td>\n",
       "                        <td id=\"T_0b82fc28_0b61_11ec_b163_04ed33c19f61row7_col9\" class=\"data row7 col9\" >0.0033</td>\n",
       "                        <td id=\"T_0b82fc28_0b61_11ec_b163_04ed33c19f61row7_col10\" class=\"data row7 col10\" >-0.02</td>\n",
       "                        <td id=\"T_0b82fc28_0b61_11ec_b163_04ed33c19f61row7_col11\" class=\"data row7 col11\" >0.017</td>\n",
       "                        <td id=\"T_0b82fc28_0b61_11ec_b163_04ed33c19f61row7_col12\" class=\"data row7 col12\" >-0.16</td>\n",
       "            </tr>\n",
       "            <tr>\n",
       "                        <th id=\"T_0b82fc28_0b61_11ec_b163_04ed33c19f61level0_row8\" class=\"row_heading level0 row8\" >EstimatedSalary</th>\n",
       "                        <td id=\"T_0b82fc28_0b61_11ec_b163_04ed33c19f61row8_col0\" class=\"data row8 col0\" >-0.0014</td>\n",
       "                        <td id=\"T_0b82fc28_0b61_11ec_b163_04ed33c19f61row8_col1\" class=\"data row8 col1\" >-0.0081</td>\n",
       "                        <td id=\"T_0b82fc28_0b61_11ec_b163_04ed33c19f61row8_col2\" class=\"data row8 col2\" >-0.0072</td>\n",
       "                        <td id=\"T_0b82fc28_0b61_11ec_b163_04ed33c19f61row8_col3\" class=\"data row8 col3\" >0.0078</td>\n",
       "                        <td id=\"T_0b82fc28_0b61_11ec_b163_04ed33c19f61row8_col4\" class=\"data row8 col4\" >0.013</td>\n",
       "                        <td id=\"T_0b82fc28_0b61_11ec_b163_04ed33c19f61row8_col5\" class=\"data row8 col5\" >0.014</td>\n",
       "                        <td id=\"T_0b82fc28_0b61_11ec_b163_04ed33c19f61row8_col6\" class=\"data row8 col6\" >-0.0099</td>\n",
       "                        <td id=\"T_0b82fc28_0b61_11ec_b163_04ed33c19f61row8_col7\" class=\"data row8 col7\" >-0.011</td>\n",
       "                        <td id=\"T_0b82fc28_0b61_11ec_b163_04ed33c19f61row8_col8\" class=\"data row8 col8\" >1</td>\n",
       "                        <td id=\"T_0b82fc28_0b61_11ec_b163_04ed33c19f61row8_col9\" class=\"data row8 col9\" >-0.0033</td>\n",
       "                        <td id=\"T_0b82fc28_0b61_11ec_b163_04ed33c19f61row8_col10\" class=\"data row8 col10\" >0.01</td>\n",
       "                        <td id=\"T_0b82fc28_0b61_11ec_b163_04ed33c19f61row8_col11\" class=\"data row8 col11\" >-0.0065</td>\n",
       "                        <td id=\"T_0b82fc28_0b61_11ec_b163_04ed33c19f61row8_col12\" class=\"data row8 col12\" >0.012</td>\n",
       "            </tr>\n",
       "            <tr>\n",
       "                        <th id=\"T_0b82fc28_0b61_11ec_b163_04ed33c19f61level0_row9\" class=\"row_heading level0 row9\" >Geo_dummy_France</th>\n",
       "                        <td id=\"T_0b82fc28_0b61_11ec_b163_04ed33c19f61row9_col0\" class=\"data row9 col0\" >-0.0089</td>\n",
       "                        <td id=\"T_0b82fc28_0b61_11ec_b163_04ed33c19f61row9_col1\" class=\"data row9 col1\" >0.0068</td>\n",
       "                        <td id=\"T_0b82fc28_0b61_11ec_b163_04ed33c19f61row9_col2\" class=\"data row9 col2\" >-0.039</td>\n",
       "                        <td id=\"T_0b82fc28_0b61_11ec_b163_04ed33c19f61row9_col3\" class=\"data row9 col3\" >-0.0028</td>\n",
       "                        <td id=\"T_0b82fc28_0b61_11ec_b163_04ed33c19f61row9_col4\" class=\"data row9 col4\" >-0.23</td>\n",
       "                        <td id=\"T_0b82fc28_0b61_11ec_b163_04ed33c19f61row9_col5\" class=\"data row9 col5\" >0.0012</td>\n",
       "                        <td id=\"T_0b82fc28_0b61_11ec_b163_04ed33c19f61row9_col6\" class=\"data row9 col6\" >0.0025</td>\n",
       "                        <td id=\"T_0b82fc28_0b61_11ec_b163_04ed33c19f61row9_col7\" class=\"data row9 col7\" >0.0033</td>\n",
       "                        <td id=\"T_0b82fc28_0b61_11ec_b163_04ed33c19f61row9_col8\" class=\"data row9 col8\" >-0.0033</td>\n",
       "                        <td id=\"T_0b82fc28_0b61_11ec_b163_04ed33c19f61row9_col9\" class=\"data row9 col9\" >1</td>\n",
       "                        <td id=\"T_0b82fc28_0b61_11ec_b163_04ed33c19f61row9_col10\" class=\"data row9 col10\" >-0.58</td>\n",
       "                        <td id=\"T_0b82fc28_0b61_11ec_b163_04ed33c19f61row9_col11\" class=\"data row9 col11\" >-0.58</td>\n",
       "                        <td id=\"T_0b82fc28_0b61_11ec_b163_04ed33c19f61row9_col12\" class=\"data row9 col12\" >-0.1</td>\n",
       "            </tr>\n",
       "            <tr>\n",
       "                        <th id=\"T_0b82fc28_0b61_11ec_b163_04ed33c19f61level0_row10\" class=\"row_heading level0 row10\" >Geo_dummy_Germany</th>\n",
       "                        <td id=\"T_0b82fc28_0b61_11ec_b163_04ed33c19f61row10_col0\" class=\"data row10 col0\" >0.0055</td>\n",
       "                        <td id=\"T_0b82fc28_0b61_11ec_b163_04ed33c19f61row10_col1\" class=\"data row10 col1\" >-0.025</td>\n",
       "                        <td id=\"T_0b82fc28_0b61_11ec_b163_04ed33c19f61row10_col2\" class=\"data row10 col2\" >0.047</td>\n",
       "                        <td id=\"T_0b82fc28_0b61_11ec_b163_04ed33c19f61row10_col3\" class=\"data row10 col3\" >-0.00057</td>\n",
       "                        <td id=\"T_0b82fc28_0b61_11ec_b163_04ed33c19f61row10_col4\" class=\"data row10 col4\" >0.4</td>\n",
       "                        <td id=\"T_0b82fc28_0b61_11ec_b163_04ed33c19f61row10_col5\" class=\"data row10 col5\" >-0.01</td>\n",
       "                        <td id=\"T_0b82fc28_0b61_11ec_b163_04ed33c19f61row10_col6\" class=\"data row10 col6\" >0.011</td>\n",
       "                        <td id=\"T_0b82fc28_0b61_11ec_b163_04ed33c19f61row10_col7\" class=\"data row10 col7\" >-0.02</td>\n",
       "                        <td id=\"T_0b82fc28_0b61_11ec_b163_04ed33c19f61row10_col8\" class=\"data row10 col8\" >0.01</td>\n",
       "                        <td id=\"T_0b82fc28_0b61_11ec_b163_04ed33c19f61row10_col9\" class=\"data row10 col9\" >-0.58</td>\n",
       "                        <td id=\"T_0b82fc28_0b61_11ec_b163_04ed33c19f61row10_col10\" class=\"data row10 col10\" >1</td>\n",
       "                        <td id=\"T_0b82fc28_0b61_11ec_b163_04ed33c19f61row10_col11\" class=\"data row10 col11\" >-0.33</td>\n",
       "                        <td id=\"T_0b82fc28_0b61_11ec_b163_04ed33c19f61row10_col12\" class=\"data row10 col12\" >0.17</td>\n",
       "            </tr>\n",
       "            <tr>\n",
       "                        <th id=\"T_0b82fc28_0b61_11ec_b163_04ed33c19f61level0_row11\" class=\"row_heading level0 row11\" >Geo_dummy_Spain</th>\n",
       "                        <td id=\"T_0b82fc28_0b61_11ec_b163_04ed33c19f61row11_col0\" class=\"data row11 col0\" >0.0048</td>\n",
       "                        <td id=\"T_0b82fc28_0b61_11ec_b163_04ed33c19f61row11_col1\" class=\"data row11 col1\" >0.017</td>\n",
       "                        <td id=\"T_0b82fc28_0b61_11ec_b163_04ed33c19f61row11_col2\" class=\"data row11 col2\" >-0.0017</td>\n",
       "                        <td id=\"T_0b82fc28_0b61_11ec_b163_04ed33c19f61row11_col3\" class=\"data row11 col3\" >0.0039</td>\n",
       "                        <td id=\"T_0b82fc28_0b61_11ec_b163_04ed33c19f61row11_col4\" class=\"data row11 col4\" >-0.13</td>\n",
       "                        <td id=\"T_0b82fc28_0b61_11ec_b163_04ed33c19f61row11_col5\" class=\"data row11 col5\" >0.009</td>\n",
       "                        <td id=\"T_0b82fc28_0b61_11ec_b163_04ed33c19f61row11_col6\" class=\"data row11 col6\" >-0.013</td>\n",
       "                        <td id=\"T_0b82fc28_0b61_11ec_b163_04ed33c19f61row11_col7\" class=\"data row11 col7\" >0.017</td>\n",
       "                        <td id=\"T_0b82fc28_0b61_11ec_b163_04ed33c19f61row11_col8\" class=\"data row11 col8\" >-0.0065</td>\n",
       "                        <td id=\"T_0b82fc28_0b61_11ec_b163_04ed33c19f61row11_col9\" class=\"data row11 col9\" >-0.58</td>\n",
       "                        <td id=\"T_0b82fc28_0b61_11ec_b163_04ed33c19f61row11_col10\" class=\"data row11 col10\" >-0.33</td>\n",
       "                        <td id=\"T_0b82fc28_0b61_11ec_b163_04ed33c19f61row11_col11\" class=\"data row11 col11\" >1</td>\n",
       "                        <td id=\"T_0b82fc28_0b61_11ec_b163_04ed33c19f61row11_col12\" class=\"data row11 col12\" >-0.053</td>\n",
       "            </tr>\n",
       "            <tr>\n",
       "                        <th id=\"T_0b82fc28_0b61_11ec_b163_04ed33c19f61level0_row12\" class=\"row_heading level0 row12\" >Exited</th>\n",
       "                        <td id=\"T_0b82fc28_0b61_11ec_b163_04ed33c19f61row12_col0\" class=\"data row12 col0\" >-0.027</td>\n",
       "                        <td id=\"T_0b82fc28_0b61_11ec_b163_04ed33c19f61row12_col1\" class=\"data row12 col1\" >-0.11</td>\n",
       "                        <td id=\"T_0b82fc28_0b61_11ec_b163_04ed33c19f61row12_col2\" class=\"data row12 col2\" >0.29</td>\n",
       "                        <td id=\"T_0b82fc28_0b61_11ec_b163_04ed33c19f61row12_col3\" class=\"data row12 col3\" >-0.014</td>\n",
       "                        <td id=\"T_0b82fc28_0b61_11ec_b163_04ed33c19f61row12_col4\" class=\"data row12 col4\" >0.12</td>\n",
       "                        <td id=\"T_0b82fc28_0b61_11ec_b163_04ed33c19f61row12_col5\" class=\"data row12 col5\" >-0.048</td>\n",
       "                        <td id=\"T_0b82fc28_0b61_11ec_b163_04ed33c19f61row12_col6\" class=\"data row12 col6\" >-0.0071</td>\n",
       "                        <td id=\"T_0b82fc28_0b61_11ec_b163_04ed33c19f61row12_col7\" class=\"data row12 col7\" >-0.16</td>\n",
       "                        <td id=\"T_0b82fc28_0b61_11ec_b163_04ed33c19f61row12_col8\" class=\"data row12 col8\" >0.012</td>\n",
       "                        <td id=\"T_0b82fc28_0b61_11ec_b163_04ed33c19f61row12_col9\" class=\"data row12 col9\" >-0.1</td>\n",
       "                        <td id=\"T_0b82fc28_0b61_11ec_b163_04ed33c19f61row12_col10\" class=\"data row12 col10\" >0.17</td>\n",
       "                        <td id=\"T_0b82fc28_0b61_11ec_b163_04ed33c19f61row12_col11\" class=\"data row12 col11\" >-0.053</td>\n",
       "                        <td id=\"T_0b82fc28_0b61_11ec_b163_04ed33c19f61row12_col12\" class=\"data row12 col12\" >1</td>\n",
       "            </tr>\n",
       "    </tbody></table>"
      ],
      "text/plain": [
       "<pandas.io.formats.style.Styler at 0x1f60e78c5c8>"
      ]
     },
     "execution_count": 16,
     "metadata": {},
     "output_type": "execute_result"
    }
   ],
   "source": [
    "corr = data.corr()\n",
    "corr.style\\\n",
    "    .background_gradient(cmap='viridis', axis=None)\\\n",
    "    .set_precision(2)\\\n",
    "    .set_caption('Features Correlation Matrix')\\"
   ]
  },
  {
   "cell_type": "markdown",
   "metadata": {},
   "source": [
    "To be more specific, we can see the correlation of each attribute to 'Extied', where numbers closer to the edges are what we are looking for. A value close to 1 indicates strong positive correlation, and a value close to -1 indicates strong negative correlation."
   ]
  },
  {
   "cell_type": "code",
   "execution_count": 17,
   "metadata": {},
   "outputs": [
    {
     "data": {
      "text/plain": [
       "Exited               1.000000\n",
       "Age                  0.285323\n",
       "Geo_dummy_Germany    0.173488\n",
       "Balance              0.118533\n",
       "EstimatedSalary      0.012097\n",
       "HasCrCard           -0.007138\n",
       "Tenure              -0.014001\n",
       "CreditScore         -0.027094\n",
       "NumOfProducts       -0.047820\n",
       "Geo_dummy_Spain     -0.052667\n",
       "Geo_dummy_France    -0.104955\n",
       "Gender              -0.106512\n",
       "IsActiveMember      -0.156128\n",
       "Name: Exited, dtype: float64"
      ]
     },
     "execution_count": 17,
     "metadata": {},
     "output_type": "execute_result"
    }
   ],
   "source": [
    "corr['Exited'].sort_values(ascending=False)"
   ]
  },
  {
   "cell_type": "markdown",
   "metadata": {},
   "source": [
    "Our top candidates (an absolute score of at least 0.1) are:\n",
    "\n",
    "Positive correlation:\n",
    "\n",
    "- Age\n",
    "- Geo_dummy_Germany\n",
    "- Balance\n",
    "\n",
    "Positive correlation:\n",
    "\n",
    " - IsActiveMember\n",
    " - Gender\n",
    " - Geo_dummy_France"
   ]
  },
  {
   "cell_type": "markdown",
   "metadata": {},
   "source": [
    "### Balance to NumOfProducts"
   ]
  },
  {
   "cell_type": "code",
   "execution_count": 18,
   "metadata": {},
   "outputs": [
    {
     "data": {
      "text/plain": [
       "Text(0, 0.5, 'Balance')"
      ]
     },
     "execution_count": 18,
     "metadata": {},
     "output_type": "execute_result"
    },
    {
     "data": {
      "image/png": "[encoded data removed]",
      "text/plain": [
       "<Figure size 432x288 with 1 Axes>"
      ]
     },
     "metadata": {
      "needs_background": "light"
     },
     "output_type": "display_data"
    }
   ],
   "source": [
    "BalanceNumOfProducts = data.groupby('NumOfProducts')['Balance'].mean()\n",
    "BalanceNumOfProducts = BalanceNumOfProducts.plot.bar()\n",
    "BalanceNumOfProducts.set_ylabel(\"Balance\")"
   ]
  },
  {
   "cell_type": "markdown",
   "metadata": {},
   "source": [
    "### NumOfProducts to Exited"
   ]
  },
  {
   "cell_type": "code",
   "execution_count": 19,
   "metadata": {},
   "outputs": [
    {
     "data": {
      "text/plain": [
       "Text(0, 0.5, 'Exited')"
      ]
     },
     "execution_count": 19,
     "metadata": {},
     "output_type": "execute_result"
    },
    {
     "data": {
      "image/png": "[encoded data removed]",
      "text/plain": [
       "<Figure size 432x288 with 1 Axes>"
      ]
     },
     "metadata": {
      "needs_background": "light"
     },
     "output_type": "display_data"
    }
   ],
   "source": [
    "NumOfProductsExited = data.groupby('NumOfProducts')['Exited'].sum()\n",
    "NumOfProductsExited = NumOfProductsExited.plot.bar()\n",
    "NumOfProductsExited.set_ylabel(\"Exited\")"
   ]
  },
  {
   "cell_type": "markdown",
   "metadata": {},
   "source": [
    "### Age to Exited"
   ]
  },
  {
   "cell_type": "code",
   "execution_count": 22,
   "metadata": {
    "scrolled": true
   },
   "outputs": [
    {
     "data": {
      "text/plain": [
       "Text(0, 0.5, 'Exited')"
      ]
     },
     "execution_count": 22,
     "metadata": {},
     "output_type": "execute_result"
    },
    {
     "data": {
      "image/png": "[encoded data removed]",
      "text/plain": [
       "<Figure size 432x288 with 1 Axes>"
      ]
     },
     "metadata": {
      "needs_background": "light"
     },
     "output_type": "display_data"
    }
   ],
   "source": [
    "AgeExited = data.groupby('Age')['Exited'].sum()\n",
    "AgeExited = AgeExited.plot.line()\n",
    "AgeExited.set_ylabel(\"Exited\")"
   ]
  },
  {
   "cell_type": "markdown",
   "metadata": {},
   "source": [
    "### Country to Balance"
   ]
  },
  {
   "cell_type": "code",
   "execution_count": 23,
   "metadata": {},
   "outputs": [
    {
     "data": {
      "text/plain": [
       "Text(0, 0.5, 'Exited')"
      ]
     },
     "execution_count": 23,
     "metadata": {},
     "output_type": "execute_result"
    },
    {
     "data": {
      "image/png": "[encoded data removed]",
      "text/plain": [
       "<Figure size 432x288 with 1 Axes>"
      ]
     },
     "metadata": {
      "needs_background": "light"
     },
     "output_type": "display_data"
    }
   ],
   "source": [
    "ogdata = pd.read_csv('Churn_Modelling.csv')\n",
    "countryBalance = ogdata.groupby('Geography')['Balance'].mean()\n",
    "countryBalance = countryBalance.plot.bar()\n",
    "countryBalance.set_ylabel(\"Exited\")"
   ]
  },
  {
   "cell_type": "markdown",
   "metadata": {},
   "source": [
    "### Country to Exited"
   ]
  },
  {
   "cell_type": "code",
   "execution_count": 24,
   "metadata": {},
   "outputs": [
    {
     "data": {
      "text/plain": [
       "Text(0, 0.5, 'Exited')"
      ]
     },
     "execution_count": 24,
     "metadata": {},
     "output_type": "execute_result"
    },
    {
     "data": {
      "image/png": "[encoded data removed]",
      "text/plain": [
       "<Figure size 432x288 with 1 Axes>"
      ]
     },
     "metadata": {
      "needs_background": "light"
     },
     "output_type": "display_data"
    }
   ],
   "source": [
    "countryExited = ogdata.groupby('Geography')['Exited'].sum()\n",
    "countryExited = countryExited.plot.bar()\n",
    "countryExited.set_ylabel(\"Exited\")"
   ]
  },
  {
   "cell_type": "markdown",
   "metadata": {},
   "source": []
  },
  {
   "cell_type": "markdown",
   "metadata": {},
   "source": []
  },
  {
   "cell_type": "markdown",
   "metadata": {},
   "source": [
    "## 3) Division of the records into a training group and a test group"
   ]
  },
  {
   "cell_type": "code",
   "execution_count": 25,
   "metadata": {},
   "outputs": [],
   "source": [
    "X = data.drop(['Exited'], axis=1)\n",
    "y = data[\"Exited\"]"
   ]
  },
  {
   "cell_type": "markdown",
   "metadata": {},
   "source": [
    "### Normalizing the Data"
   ]
  },
  {
   "cell_type": "markdown",
   "metadata": {},
   "source": [
    "To get better results from our model we can normalize the data.\n",
    "A good scaler for that would be MinMaxScaler which is known to be sensetive to outliers but because we made sure we do not have outliers we can confidently use it."
   ]
  },
  {
   "cell_type": "code",
   "execution_count": 26,
   "metadata": {},
   "outputs": [
    {
     "data": {
      "text/html": [
       "<div>\n",
       "<style scoped>\n",
       "    .dataframe tbody tr th:only-of-type {\n",
       "        vertical-align: middle;\n",
       "    }\n",
       "\n",
       "    .dataframe tbody tr th {\n",
       "        vertical-align: top;\n",
       "    }\n",
       "\n",
       "    .dataframe thead th {\n",
       "        text-align: right;\n",
       "    }\n",
       "</style>\n",
       "<table border=\"1\" class=\"dataframe\">\n",
       "  <thead>\n",
       "    <tr style=\"text-align: right;\">\n",
       "      <th></th>\n",
       "      <th>CreditScore</th>\n",
       "      <th>Gender</th>\n",
       "      <th>Age</th>\n",
       "      <th>Tenure</th>\n",
       "      <th>Balance</th>\n",
       "      <th>NumOfProducts</th>\n",
       "      <th>HasCrCard</th>\n",
       "      <th>IsActiveMember</th>\n",
       "      <th>EstimatedSalary</th>\n",
       "      <th>Geo_dummy_France</th>\n",
       "      <th>Geo_dummy_Germany</th>\n",
       "      <th>Geo_dummy_Spain</th>\n",
       "    </tr>\n",
       "  </thead>\n",
       "  <tbody>\n",
       "    <tr>\n",
       "      <td>0</td>\n",
       "      <td>0.538</td>\n",
       "      <td>0.0</td>\n",
       "      <td>0.324324</td>\n",
       "      <td>0.2</td>\n",
       "      <td>0.000000</td>\n",
       "      <td>0.000000</td>\n",
       "      <td>1.0</td>\n",
       "      <td>1.0</td>\n",
       "      <td>0.506735</td>\n",
       "      <td>1.0</td>\n",
       "      <td>0.0</td>\n",
       "      <td>0.0</td>\n",
       "    </tr>\n",
       "    <tr>\n",
       "      <td>1</td>\n",
       "      <td>0.516</td>\n",
       "      <td>0.0</td>\n",
       "      <td>0.310811</td>\n",
       "      <td>0.1</td>\n",
       "      <td>0.334031</td>\n",
       "      <td>0.000000</td>\n",
       "      <td>0.0</td>\n",
       "      <td>1.0</td>\n",
       "      <td>0.562709</td>\n",
       "      <td>0.0</td>\n",
       "      <td>0.0</td>\n",
       "      <td>1.0</td>\n",
       "    </tr>\n",
       "    <tr>\n",
       "      <td>2</td>\n",
       "      <td>0.304</td>\n",
       "      <td>0.0</td>\n",
       "      <td>0.324324</td>\n",
       "      <td>0.8</td>\n",
       "      <td>0.636357</td>\n",
       "      <td>0.666667</td>\n",
       "      <td>1.0</td>\n",
       "      <td>0.0</td>\n",
       "      <td>0.569654</td>\n",
       "      <td>1.0</td>\n",
       "      <td>0.0</td>\n",
       "      <td>0.0</td>\n",
       "    </tr>\n",
       "    <tr>\n",
       "      <td>3</td>\n",
       "      <td>0.698</td>\n",
       "      <td>0.0</td>\n",
       "      <td>0.283784</td>\n",
       "      <td>0.1</td>\n",
       "      <td>0.000000</td>\n",
       "      <td>0.333333</td>\n",
       "      <td>0.0</td>\n",
       "      <td>0.0</td>\n",
       "      <td>0.469120</td>\n",
       "      <td>1.0</td>\n",
       "      <td>0.0</td>\n",
       "      <td>0.0</td>\n",
       "    </tr>\n",
       "    <tr>\n",
       "      <td>4</td>\n",
       "      <td>1.000</td>\n",
       "      <td>0.0</td>\n",
       "      <td>0.337838</td>\n",
       "      <td>0.2</td>\n",
       "      <td>0.500246</td>\n",
       "      <td>0.000000</td>\n",
       "      <td>1.0</td>\n",
       "      <td>1.0</td>\n",
       "      <td>0.395400</td>\n",
       "      <td>0.0</td>\n",
       "      <td>0.0</td>\n",
       "      <td>1.0</td>\n",
       "    </tr>\n",
       "    <tr>\n",
       "      <td>...</td>\n",
       "      <td>...</td>\n",
       "      <td>...</td>\n",
       "      <td>...</td>\n",
       "      <td>...</td>\n",
       "      <td>...</td>\n",
       "      <td>...</td>\n",
       "      <td>...</td>\n",
       "      <td>...</td>\n",
       "      <td>...</td>\n",
       "      <td>...</td>\n",
       "      <td>...</td>\n",
       "      <td>...</td>\n",
       "    </tr>\n",
       "    <tr>\n",
       "      <td>9995</td>\n",
       "      <td>0.842</td>\n",
       "      <td>1.0</td>\n",
       "      <td>0.283784</td>\n",
       "      <td>0.5</td>\n",
       "      <td>0.000000</td>\n",
       "      <td>0.333333</td>\n",
       "      <td>1.0</td>\n",
       "      <td>0.0</td>\n",
       "      <td>0.481341</td>\n",
       "      <td>1.0</td>\n",
       "      <td>0.0</td>\n",
       "      <td>0.0</td>\n",
       "    </tr>\n",
       "    <tr>\n",
       "      <td>9996</td>\n",
       "      <td>0.332</td>\n",
       "      <td>1.0</td>\n",
       "      <td>0.229730</td>\n",
       "      <td>1.0</td>\n",
       "      <td>0.228657</td>\n",
       "      <td>0.000000</td>\n",
       "      <td>1.0</td>\n",
       "      <td>1.0</td>\n",
       "      <td>0.508490</td>\n",
       "      <td>1.0</td>\n",
       "      <td>0.0</td>\n",
       "      <td>0.0</td>\n",
       "    </tr>\n",
       "    <tr>\n",
       "      <td>9997</td>\n",
       "      <td>0.718</td>\n",
       "      <td>0.0</td>\n",
       "      <td>0.243243</td>\n",
       "      <td>0.7</td>\n",
       "      <td>0.000000</td>\n",
       "      <td>0.000000</td>\n",
       "      <td>0.0</td>\n",
       "      <td>1.0</td>\n",
       "      <td>0.210390</td>\n",
       "      <td>1.0</td>\n",
       "      <td>0.0</td>\n",
       "      <td>0.0</td>\n",
       "    </tr>\n",
       "    <tr>\n",
       "      <td>9998</td>\n",
       "      <td>0.844</td>\n",
       "      <td>1.0</td>\n",
       "      <td>0.324324</td>\n",
       "      <td>0.3</td>\n",
       "      <td>0.299226</td>\n",
       "      <td>0.333333</td>\n",
       "      <td>1.0</td>\n",
       "      <td>0.0</td>\n",
       "      <td>0.464429</td>\n",
       "      <td>0.0</td>\n",
       "      <td>1.0</td>\n",
       "      <td>0.0</td>\n",
       "    </tr>\n",
       "    <tr>\n",
       "      <td>9999</td>\n",
       "      <td>0.884</td>\n",
       "      <td>0.0</td>\n",
       "      <td>0.135135</td>\n",
       "      <td>0.4</td>\n",
       "      <td>0.518708</td>\n",
       "      <td>0.000000</td>\n",
       "      <td>1.0</td>\n",
       "      <td>0.0</td>\n",
       "      <td>0.190914</td>\n",
       "      <td>1.0</td>\n",
       "      <td>0.0</td>\n",
       "      <td>0.0</td>\n",
       "    </tr>\n",
       "  </tbody>\n",
       "</table>\n",
       "<p>10000 rows × 12 columns</p>\n",
       "</div>"
      ],
      "text/plain": [
       "      CreditScore  Gender       Age  Tenure   Balance  NumOfProducts  \\\n",
       "0           0.538     0.0  0.324324     0.2  0.000000       0.000000   \n",
       "1           0.516     0.0  0.310811     0.1  0.334031       0.000000   \n",
       "2           0.304     0.0  0.324324     0.8  0.636357       0.666667   \n",
       "3           0.698     0.0  0.283784     0.1  0.000000       0.333333   \n",
       "4           1.000     0.0  0.337838     0.2  0.500246       0.000000   \n",
       "...           ...     ...       ...     ...       ...            ...   \n",
       "9995        0.842     1.0  0.283784     0.5  0.000000       0.333333   \n",
       "9996        0.332     1.0  0.229730     1.0  0.228657       0.000000   \n",
       "9997        0.718     0.0  0.243243     0.7  0.000000       0.000000   \n",
       "9998        0.844     1.0  0.324324     0.3  0.299226       0.333333   \n",
       "9999        0.884     0.0  0.135135     0.4  0.518708       0.000000   \n",
       "\n",
       "      HasCrCard  IsActiveMember  EstimatedSalary  Geo_dummy_France  \\\n",
       "0           1.0             1.0         0.506735               1.0   \n",
       "1           0.0             1.0         0.562709               0.0   \n",
       "2           1.0             0.0         0.569654               1.0   \n",
       "3           0.0             0.0         0.469120               1.0   \n",
       "4           1.0             1.0         0.395400               0.0   \n",
       "...         ...             ...              ...               ...   \n",
       "9995        1.0             0.0         0.481341               1.0   \n",
       "9996        1.0             1.0         0.508490               1.0   \n",
       "9997        0.0             1.0         0.210390               1.0   \n",
       "9998        1.0             0.0         0.464429               0.0   \n",
       "9999        1.0             0.0         0.190914               1.0   \n",
       "\n",
       "      Geo_dummy_Germany  Geo_dummy_Spain  \n",
       "0                   0.0              0.0  \n",
       "1                   0.0              1.0  \n",
       "2                   0.0              0.0  \n",
       "3                   0.0              0.0  \n",
       "4                   0.0              1.0  \n",
       "...                 ...              ...  \n",
       "9995                0.0              0.0  \n",
       "9996                0.0              0.0  \n",
       "9997                0.0              0.0  \n",
       "9998                1.0              0.0  \n",
       "9999                0.0              0.0  \n",
       "\n",
       "[10000 rows x 12 columns]"
      ]
     },
     "execution_count": 26,
     "metadata": {},
     "output_type": "execute_result"
    }
   ],
   "source": [
    "from sklearn.preprocessing import MinMaxScaler\n",
    "\n",
    "X_cols = X.columns\n",
    "scaler = MinMaxScaler()\n",
    "norm_X = scaler.fit_transform(X)\n",
    "norm_X = pd.DataFrame(norm_X, columns=X_cols)\n",
    "norm_X"
   ]
  },
  {
   "cell_type": "code",
   "execution_count": 27,
   "metadata": {},
   "outputs": [
    {
     "name": "stdout",
     "output_type": "stream",
     "text": [
      "X_train shape:  (8000, 12)\n",
      "y_train shape:  (8000,)\n",
      "X_test shape:  (2000, 12)\n",
      "y_test shape:  (2000,)\n"
     ]
    }
   ],
   "source": [
    "from sklearn.model_selection import train_test_split\n",
    "\n",
    "x_train, x_test, y_train, y_test = train_test_split(norm_X, y, test_size=0.20, random_state=0)\n",
    "\n",
    "print('X_train shape: ', x_train.shape)\n",
    "print('y_train shape: ', y_train.shape)\n",
    "print('X_test shape: ', x_test.shape)\n",
    "print('y_test shape: ', y_test.shape)"
   ]
  },
  {
   "cell_type": "markdown",
   "metadata": {},
   "source": [
    "## 4) Models training and evaluation."
   ]
  },
  {
   "cell_type": "markdown",
   "metadata": {},
   "source": [
    "After exploring the data and getting interesting conclusions we want to let the computer find us the deep connections between the different attributes to the result of a customer leaving the bank.\n",
    "For that mission we will use two very popular classification algorithms:\n",
    "\n",
    "KNN (k-nearest neighbors algorithm):\n",
    "- In k-NN classification, the output is a class membership. An object is classified by a plurality vote of its neighbors, with the object being assigned to the class most common among its k nearest neighbors (k is a positive integer, typically small). If k = 1, then the object is simply assigned to the class of that single nearest neighbor.\n",
    "\n",
    "Random decision forests:\n",
    "- Random decision forests operate by constructing a multitude of decision trees at training time and outputting the class that is the mode of the classes (classification) or mean/average prediction (regression) of the individual trees."
   ]
  },
  {
   "cell_type": "markdown",
   "metadata": {},
   "source": [
    "We will also use a confusion matrix, also known as an error matrix, it is a specific table layout that allows visualization of the performance of an algorithm. Each row of the matrix represents the instances in a predicted class, while each column represents the instances in an actual class (or vice versa)"
   ]
  },
  {
   "cell_type": "code",
   "execution_count": 28,
   "metadata": {},
   "outputs": [
    {
     "ename": "FileNotFoundError",
     "evalue": "No such file or directory: 'images/conf_mat.png'",
     "output_type": "error",
     "traceback": [
      "\u001b[1;31m---------------------------------------------------------------------------\u001b[0m",
      "\u001b[1;31mTypeError\u001b[0m                                 Traceback (most recent call last)",
      "\u001b[1;32m~\\Anaconda3\\lib\\site-packages\\IPython\\core\\display.py\u001b[0m in \u001b[0;36m_data_and_metadata\u001b[1;34m(self, always_both)\u001b[0m\n\u001b[0;32m   1264\u001b[0m         \u001b[1;32mtry\u001b[0m\u001b[1;33m:\u001b[0m\u001b[1;33m\u001b[0m\u001b[1;33m\u001b[0m\u001b[0m\n\u001b[1;32m-> 1265\u001b[1;33m             \u001b[0mb64_data\u001b[0m \u001b[1;33m=\u001b[0m \u001b[0mb2a_base64\u001b[0m\u001b[1;33m(\u001b[0m\u001b[0mself\u001b[0m\u001b[1;33m.\u001b[0m\u001b[0mdata\u001b[0m\u001b[1;33m)\u001b[0m\u001b[1;33m.\u001b[0m\u001b[0mdecode\u001b[0m\u001b[1;33m(\u001b[0m\u001b[1;34m'ascii'\u001b[0m\u001b[1;33m)\u001b[0m\u001b[1;33m\u001b[0m\u001b[1;33m\u001b[0m\u001b[0m\n\u001b[0m\u001b[0;32m   1266\u001b[0m         \u001b[1;32mexcept\u001b[0m \u001b[0mTypeError\u001b[0m\u001b[1;33m:\u001b[0m\u001b[1;33m\u001b[0m\u001b[1;33m\u001b[0m\u001b[0m\n",
      "\u001b[1;31mTypeError\u001b[0m: a bytes-like object is required, not 'str'",
      "\nDuring handling of the above exception, another exception occurred:\n",
      "\u001b[1;31mFileNotFoundError\u001b[0m                         Traceback (most recent call last)",
      "\u001b[1;32m~\\Anaconda3\\lib\\site-packages\\IPython\\core\\formatters.py\u001b[0m in \u001b[0;36m__call__\u001b[1;34m(self, obj, include, exclude)\u001b[0m\n\u001b[0;32m    968\u001b[0m \u001b[1;33m\u001b[0m\u001b[0m\n\u001b[0;32m    969\u001b[0m             \u001b[1;32mif\u001b[0m \u001b[0mmethod\u001b[0m \u001b[1;32mis\u001b[0m \u001b[1;32mnot\u001b[0m \u001b[1;32mNone\u001b[0m\u001b[1;33m:\u001b[0m\u001b[1;33m\u001b[0m\u001b[1;33m\u001b[0m\u001b[0m\n\u001b[1;32m--> 970\u001b[1;33m                 \u001b[1;32mreturn\u001b[0m \u001b[0mmethod\u001b[0m\u001b[1;33m(\u001b[0m\u001b[0minclude\u001b[0m\u001b[1;33m=\u001b[0m\u001b[0minclude\u001b[0m\u001b[1;33m,\u001b[0m \u001b[0mexclude\u001b[0m\u001b[1;33m=\u001b[0m\u001b[0mexclude\u001b[0m\u001b[1;33m)\u001b[0m\u001b[1;33m\u001b[0m\u001b[1;33m\u001b[0m\u001b[0m\n\u001b[0m\u001b[0;32m    971\u001b[0m             \u001b[1;32mreturn\u001b[0m \u001b[1;32mNone\u001b[0m\u001b[1;33m\u001b[0m\u001b[1;33m\u001b[0m\u001b[0m\n\u001b[0;32m    972\u001b[0m         \u001b[1;32melse\u001b[0m\u001b[1;33m:\u001b[0m\u001b[1;33m\u001b[0m\u001b[1;33m\u001b[0m\u001b[0m\n",
      "\u001b[1;32m~\\Anaconda3\\lib\\site-packages\\IPython\\core\\display.py\u001b[0m in \u001b[0;36m_repr_mimebundle_\u001b[1;34m(self, include, exclude)\u001b[0m\n\u001b[0;32m   1253\u001b[0m         \u001b[1;32mif\u001b[0m \u001b[0mself\u001b[0m\u001b[1;33m.\u001b[0m\u001b[0membed\u001b[0m\u001b[1;33m:\u001b[0m\u001b[1;33m\u001b[0m\u001b[1;33m\u001b[0m\u001b[0m\n\u001b[0;32m   1254\u001b[0m             \u001b[0mmimetype\u001b[0m \u001b[1;33m=\u001b[0m \u001b[0mself\u001b[0m\u001b[1;33m.\u001b[0m\u001b[0m_mimetype\u001b[0m\u001b[1;33m\u001b[0m\u001b[1;33m\u001b[0m\u001b[0m\n\u001b[1;32m-> 1255\u001b[1;33m             \u001b[0mdata\u001b[0m\u001b[1;33m,\u001b[0m \u001b[0mmetadata\u001b[0m \u001b[1;33m=\u001b[0m \u001b[0mself\u001b[0m\u001b[1;33m.\u001b[0m\u001b[0m_data_and_metadata\u001b[0m\u001b[1;33m(\u001b[0m\u001b[0malways_both\u001b[0m\u001b[1;33m=\u001b[0m\u001b[1;32mTrue\u001b[0m\u001b[1;33m)\u001b[0m\u001b[1;33m\u001b[0m\u001b[1;33m\u001b[0m\u001b[0m\n\u001b[0m\u001b[0;32m   1256\u001b[0m             \u001b[1;32mif\u001b[0m \u001b[0mmetadata\u001b[0m\u001b[1;33m:\u001b[0m\u001b[1;33m\u001b[0m\u001b[1;33m\u001b[0m\u001b[0m\n\u001b[0;32m   1257\u001b[0m                 \u001b[0mmetadata\u001b[0m \u001b[1;33m=\u001b[0m \u001b[1;33m{\u001b[0m\u001b[0mmimetype\u001b[0m\u001b[1;33m:\u001b[0m \u001b[0mmetadata\u001b[0m\u001b[1;33m}\u001b[0m\u001b[1;33m\u001b[0m\u001b[1;33m\u001b[0m\u001b[0m\n",
      "\u001b[1;32m~\\Anaconda3\\lib\\site-packages\\IPython\\core\\display.py\u001b[0m in \u001b[0;36m_data_and_metadata\u001b[1;34m(self, always_both)\u001b[0m\n\u001b[0;32m   1266\u001b[0m         \u001b[1;32mexcept\u001b[0m \u001b[0mTypeError\u001b[0m\u001b[1;33m:\u001b[0m\u001b[1;33m\u001b[0m\u001b[1;33m\u001b[0m\u001b[0m\n\u001b[0;32m   1267\u001b[0m             raise FileNotFoundError(\n\u001b[1;32m-> 1268\u001b[1;33m                 \"No such file or directory: '%s'\" % (self.data))\n\u001b[0m\u001b[0;32m   1269\u001b[0m         \u001b[0mmd\u001b[0m \u001b[1;33m=\u001b[0m \u001b[1;33m{\u001b[0m\u001b[1;33m}\u001b[0m\u001b[1;33m\u001b[0m\u001b[1;33m\u001b[0m\u001b[0m\n\u001b[0;32m   1270\u001b[0m         \u001b[1;32mif\u001b[0m \u001b[0mself\u001b[0m\u001b[1;33m.\u001b[0m\u001b[0mmetadata\u001b[0m\u001b[1;33m:\u001b[0m\u001b[1;33m\u001b[0m\u001b[1;33m\u001b[0m\u001b[0m\n",
      "\u001b[1;31mFileNotFoundError\u001b[0m: No such file or directory: 'images/conf_mat.png'"
     ]
    },
    {
     "ename": "FileNotFoundError",
     "evalue": "No such file or directory: 'images/conf_mat.png'",
     "output_type": "error",
     "traceback": [
      "\u001b[1;31m---------------------------------------------------------------------------\u001b[0m",
      "\u001b[1;31mTypeError\u001b[0m                                 Traceback (most recent call last)",
      "\u001b[1;32m~\\Anaconda3\\lib\\site-packages\\IPython\\core\\display.py\u001b[0m in \u001b[0;36m_data_and_metadata\u001b[1;34m(self, always_both)\u001b[0m\n\u001b[0;32m   1264\u001b[0m         \u001b[1;32mtry\u001b[0m\u001b[1;33m:\u001b[0m\u001b[1;33m\u001b[0m\u001b[1;33m\u001b[0m\u001b[0m\n\u001b[1;32m-> 1265\u001b[1;33m             \u001b[0mb64_data\u001b[0m \u001b[1;33m=\u001b[0m \u001b[0mb2a_base64\u001b[0m\u001b[1;33m(\u001b[0m\u001b[0mself\u001b[0m\u001b[1;33m.\u001b[0m\u001b[0mdata\u001b[0m\u001b[1;33m)\u001b[0m\u001b[1;33m.\u001b[0m\u001b[0mdecode\u001b[0m\u001b[1;33m(\u001b[0m\u001b[1;34m'ascii'\u001b[0m\u001b[1;33m)\u001b[0m\u001b[1;33m\u001b[0m\u001b[1;33m\u001b[0m\u001b[0m\n\u001b[0m\u001b[0;32m   1266\u001b[0m         \u001b[1;32mexcept\u001b[0m \u001b[0mTypeError\u001b[0m\u001b[1;33m:\u001b[0m\u001b[1;33m\u001b[0m\u001b[1;33m\u001b[0m\u001b[0m\n",
      "\u001b[1;31mTypeError\u001b[0m: a bytes-like object is required, not 'str'",
      "\nDuring handling of the above exception, another exception occurred:\n",
      "\u001b[1;31mFileNotFoundError\u001b[0m                         Traceback (most recent call last)",
      "\u001b[1;32m~\\Anaconda3\\lib\\site-packages\\IPython\\core\\formatters.py\u001b[0m in \u001b[0;36m__call__\u001b[1;34m(self, obj)\u001b[0m\n\u001b[0;32m    343\u001b[0m             \u001b[0mmethod\u001b[0m \u001b[1;33m=\u001b[0m \u001b[0mget_real_method\u001b[0m\u001b[1;33m(\u001b[0m\u001b[0mobj\u001b[0m\u001b[1;33m,\u001b[0m \u001b[0mself\u001b[0m\u001b[1;33m.\u001b[0m\u001b[0mprint_method\u001b[0m\u001b[1;33m)\u001b[0m\u001b[1;33m\u001b[0m\u001b[1;33m\u001b[0m\u001b[0m\n\u001b[0;32m    344\u001b[0m             \u001b[1;32mif\u001b[0m \u001b[0mmethod\u001b[0m \u001b[1;32mis\u001b[0m \u001b[1;32mnot\u001b[0m \u001b[1;32mNone\u001b[0m\u001b[1;33m:\u001b[0m\u001b[1;33m\u001b[0m\u001b[1;33m\u001b[0m\u001b[0m\n\u001b[1;32m--> 345\u001b[1;33m                 \u001b[1;32mreturn\u001b[0m \u001b[0mmethod\u001b[0m\u001b[1;33m(\u001b[0m\u001b[1;33m)\u001b[0m\u001b[1;33m\u001b[0m\u001b[1;33m\u001b[0m\u001b[0m\n\u001b[0m\u001b[0;32m    346\u001b[0m             \u001b[1;32mreturn\u001b[0m \u001b[1;32mNone\u001b[0m\u001b[1;33m\u001b[0m\u001b[1;33m\u001b[0m\u001b[0m\n\u001b[0;32m    347\u001b[0m         \u001b[1;32melse\u001b[0m\u001b[1;33m:\u001b[0m\u001b[1;33m\u001b[0m\u001b[1;33m\u001b[0m\u001b[0m\n",
      "\u001b[1;32m~\\Anaconda3\\lib\\site-packages\\IPython\\core\\display.py\u001b[0m in \u001b[0;36m_repr_png_\u001b[1;34m(self)\u001b[0m\n\u001b[0;32m   1283\u001b[0m     \u001b[1;32mdef\u001b[0m \u001b[0m_repr_png_\u001b[0m\u001b[1;33m(\u001b[0m\u001b[0mself\u001b[0m\u001b[1;33m)\u001b[0m\u001b[1;33m:\u001b[0m\u001b[1;33m\u001b[0m\u001b[1;33m\u001b[0m\u001b[0m\n\u001b[0;32m   1284\u001b[0m         \u001b[1;32mif\u001b[0m \u001b[0mself\u001b[0m\u001b[1;33m.\u001b[0m\u001b[0membed\u001b[0m \u001b[1;32mand\u001b[0m \u001b[0mself\u001b[0m\u001b[1;33m.\u001b[0m\u001b[0mformat\u001b[0m \u001b[1;33m==\u001b[0m \u001b[0mself\u001b[0m\u001b[1;33m.\u001b[0m\u001b[0m_FMT_PNG\u001b[0m\u001b[1;33m:\u001b[0m\u001b[1;33m\u001b[0m\u001b[1;33m\u001b[0m\u001b[0m\n\u001b[1;32m-> 1285\u001b[1;33m             \u001b[1;32mreturn\u001b[0m \u001b[0mself\u001b[0m\u001b[1;33m.\u001b[0m\u001b[0m_data_and_metadata\u001b[0m\u001b[1;33m(\u001b[0m\u001b[1;33m)\u001b[0m\u001b[1;33m\u001b[0m\u001b[1;33m\u001b[0m\u001b[0m\n\u001b[0m\u001b[0;32m   1286\u001b[0m \u001b[1;33m\u001b[0m\u001b[0m\n\u001b[0;32m   1287\u001b[0m     \u001b[1;32mdef\u001b[0m \u001b[0m_repr_jpeg_\u001b[0m\u001b[1;33m(\u001b[0m\u001b[0mself\u001b[0m\u001b[1;33m)\u001b[0m\u001b[1;33m:\u001b[0m\u001b[1;33m\u001b[0m\u001b[1;33m\u001b[0m\u001b[0m\n",
      "\u001b[1;32m~\\Anaconda3\\lib\\site-packages\\IPython\\core\\display.py\u001b[0m in \u001b[0;36m_data_and_metadata\u001b[1;34m(self, always_both)\u001b[0m\n\u001b[0;32m   1266\u001b[0m         \u001b[1;32mexcept\u001b[0m \u001b[0mTypeError\u001b[0m\u001b[1;33m:\u001b[0m\u001b[1;33m\u001b[0m\u001b[1;33m\u001b[0m\u001b[0m\n\u001b[0;32m   1267\u001b[0m             raise FileNotFoundError(\n\u001b[1;32m-> 1268\u001b[1;33m                 \"No such file or directory: '%s'\" % (self.data))\n\u001b[0m\u001b[0;32m   1269\u001b[0m         \u001b[0mmd\u001b[0m \u001b[1;33m=\u001b[0m \u001b[1;33m{\u001b[0m\u001b[1;33m}\u001b[0m\u001b[1;33m\u001b[0m\u001b[1;33m\u001b[0m\u001b[0m\n\u001b[0;32m   1270\u001b[0m         \u001b[1;32mif\u001b[0m \u001b[0mself\u001b[0m\u001b[1;33m.\u001b[0m\u001b[0mmetadata\u001b[0m\u001b[1;33m:\u001b[0m\u001b[1;33m\u001b[0m\u001b[1;33m\u001b[0m\u001b[0m\n",
      "\u001b[1;31mFileNotFoundError\u001b[0m: No such file or directory: 'images/conf_mat.png'"
     ]
    },
    {
     "data": {
      "text/plain": [
       "<IPython.core.display.Image object>"
      ]
     },
     "execution_count": 28,
     "metadata": {},
     "output_type": "execute_result"
    }
   ],
   "source": [
    "from IPython import display \n",
    "display.Image(\"images/conf_mat.png\")"
   ]
  },
  {
   "cell_type": "code",
   "execution_count": 29,
   "metadata": {},
   "outputs": [],
   "source": [
    "# importing classification algorithms and evaluation tools\n",
    "from sklearn.neighbors import KNeighborsClassifier\n",
    "from sklearn.ensemble import RandomForestClassifier\n",
    "from sklearn.metrics import confusion_matrix"
   ]
  },
  {
   "cell_type": "markdown",
   "metadata": {},
   "source": [
    "### KNN Model"
   ]
  },
  {
   "cell_type": "code",
   "execution_count": 30,
   "metadata": {},
   "outputs": [],
   "source": [
    "# Defining the model with an arrbitery k number of 8 neighbors as a starting point:\n",
    "knn = KNeighborsClassifier(n_neighbors=8)\n",
    "\n",
    "# Training the model:\n",
    "knn.fit(x_train, y_train)\n",
    "\n",
    "# Predicting target values by using x_test and our model:\n",
    "y_pred1 = knn.predict(x_test)"
   ]
  },
  {
   "cell_type": "code",
   "execution_count": 31,
   "metadata": {},
   "outputs": [
    {
     "data": {
      "image/png": "[encoded data removed]",
      "text/plain": [
       "<Figure size 360x360 with 2 Axes>"
      ]
     },
     "metadata": {
      "needs_background": "light"
     },
     "output_type": "display_data"
    }
   ],
   "source": [
    "# Creating the confusion matrix:\n",
    "knn_cm = confusion_matrix(y_test, y_pred1)\n",
    "\n",
    "# Visualization:\n",
    "fig, ax = plt.subplots(figsize=(5,5))\n",
    "sns.heatmap(knn_cm, annot=True, linewidth=0.7, linecolor='cyan', fmt='.0f', ax=ax, cmap='BrBG')\n",
    "plt.title('KNN Classification Confusion Matrix')\n",
    "plt.xlabel('y_pred')\n",
    "plt.ylabel('y_test')\n",
    "plt.show()"
   ]
  },
  {
   "cell_type": "code",
   "execution_count": 32,
   "metadata": {},
   "outputs": [
    {
     "name": "stdout",
     "output_type": "stream",
     "text": [
      "0.8185\n"
     ]
    }
   ],
   "source": [
    "knn_score = knn.score(x_test, y_test)\n",
    "print(knn_score)"
   ]
  },
  {
   "cell_type": "markdown",
   "metadata": {},
   "source": [
    "Our score is about 81.85% and that is a nice score but we want to get a more acuurate score using different splits of the data."
   ]
  },
  {
   "cell_type": "code",
   "execution_count": 33,
   "metadata": {},
   "outputs": [
    {
     "name": "stdout",
     "output_type": "stream",
     "text": [
      "[0.8095 0.825  0.8145 0.8175 0.8205]\n",
      "cv_scoremean:0.8173999999999999\n"
     ]
    }
   ],
   "source": [
    "from sklearn.model_selection import cross_val_score\n",
    "import numpy as np\n",
    "#create a new KNN model\n",
    "knn_cv = KNeighborsClassifier(n_neighbors=8)\n",
    "#train model with cv of 5 \n",
    "knn_cv_scores = cross_val_score(knn_cv, norm_X, y, cv=5)\n",
    "#print each cv score (accuracy) and average them\n",
    "print(knn_cv_scores)\n",
    "print(f'cv_scoremean:{np.mean(knn_cv_scores)}')"
   ]
  },
  {
   "cell_type": "markdown",
   "metadata": {},
   "source": [
    "Using cross-validation, our mean score is about 81.74%. This is a more accurate representation of how our model will perform on unseen data than our earlier testing using the K-Fold method."
   ]
  },
  {
   "cell_type": "markdown",
   "metadata": {},
   "source": [
    "Our initial k-NN model parameter ‘n_neighbors’ was set to 8 just as an arrbitary starting point.\n",
    "To find the optimal parameters for our model and to improve accuracy, we will use GridSearchCV to find the optimal value for ‘n_neighbors’.\n",
    "GridSearchCV works by training our model multiple times on a range of parameters that we specify. That way, we can test our model with each parameter and figure out the optimal values to get the best accuracy results.\n",
    "For our model, we will specify a range of values for ‘n_neighbors’ in order to see which value works best for our model."
   ]
  },
  {
   "cell_type": "code",
   "execution_count": 34,
   "metadata": {},
   "outputs": [
    {
     "data": {
      "text/plain": [
       "GridSearchCV(cv=5, estimator=KNeighborsClassifier(),\n",
       "             param_grid={'n_neighbors': array([ 1,  2,  3,  4,  5,  6,  7,  8,  9, 10, 11, 12, 13, 14, 15, 16, 17,\n",
       "       18, 19, 20, 21, 22, 23, 24])})"
      ]
     },
     "execution_count": 34,
     "metadata": {},
     "output_type": "execute_result"
    }
   ],
   "source": [
    "from sklearn.model_selection import GridSearchCV\n",
    "\n",
    "#create new a knn model\n",
    "knn_grid = KNeighborsClassifier()\n",
    "#create a dictionary of all values we want to test for n_neighbors\n",
    "param_grid = {'n_neighbors': np.arange(1, 25)}\n",
    "#use gridsearch to test all values for n_neighbors\n",
    "knn_gscv = GridSearchCV(estimator=knn_grid, param_grid=param_grid, cv=5)\n",
    "#fit model to data\n",
    "knn_gscv.fit(norm_X, y)"
   ]
  },
  {
   "cell_type": "code",
   "execution_count": 35,
   "metadata": {},
   "outputs": [
    {
     "data": {
      "text/plain": [
       "{'n_neighbors': 4}"
      ]
     },
     "execution_count": 35,
     "metadata": {},
     "output_type": "execute_result"
    }
   ],
   "source": [
    "#check top performing n_neighbors value\n",
    "knn_gscv.best_params_"
   ]
  },
  {
   "cell_type": "code",
   "execution_count": 36,
   "metadata": {},
   "outputs": [],
   "source": [
    "# Defining the model with a k number of 10:\n",
    "knn_opt = KNeighborsClassifier(n_neighbors=4)\n",
    "\n",
    "# Training the model:\n",
    "knn_opt.fit(x_train, y_train)\n",
    "\n",
    "# Predicting target values by using x_test and our model:\n",
    "y_pred2 = knn_opt.predict(x_test)"
   ]
  },
  {
   "cell_type": "code",
   "execution_count": 37,
   "metadata": {},
   "outputs": [
    {
     "data": {
      "image/png": "[encoded data removed]",
      "text/plain": [
       "<Figure size 360x360 with 2 Axes>"
      ]
     },
     "metadata": {
      "needs_background": "light"
     },
     "output_type": "display_data"
    }
   ],
   "source": [
    "# Creating the confusion matrix:\n",
    "knn_opt_cm = confusion_matrix(y_test, y_pred2)\n",
    "\n",
    "# Visualization:\n",
    "fig, ax = plt.subplots(figsize=(5,5))\n",
    "sns.heatmap(knn_opt_cm, annot=True, linewidth=0.7, linecolor='cyan', fmt='.0f', ax=ax, cmap='BrBG')\n",
    "plt.title('Optimized KNN Classification Confusion Matrix')\n",
    "plt.xlabel('y_pred')\n",
    "plt.ylabel('y_test')\n",
    "plt.show()"
   ]
  },
  {
   "cell_type": "code",
   "execution_count": 38,
   "metadata": {},
   "outputs": [
    {
     "name": "stdout",
     "output_type": "stream",
     "text": [
      "0.8175\n"
     ]
    }
   ],
   "source": [
    "knn_opt_score = knn_opt.score(x_test, y_test)\n",
    "print(knn_opt_score)"
   ]
  },
  {
   "cell_type": "markdown",
   "metadata": {},
   "source": [
    "Using Grid Search Cross Vavlidation we found our optimized KNN model parameters and an acurrate score of 81.75%."
   ]
  },
  {
   "cell_type": "markdown",
   "metadata": {},
   "source": [
    "### Random Decision Forests Model"
   ]
  },
  {
   "cell_type": "code",
   "execution_count": 39,
   "metadata": {},
   "outputs": [],
   "source": [
    "# Defining the model with an arrbitery k numbers of 10 estimators and as a starting point:\n",
    "rf = RandomForestClassifier(n_estimators=10, random_state=1)\n",
    "\n",
    "# Training:\n",
    "rf.fit(x_train, y_train)\n",
    "\n",
    "# Predicting:\n",
    "y_pred3 = rf.predict(x_test)"
   ]
  },
  {
   "cell_type": "code",
   "execution_count": 40,
   "metadata": {},
   "outputs": [
    {
     "data": {
      "image/png": "[encoded data removed]",
      "text/plain": [
       "<Figure size 360x360 with 2 Axes>"
      ]
     },
     "metadata": {
      "needs_background": "light"
     },
     "output_type": "display_data"
    }
   ],
   "source": [
    "# Creating the confusion matrix:\n",
    "rf_cm = confusion_matrix(y_test, y_pred3)\n",
    "\n",
    "# Visualization:\n",
    "f, ax = plt.subplots(figsize=(5,5))\n",
    "sns.heatmap(rf_cm, annot=True, linewidth=0.7, linecolor='cyan', fmt='.0f', ax=ax, cmap='BrBG')\n",
    "plt.title('Random Forest Classification Confusion Matrix')\n",
    "plt.xlabel('y_pred')\n",
    "plt.ylabel('y_test')\n",
    "plt.show()"
   ]
  },
  {
   "cell_type": "code",
   "execution_count": 41,
   "metadata": {},
   "outputs": [
    {
     "name": "stdout",
     "output_type": "stream",
     "text": [
      "0.8575\n"
     ]
    }
   ],
   "source": [
    "rf_score = rf.score(x_test, y_test)\n",
    "print(rf_score)"
   ]
  },
  {
   "cell_type": "markdown",
   "metadata": {},
   "source": [
    "Our score is about 85.75% and that is a much better score but we want to get a more acurate score using different splits of the data."
   ]
  },
  {
   "cell_type": "code",
   "execution_count": 42,
   "metadata": {},
   "outputs": [
    {
     "name": "stdout",
     "output_type": "stream",
     "text": [
      "[0.849  0.8575 0.852  0.846  0.849 ]\n",
      "cv_scoremean:0.8507\n"
     ]
    }
   ],
   "source": [
    "from sklearn.model_selection import cross_val_score\n",
    "import numpy as np\n",
    "#create a new RF model\n",
    "rf_cv = RandomForestClassifier(n_estimators=10, random_state=1)\n",
    "#train model with cv of 5 \n",
    "rf_cv_scores = cross_val_score(rf_cv, norm_X, y, cv=5)\n",
    "#print each cv score (accuracy) and average them\n",
    "print(rf_cv_scores)\n",
    "print(f'cv_scoremean:{np.mean(rf_cv_scores)}')"
   ]
  },
  {
   "cell_type": "markdown",
   "metadata": {},
   "source": [
    "Using cross-validation, our mean score is about 85.34%. This is a more accurate representation of how our model will perform on unseen data than our earlier testing using the RF method."
   ]
  },
  {
   "cell_type": "markdown",
   "metadata": {},
   "source": [
    "Our initial RF model parameter ‘n_estimators’ was set to 10 just as an arrbitary starting point.\n",
    "To find the optimal parameters for our model and to improve accuracy, we will use GridSearchCV to find the optimal value for ‘n_estimators’.\n",
    "For our model, we will specify a range of values for ‘n_estimators’ in order to see which value works best for our model."
   ]
  },
  {
   "cell_type": "code",
   "execution_count": 43,
   "metadata": {},
   "outputs": [
    {
     "data": {
      "text/plain": [
       "GridSearchCV(cv=5, estimator=RandomForestClassifier(),\n",
       "             param_grid={'n_estimators': array([ 10,  11,  12,  13,  14,  15,  16,  17,  18,  19,  20,  21,  22,\n",
       "        23,  24,  25,  26,  27,  28,  29,  30,  31,  32,  33,  34,  35,\n",
       "        36,  37,  38,  39,  40,  41,  42,  43,  44,  45,  46,  47,  48,\n",
       "        49,  50,  51,  52,  53,  54,  55,  56,  57,  58,  59,  60,  61,\n",
       "        62,  63,  64,  65,  66,  67,  68,  69,  70,  71,  72,  73,  74,\n",
       "        75,  76,  77,  78,  79,  80,  81,  82,  83,  84,  85,  86,  87,\n",
       "        88,  89,  90,  91,  92,  93,  94,  95,  96,  97...\n",
       "       101, 102, 103, 104, 105, 106, 107, 108, 109, 110, 111, 112, 113,\n",
       "       114, 115, 116, 117, 118, 119, 120, 121, 122, 123, 124, 125, 126,\n",
       "       127, 128, 129, 130, 131, 132, 133, 134, 135, 136, 137, 138, 139,\n",
       "       140, 141, 142, 143, 144, 145, 146, 147, 148, 149, 150, 151, 152,\n",
       "       153, 154, 155, 156, 157, 158, 159, 160, 161, 162, 163, 164, 165,\n",
       "       166, 167, 168, 169, 170, 171, 172, 173, 174, 175, 176, 177, 178,\n",
       "       179, 180, 181, 182, 183, 184, 185, 186, 187, 188, 189, 190, 191,\n",
       "       192, 193, 194, 195, 196, 197, 198, 199])})"
      ]
     },
     "execution_count": 43,
     "metadata": {},
     "output_type": "execute_result"
    }
   ],
   "source": [
    "from sklearn.model_selection import GridSearchCV\n",
    "\n",
    "#create new a RF model\n",
    "rf_grid = RandomForestClassifier()\n",
    "#create a dictionary of all values we want to test for n_estimators\n",
    "param_grid = {'n_estimators': np.arange(10, 200)}\n",
    "#use gridsearch to test all values for n_estimators\n",
    "rf_gscv = GridSearchCV(estimator=rf_grid, param_grid=param_grid, cv=5)\n",
    "#fit model to data\n",
    "rf_gscv.fit(norm_X, y)"
   ]
  },
  {
   "cell_type": "code",
   "execution_count": 44,
   "metadata": {},
   "outputs": [
    {
     "data": {
      "text/plain": [
       "{'n_estimators': 111}"
      ]
     },
     "execution_count": 44,
     "metadata": {},
     "output_type": "execute_result"
    }
   ],
   "source": [
    "#check top performing n_estimators value\n",
    "rf_gscv.best_params_"
   ]
  },
  {
   "cell_type": "code",
   "execution_count": 45,
   "metadata": {},
   "outputs": [],
   "source": [
    "# Defining the model with the optimized number of 152 estimators:\n",
    "rf_opt = RandomForestClassifier(n_estimators=152, random_state=1)\n",
    "\n",
    "# Training:\n",
    "rf_opt.fit(x_train, y_train)\n",
    "\n",
    "# Predicting:\n",
    "y_pred4 = rf_opt.predict(x_test)"
   ]
  },
  {
   "cell_type": "code",
   "execution_count": 46,
   "metadata": {},
   "outputs": [
    {
     "data": {
      "image/png": "[encoded data removed]",
      "text/plain": [
       "<Figure size 360x360 with 2 Axes>"
      ]
     },
     "metadata": {
      "needs_background": "light"
     },
     "output_type": "display_data"
    }
   ],
   "source": [
    "# Creating the confusion matrix:\n",
    "rf_opt_cm = confusion_matrix(y_test, y_pred4)\n",
    "\n",
    "# Visualization:\n",
    "f, ax = plt.subplots(figsize=(5,5))\n",
    "sns.heatmap(rf_opt_cm, annot=True, linewidth=0.7, linecolor='cyan', fmt='.0f', ax=ax, cmap='BrBG')\n",
    "plt.title('Optimized Random Forest Classification Confusion Matrix')\n",
    "plt.xlabel('y_pred')\n",
    "plt.ylabel('y_test')\n",
    "plt.show()"
   ]
  },
  {
   "cell_type": "code",
   "execution_count": 47,
   "metadata": {
    "scrolled": true
   },
   "outputs": [
    {
     "name": "stdout",
     "output_type": "stream",
     "text": [
      "0.8665\n"
     ]
    }
   ],
   "source": [
    "rf_opt_score = rf_opt.score(x_test, y_test)\n",
    "print(rf_opt_score)"
   ]
  },
  {
   "cell_type": "markdown",
   "metadata": {},
   "source": [
    "Using Grid Search Cross Vavlidation we found our optimized RF model parameters and an acurrate score of 86.65%."
   ]
  },
  {
   "cell_type": "markdown",
   "metadata": {},
   "source": [
    "### Comparing the Classification Algorithms"
   ]
  },
  {
   "cell_type": "markdown",
   "metadata": {},
   "source": [
    "First, lets compare to a dummy model."
   ]
  },
  {
   "cell_type": "code",
   "execution_count": 48,
   "metadata": {},
   "outputs": [
    {
     "data": {
      "text/plain": [
       "0    0.7963\n",
       "1    0.2037\n",
       "Name: Exited, dtype: float64"
      ]
     },
     "execution_count": 48,
     "metadata": {},
     "output_type": "execute_result"
    }
   ],
   "source": [
    "data.Exited.value_counts(normalize=True)"
   ]
  },
  {
   "cell_type": "markdown",
   "metadata": {},
   "source": [
    "We can see by the value counts of the whole data set that if we would guess that no customer ever left, the guessing model score would be 0.7963 meaning we would be right 79.63% of the time. Not too bad."
   ]
  },
  {
   "cell_type": "code",
   "execution_count": 49,
   "metadata": {},
   "outputs": [],
   "source": [
    "dummy_score = data.Exited.value_counts(normalize=True)[0]"
   ]
  },
  {
   "cell_type": "code",
   "execution_count": 50,
   "metadata": {},
   "outputs": [
    {
     "name": "stdout",
     "output_type": "stream",
     "text": [
      "\n",
      "dummy_score: 0.7963\n",
      "knn_opt_score: 0.8175\n",
      "rf_opt_score: 0.8665\n",
      "\n"
     ]
    }
   ],
   "source": [
    "print(f'''\n",
    "dummy_score: {dummy_score}\n",
    "knn_opt_score: {knn_opt_score}\n",
    "rf_opt_score: {rf_opt_score}\n",
    "''')"
   ]
  },
  {
   "cell_type": "markdown",
   "metadata": {},
   "source": [
    "Our best score is from the Optimized Random Forest Classification with 86.65% prediction success rate and cross validation unsuring it's accuracy."
   ]
  },
  {
   "cell_type": "markdown",
   "metadata": {},
   "source": [
    "#  Modeling with Dimensionality Reduction"
   ]
  },
  {
   "cell_type": "markdown",
   "metadata": {},
   "source": [
    "## Dimensionality Reduction\n",
    "\n",
    "Even tough we got nice result's, we might get same or even better results with with less complexed model, which means a lighter, and more accurate model for us.\n",
    "\n",
    "So let's look for a combination of features that capture well the variance of the original features. \n",
    "To do so, we can first look at the explained variance as a function of the number of dimensions:"
   ]
  },
  {
   "cell_type": "code",
   "execution_count": 53,
   "metadata": {
    "scrolled": false
   },
   "outputs": [
    {
     "data": {
      "image/png": "[encoded data removed]",
      "text/plain": [
       "<Figure size 720x720 with 1 Axes>"
      ]
     },
     "metadata": {
      "needs_background": "light"
     },
     "output_type": "display_data"
    }
   ],
   "source": [
    "pca = PCA()\n",
    "pca.fit(x_train)\n",
    "cumsum = np.cumsum(pca.explained_variance_ratio_[:250])\n",
    "\n",
    "plt.figure(figsize=(10,10))\n",
    "plt.plot(cumsum)\n",
    "plt.xlabel(\"Dimensions\")\n",
    "plt.ylabel(\"Explaind Variance\")\n",
    "plt.grid(True)\n",
    "plt.xticks(range(0,260,10))\n",
    "plt.yticks(np.arange(0.3,1.0,0.05))\n",
    "plt.show()"
   ]
  },
  {
   "cell_type": "markdown",
   "metadata": {},
   "source": [
    "As we can see in the graph, there is no place for improvment pca wise. \n",
    "So lets try more advenced models. "
   ]
  },
  {
   "cell_type": "markdown",
   "metadata": {},
   "source": [
    "### AdaBoostClassifier"
   ]
  },
  {
   "cell_type": "code",
   "execution_count": 58,
   "metadata": {},
   "outputs": [
    {
     "name": "stdout",
     "output_type": "stream",
     "text": [
      "The ADB model score is: 86.35%\n"
     ]
    }
   ],
   "source": [
    "adb = AdaBoostClassifier()\n",
    "adb.fit(x_train,y_train)\n",
    "adbScore = adb.score(x_test, y_test)*100\n",
    "print(\"The ADB model score is: {:.2f}%\".format(adbScore))"
   ]
  },
  {
   "cell_type": "markdown",
   "metadata": {},
   "source": [
    "### XGBClassifier"
   ]
  },
  {
   "cell_type": "code",
   "execution_count": 61,
   "metadata": {},
   "outputs": [
    {
     "name": "stderr",
     "output_type": "stream",
     "text": [
      "C:\\Users\\elior\\Anaconda3\\lib\\site-packages\\xgboost\\sklearn.py:888: UserWarning: The use of label encoder in XGBClassifier is deprecated and will be removed in a future release. To remove this warning, do the following: 1) Pass option use_label_encoder=False when constructing XGBClassifier object; and 2) Encode your labels (y) as integers starting with 0, i.e. 0, 1, 2, ..., [num_class - 1].\n",
      "  warnings.warn(label_encoder_deprecation_msg, UserWarning)\n"
     ]
    },
    {
     "name": "stdout",
     "output_type": "stream",
     "text": [
      "[23:44:35] WARNING: ..\\src\\learner.cc:1061: Starting in XGBoost 1.3.0, the default evaluation metric used with the objective 'binary:logistic' was changed from 'error' to 'logloss'. Explicitly set eval_metric if you'd like to restore the old behavior.\n",
      "The XGB model score is: 85.30%\n"
     ]
    }
   ],
   "source": [
    "xgb = XGBClassifier()\n",
    "xgb.fit(x_train,y_train)\n",
    "xgbScore = xgb.score(x_test, y_test)*100\n",
    "print(\"The XGB model score is: {:.2f}%\".format(xgbScore))"
   ]
  },
  {
   "cell_type": "markdown",
   "metadata": {},
   "source": [
    "Unfortenatly 'VotingClassifier' and 'StackingClassifier' do not work here.\n",
    "I conclusion,  we didnt get an improvement in the results, even with the more advenced models."
   ]
  }
 ],
 "metadata": {
  "kernelspec": {
   "display_name": "Python 3",
   "language": "python",
   "name": "python3"
  },
  "language_info": {
   "codemirror_mode": {
    "name": "ipython",
    "version": 3
   },
   "file_extension": ".py",
   "mimetype": "text/x-python",
   "name": "python",
   "nbconvert_exporter": "python",
   "pygments_lexer": "ipython3",
   "version": "3.7.4"
  }
 },
 "nbformat": 4,
 "nbformat_minor": 2
}
