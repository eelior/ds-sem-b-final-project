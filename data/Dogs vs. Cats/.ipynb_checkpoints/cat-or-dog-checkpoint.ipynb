{
 "cells": [
  {
   "cell_type": "code",
   "execution_count": 1,
   "metadata": {
    "_cell_guid": "b1076dfc-b9ad-4769-8c92-a6c4dae69d19",
    "_uuid": "8f2839f25d086af736a60e9eeb907d3b93b6e0e5"
   },
   "outputs": [],
   "source": [
    "# This Python 3 environment comes with many helpful analytics libraries installed\n",
    "# It is defined by the kaggle/python docker image: https://github.com/kaggle/docker-python\n",
    "# For example, here's several helpful packages to load in \n",
    "\n",
    "import numpy as np # linear algebra\n",
    "import pandas as pd # data processing, CSV file I/O (e.g. pd.read_csv)\n",
    "import cv2\n",
    "\n",
    "# Input data files are available in the \"../input/\" directory.\n",
    "# For example, running this (by clicking run or pressing Shift+Enter) will list the files in the input directory\n",
    "\n",
    "import os\n",
    "print(os.listdir(\"../input\"))\n",
    "\n",
    "# Any results you write to the current directory are saved as output."
   ]
  },
  {
   "cell_type": "markdown",
   "metadata": {
    "_cell_guid": "0775c844-97db-4f98-b3c0-cb5c9dc69892",
    "_uuid": "babefe19ff80ecb1ef096080d95f5623a513ba37"
   },
   "source": [
    "### Here we'll try to use many classification models and see how much accuracy they can provide."
   ]
  },
  {
   "cell_type": "markdown",
   "metadata": {
    "_cell_guid": "79c7e3d0-c299-4dcb-8224-4455121ee9b0",
    "_uuid": "d629ff2d2480ee46fbb7e2d37f6b5fab8052498a",
    "collapsed": true
   },
   "source": [
    "## Importing dataset"
   ]
  },
  {
   "cell_type": "code",
   "execution_count": 2,
   "metadata": {
    "_cell_guid": "dfcaf455-4856-4f22-9ab8-aa17471f55be",
    "_uuid": "06fe8418efd6ad67adf711cbb3518e5f2c867da6"
   },
   "outputs": [],
   "source": [
    "dogs_train_files = os.listdir('../input/dog vs cat/dataset/training_set/dogs')\n",
    "dogs_train_files_size = len(dogs_train_files)\n",
    "print(dogs_train_files_size)\n",
    "limit = 1000"
   ]
  },
  {
   "cell_type": "code",
   "execution_count": 3,
   "metadata": {
    "_cell_guid": "542cb76f-ee30-4b2d-bf42-ed8d6e82eccd",
    "_uuid": "d9e8ce1edf2a64b981dd8dcdb42ba1955278ddec",
    "collapsed": true
   },
   "outputs": [],
   "source": [
    "dogs_training_data = [None] * limit"
   ]
  },
  {
   "cell_type": "code",
   "execution_count": 4,
   "metadata": {
    "_cell_guid": "680429f0-d6f0-4944-a5e3-f079b0280fb6",
    "_uuid": "cf79bf8f37ee27ea00c3cf1c7b7eda0f8df48577",
    "collapsed": true
   },
   "outputs": [],
   "source": [
    "j = 0\n",
    "for i in dogs_train_files:\n",
    "    if j < limit:\n",
    "        dogs_training_data[j] = cv2.imread('../input/dog vs cat/dataset/training_set/dogs/' + i, cv2.IMREAD_GRAYSCALE)\n",
    "        j += 1\n",
    "    else:\n",
    "        break"
   ]
  },
  {
   "cell_type": "code",
   "execution_count": 5,
   "metadata": {
    "_cell_guid": "75e1d8dd-5aa9-49e1-bfd5-90a8b1a068c2",
    "_uuid": "8f5dbbcc071df6eb3cf3377e46f3d166ad0f384c",
    "collapsed": true
   },
   "outputs": [],
   "source": [
    "dogs_training_data = np.array(dogs_training_data)"
   ]
  },
  {
   "cell_type": "code",
   "execution_count": 6,
   "metadata": {
    "_cell_guid": "b6264f91-a148-473b-859b-bd71114be63b",
    "_uuid": "7c7f7688878a70959eb81e5324d078df5f913452"
   },
   "outputs": [],
   "source": [
    "dogs_training_data[0].shape"
   ]
  },
  {
   "cell_type": "code",
   "execution_count": 7,
   "metadata": {
    "_cell_guid": "65ec8426-1c73-4d9f-94d1-98e4367eec5b",
    "_uuid": "1b1e7aa3b5d9c8bf87ad01096ae79ed963d241dc",
    "collapsed": true
   },
   "outputs": [],
   "source": [
    "import matplotlib.pyplot as plt"
   ]
  },
  {
   "cell_type": "code",
   "execution_count": 8,
   "metadata": {
    "_cell_guid": "25080141-8eb6-43b4-91dc-f4eb35c622b8",
    "_uuid": "317255766f2429bff6b67e9b3f8d6324405e21a9"
   },
   "outputs": [],
   "source": [
    "plt.imshow(dogs_training_data[0])\n",
    "plt.plot()"
   ]
  },
  {
   "cell_type": "code",
   "execution_count": 9,
   "metadata": {
    "_cell_guid": "cffdd06f-b368-4872-a5fd-117e6205d0bf",
    "_uuid": "d8ee1c4cb79d3584d5c5ca1529eb800789b89b03"
   },
   "outputs": [],
   "source": [
    "cats_train_files = os.listdir('../input/dog vs cat/dataset/training_set/cats')\n",
    "cats_train_files_size = len(cats_train_files)\n",
    "print(cats_train_files_size)"
   ]
  },
  {
   "cell_type": "code",
   "execution_count": 10,
   "metadata": {
    "_cell_guid": "e47d18bd-f8f3-447b-9c8f-ff037eaf2dcc",
    "_uuid": "da868821866dddf21925a4fdfdfa40badd26f6bb",
    "collapsed": true
   },
   "outputs": [],
   "source": [
    "cats_training_data = [None] * limit"
   ]
  },
  {
   "cell_type": "code",
   "execution_count": 11,
   "metadata": {
    "_cell_guid": "ec5876f4-2ff2-4376-aa1c-f016b44edbc2",
    "_uuid": "c448575f9fed594f2cd6806253b0ab820f762420",
    "collapsed": true
   },
   "outputs": [],
   "source": [
    "j = 0\n",
    "for i in cats_train_files:\n",
    "    if j < limit:\n",
    "        cats_training_data[j] = cv2.imread('../input/dog vs cat/dataset/training_set/cats/' + i, cv2.IMREAD_GRAYSCALE)\n",
    "        j += 1\n",
    "    else:\n",
    "        break"
   ]
  },
  {
   "cell_type": "code",
   "execution_count": 12,
   "metadata": {
    "_cell_guid": "71527380-ffc5-4df9-beac-91e2b220f1a1",
    "_uuid": "f20fff7611860fc1face1fea6f7a1d11fb328fcd",
    "collapsed": true
   },
   "outputs": [],
   "source": [
    "cats_training_data = np.array(cats_training_data)"
   ]
  },
  {
   "cell_type": "code",
   "execution_count": 13,
   "metadata": {
    "_cell_guid": "ddc3c60e-4417-4e48-8fa2-2965db78d0b0",
    "_uuid": "6de3598d7dead03d898a1b00016890fab09beec8"
   },
   "outputs": [],
   "source": [
    "plt.imshow(cats_training_data[123])\n",
    "plt.show()"
   ]
  },
  {
   "cell_type": "markdown",
   "metadata": {
    "_cell_guid": "01193c22-c060-48a8-84ce-c064b0d34978",
    "_uuid": "7ae7015cec02d7e1d95f3eb4f9c027628be4a3c3"
   },
   "source": [
    "## EDA"
   ]
  },
  {
   "cell_type": "code",
   "execution_count": 14,
   "metadata": {
    "_cell_guid": "50b05e78-1a07-4837-a10e-412b79c13071",
    "_uuid": "d1800c7866b04bff14e166cb4b7556ee44eb54ed"
   },
   "outputs": [],
   "source": [
    "s00 = 0\n",
    "s01 = 0\n",
    "s10 = float('inf')\n",
    "s11 = float('inf')\n",
    "for i in range(limit):\n",
    "    s00 = max(s00, dogs_training_data[i].shape[0])\n",
    "    s01 = max(s01, dogs_training_data[i].shape[1])\n",
    "    s10 = min(s10, dogs_training_data[i].shape[0])\n",
    "    s11 = min(s11, dogs_training_data[i].shape[1])\n",
    "print(s00, s01)\n",
    "print(s10, s11)"
   ]
  },
  {
   "cell_type": "code",
   "execution_count": 15,
   "metadata": {
    "_cell_guid": "00ef9647-10bb-4d75-979a-e4f353dbcfc6",
    "_uuid": "b1a1430f0c2bbeca5dbd9295b8924bdfaa2cb484"
   },
   "outputs": [],
   "source": [
    "s00 = 0\n",
    "s01 = 0\n",
    "s10 = float('inf')\n",
    "s11 = float('inf')\n",
    "for i in range(limit):\n",
    "    s00 = max(s00, cats_training_data[i].shape[0])\n",
    "    s01 = max(s01, cats_training_data[i].shape[1])\n",
    "    s10 = min(s10, cats_training_data[i].shape[0])\n",
    "    s11 = min(s11, cats_training_data[i].shape[1])\n",
    "print(s00, s01)\n",
    "print(s10, s11)"
   ]
  },
  {
   "cell_type": "markdown",
   "metadata": {
    "_cell_guid": "8c14f5c9-c890-4acf-b197-fd68bb818f53",
    "_uuid": "00e16c6175755a075bffb3d4828c057b3c3546ac"
   },
   "source": [
    "## Image cleansing"
   ]
  },
  {
   "cell_type": "code",
   "execution_count": 16,
   "metadata": {
    "_cell_guid": "80559f2f-6607-428b-bc7e-ad035741110e",
    "_uuid": "79381c30421fd914240cd992cc02e24dbfb7ecf6",
    "collapsed": true
   },
   "outputs": [],
   "source": [
    "img_size = (256, 256)"
   ]
  },
  {
   "cell_type": "code",
   "execution_count": 17,
   "metadata": {
    "_cell_guid": "23c1078c-bb61-46ae-b4f6-c8351bb62007",
    "_uuid": "09e55b3089d2d65acd9a4b573103af982b596ba2",
    "collapsed": true
   },
   "outputs": [],
   "source": [
    "i = dogs_training_data[53]"
   ]
  },
  {
   "cell_type": "code",
   "execution_count": 18,
   "metadata": {
    "_cell_guid": "a7009603-f069-46e0-89d7-b9b54954610a",
    "_uuid": "2704821b83f1fae5898b2e1fcead5a4f0bed06a6"
   },
   "outputs": [],
   "source": [
    "plt.imshow(i)\n",
    "plt.show()"
   ]
  },
  {
   "cell_type": "code",
   "execution_count": 19,
   "metadata": {
    "_cell_guid": "e6c63005-fbad-4f18-a619-390e46b277a3",
    "_uuid": "b0c7160387f5e5aea547aa97e23b40210d1f1180",
    "collapsed": true
   },
   "outputs": [],
   "source": [
    "l = img_size[0] - i.shape[0]\n",
    "w = img_size[1] - i.shape[1]"
   ]
  },
  {
   "cell_type": "code",
   "execution_count": 20,
   "metadata": {
    "_cell_guid": "1e21f09c-616f-4210-b572-ba8634f9b299",
    "_uuid": "01a26c3bbdfe2f034e0f1c6df886ca1fac438a30",
    "collapsed": true
   },
   "outputs": [],
   "source": [
    "up = l // 2\n",
    "lo = l - up\n",
    "wdl = w // 2\n",
    "wdr = w - wdl"
   ]
  },
  {
   "cell_type": "code",
   "execution_count": 21,
   "metadata": {
    "_cell_guid": "0c4fd201-fa75-409d-94d8-284d9bfa8591",
    "_uuid": "98797985ff441e4b23feced9ff39293b2d465738",
    "collapsed": true
   },
   "outputs": [],
   "source": [
    "image = cv2.resize(i, img_size)"
   ]
  },
  {
   "cell_type": "code",
   "execution_count": 22,
   "metadata": {
    "_cell_guid": "53ba2f0f-92a2-4290-9f9b-b3003b778739",
    "_uuid": "22d9932ab7ecb115e3cca085d634cdffb94bf712"
   },
   "outputs": [],
   "source": [
    "print(image.shape)\n",
    "plt.imshow(image)\n",
    "plt.plot()"
   ]
  },
  {
   "cell_type": "code",
   "execution_count": 24,
   "metadata": {
    "_cell_guid": "f0f41105-524a-4353-a5af-7e24f09282f7",
    "_uuid": "5f19657402db7cc95ab2bce0a59a03349fb81554"
   },
   "outputs": [],
   "source": [
    "m1, m2 = img_size\n",
    "for j in range(limit):\n",
    "    i = dogs_training_data[j]\n",
    "    dogs_training_data[j] = cv2.resize( i, img_size)\n",
    "    "
   ]
  },
  {
   "cell_type": "code",
   "execution_count": 25,
   "metadata": {
    "_cell_guid": "97e4372c-87df-4e02-b801-2efa86112709",
    "_uuid": "6dda4e6e8b5f2000dd058657d34f1f5b385246c3"
   },
   "outputs": [],
   "source": [
    "s = (0,0)\n",
    "s2 = (702, 1050)\n",
    "for i in range(limit):\n",
    "    s = max(s, dogs_training_data[i].shape)\n",
    "    s2 = min(s2, dogs_training_data[i].shape)\n",
    "print(s)\n",
    "print(s2)"
   ]
  },
  {
   "cell_type": "code",
   "execution_count": 26,
   "metadata": {
    "_cell_guid": "a4c646a6-6155-446a-8d0c-747e72f74e01",
    "_uuid": "1062582c742317522896d52828ce78d3ca9fdce3",
    "collapsed": true
   },
   "outputs": [],
   "source": [
    "m1, m2 = img_size\n",
    "for j in range(limit):\n",
    "    i = cats_training_data[j]\n",
    "    cats_training_data[j] = cv2.resize( i, img_size)\n",
    "    "
   ]
  },
  {
   "cell_type": "code",
   "execution_count": 27,
   "metadata": {
    "_cell_guid": "5f72f6ce-a646-4a4f-a9b7-521ae20ecae7",
    "_uuid": "99af80a45793334419e69cfcbd9dbdadef01fe94"
   },
   "outputs": [],
   "source": [
    "s = (0,0)\n",
    "s2 = (702, 1050)\n",
    "for i in range(limit):\n",
    "    s = max(s, cats_training_data[i].shape)\n",
    "    s2 = min(s2, cats_training_data[i].shape)\n",
    "print(s)\n",
    "print(s2)"
   ]
  },
  {
   "cell_type": "code",
   "execution_count": 28,
   "metadata": {
    "_cell_guid": "0e493d5c-c244-444b-9432-0f759a002194",
    "_uuid": "3172439abe61dd1df583896dfec511cb24469e8a",
    "collapsed": true
   },
   "outputs": [],
   "source": [
    "j = 0\n",
    "sum = 0\n",
    "for i in cats_training_data:\n",
    "    if i.shape != img_size:\n",
    "        print(j)\n",
    "        sum += 1\n",
    "    j += 1"
   ]
  },
  {
   "cell_type": "code",
   "execution_count": 29,
   "metadata": {
    "_cell_guid": "93d91d0d-ea29-42f9-ae19-f167c7f714c4",
    "_uuid": "0fe5172f3b9827230b4c7ace705714bba48b4fdd",
    "collapsed": true
   },
   "outputs": [],
   "source": [
    "j = 0\n",
    "sum = 0\n",
    "for i in dogs_training_data:\n",
    "    if i.shape != img_size:\n",
    "        print(j)\n",
    "        sum += 1\n",
    "    j += 1"
   ]
  },
  {
   "cell_type": "code",
   "execution_count": null,
   "metadata": {
    "_cell_guid": "90e3845f-82d3-44d7-bcce-7fa838932444",
    "_uuid": "f07b4956372bdd00950554c37477398a512ac4ea",
    "collapsed": true
   },
   "outputs": [],
   "source": []
  },
  {
   "cell_type": "markdown",
   "metadata": {
    "_cell_guid": "651bb946-30eb-4a68-bab6-a7672ef322d0",
    "_uuid": "0383a20944a734c45724a3e3664360634d88ed01",
    "collapsed": true
   },
   "source": [
    "## Vectorize the dataset"
   ]
  },
  {
   "cell_type": "code",
   "execution_count": 30,
   "metadata": {
    "_cell_guid": "f0b0ea14-6122-4ac7-9324-1609b3f9644c",
    "_uuid": "f372c1d17d553085414f9ad49254f3976040d42c",
    "collapsed": true
   },
   "outputs": [],
   "source": [
    "flatten_size = img_size[0] * img_size[1]\n",
    "m = len(dogs_training_data)"
   ]
  },
  {
   "cell_type": "code",
   "execution_count": 31,
   "metadata": {
    "_cell_guid": "56a882d5-de0b-40e5-a346-8127bf4d9efe",
    "_uuid": "929759d4410d6b6e91ea6fd57308e07b0295e4d5",
    "collapsed": true
   },
   "outputs": [],
   "source": [
    "for i in range(m):\n",
    "    dogs_training_data[i] = np.ndarray.flatten(dogs_training_data[i]).reshape(flatten_size, 1)"
   ]
  },
  {
   "cell_type": "code",
   "execution_count": null,
   "metadata": {
    "_cell_guid": "96846d75-3189-40fa-a49a-042f61468c9a",
    "_uuid": "18f093491792af7e26ae6862c2539359f8c3dda7",
    "collapsed": true
   },
   "outputs": [],
   "source": []
  },
  {
   "cell_type": "code",
   "execution_count": 32,
   "metadata": {
    "_cell_guid": "c4d082a6-763b-4758-8a93-49fcfcbe6893",
    "_uuid": "abb8dc8f7527edc3a69e9faab87f9e004e65f9e1",
    "collapsed": true
   },
   "outputs": [],
   "source": [
    "dogs_training_data = np.dstack(dogs_training_data)"
   ]
  },
  {
   "cell_type": "code",
   "execution_count": 33,
   "metadata": {
    "_cell_guid": "38fb6663-fcd4-4900-9c33-a147ab18af90",
    "_uuid": "bc50d08fa96427f02ccfb9f545be82f6f3d45ae6"
   },
   "outputs": [],
   "source": [
    "dogs_training_data.shape"
   ]
  },
  {
   "cell_type": "code",
   "execution_count": 34,
   "metadata": {
    "_cell_guid": "c0743b23-3d5a-40f8-be67-876dd0455e02",
    "_uuid": "1b190e3aa46881fb44126df49ae5d97feb6f5283",
    "collapsed": true
   },
   "outputs": [],
   "source": [
    "dogs_training_data = np.rollaxis(dogs_training_data, axis=2, start=0)"
   ]
  },
  {
   "cell_type": "code",
   "execution_count": 35,
   "metadata": {
    "_cell_guid": "685c71dc-31b8-455d-a419-d509e56fb709",
    "_uuid": "9f006304aecc2cc2e0b460fdf62fcc8d593b00b2"
   },
   "outputs": [],
   "source": [
    "dogs_training_data.shape"
   ]
  },
  {
   "cell_type": "code",
   "execution_count": 36,
   "metadata": {
    "_cell_guid": "50ff4cf2-6558-42c1-817e-2b29878abba6",
    "_uuid": "10d355bcf0595a82392c8972b69addcf7f232dd9",
    "collapsed": true
   },
   "outputs": [],
   "source": [
    "m = len(cats_training_data)\n",
    "for i in range(m):\n",
    "    cats_training_data[i] = np.ndarray.flatten(cats_training_data[i]).reshape(flatten_size, 1)"
   ]
  },
  {
   "cell_type": "code",
   "execution_count": 37,
   "metadata": {
    "_cell_guid": "fda4a85c-3b55-4cb5-ba93-d29e512d5e95",
    "_uuid": "da14946109dea1f1989ff4833060e27e7123371a",
    "collapsed": true
   },
   "outputs": [],
   "source": [
    "cats_training_data = np.dstack(cats_training_data)"
   ]
  },
  {
   "cell_type": "code",
   "execution_count": 38,
   "metadata": {
    "_cell_guid": "dec4e50e-87f8-4660-88c9-c39c4e3ca5c1",
    "_uuid": "3d0a99c677ca443fe64ef713e261346a131a8c19"
   },
   "outputs": [],
   "source": [
    "cats_training_data.shape"
   ]
  },
  {
   "cell_type": "code",
   "execution_count": 39,
   "metadata": {
    "_cell_guid": "d70ba970-a8fa-4da4-aa1a-ae45c83efc28",
    "_uuid": "750e4db6b7415aa3b44867c5f352a638ec9a47f7",
    "collapsed": true
   },
   "outputs": [],
   "source": [
    "cats_training_data = np.rollaxis(cats_training_data, axis=2, start=0)"
   ]
  },
  {
   "cell_type": "code",
   "execution_count": 40,
   "metadata": {
    "_cell_guid": "363bf756-5eb7-4802-918d-5b38fb08783f",
    "_uuid": "106bb4dcc8c58f20edcc70c7650ad00f5afcaeff"
   },
   "outputs": [],
   "source": [
    "cats_training_data.shape"
   ]
  },
  {
   "cell_type": "code",
   "execution_count": 41,
   "metadata": {
    "_cell_guid": "fe8337f9-18aa-4cb7-a627-30734a9f5f02",
    "_uuid": "64df99f62e9b997a852d561cde5a630d79bf5e8d"
   },
   "outputs": [],
   "source": [
    "dogs_training_data.shape"
   ]
  },
  {
   "cell_type": "code",
   "execution_count": 42,
   "metadata": {
    "_cell_guid": "b3e3b2bb-6b6d-46d9-9a40-cfb07c42f84e",
    "_uuid": "820d8c7047e1cfb49bac9d04a0823a8052e17350",
    "collapsed": true
   },
   "outputs": [],
   "source": [
    "dogs_training_data = dogs_training_data.reshape(m, flatten_size)"
   ]
  },
  {
   "cell_type": "code",
   "execution_count": 43,
   "metadata": {
    "_cell_guid": "f794efb8-b33a-4ec1-afa4-ea5616c75869",
    "_uuid": "765262ba136444824d11c4b63288042156dce37e",
    "collapsed": true
   },
   "outputs": [],
   "source": [
    "cats_training_data = cats_training_data.reshape(m, flatten_size)"
   ]
  },
  {
   "cell_type": "code",
   "execution_count": 44,
   "metadata": {
    "_cell_guid": "b6af3498-7fd8-4ff1-bf82-f74e00fb5548",
    "_uuid": "895b616f92aeb763e07715b0d769d37eb59e1f20",
    "collapsed": true
   },
   "outputs": [],
   "source": [
    "dogs_training_data = pd.DataFrame(dogs_training_data)"
   ]
  },
  {
   "cell_type": "code",
   "execution_count": 45,
   "metadata": {
    "_cell_guid": "16c69425-7c49-4dc5-a7ed-a1a9b70379de",
    "_uuid": "4fc48933a6b9fcd04cb1a238b69a46cfb5457a76",
    "collapsed": true
   },
   "outputs": [],
   "source": [
    "cats_training_data = pd.DataFrame(cats_training_data)"
   ]
  },
  {
   "cell_type": "code",
   "execution_count": 46,
   "metadata": {
    "_cell_guid": "154d05d3-6639-4a8f-b38d-c2a34df5cc44",
    "_uuid": "7ba040ac77617447fc1b680274887336b5d89f2d",
    "collapsed": true
   },
   "outputs": [],
   "source": [
    "dogs_training_data['is_cat'] = pd.Series(np.zeros(m), dtype=int)"
   ]
  },
  {
   "cell_type": "code",
   "execution_count": 47,
   "metadata": {
    "_cell_guid": "952dad51-812f-4a65-a78f-ec8fb7bda163",
    "_uuid": "044696b694fde3c5de6ad91cb730f31672585577"
   },
   "outputs": [],
   "source": [
    "dogs_training_data.head()"
   ]
  },
  {
   "cell_type": "code",
   "execution_count": 48,
   "metadata": {
    "_cell_guid": "e37cc06c-57d6-4269-a540-5dea113c2adf",
    "_uuid": "91d5f6b1b836c9d3d0ce03857998aaf2bb650ab0",
    "collapsed": true
   },
   "outputs": [],
   "source": [
    "cats_training_data['is_cat'] = pd.Series(np.ones(m), dtype=int)"
   ]
  },
  {
   "cell_type": "code",
   "execution_count": 49,
   "metadata": {
    "_cell_guid": "db07cce5-28b7-4b07-b1d5-f8199ac4ab6f",
    "_uuid": "b30500e0e0e33e04d2b1b5dd06b4080e16a1bcc9"
   },
   "outputs": [],
   "source": [
    "cats_training_data.head()"
   ]
  },
  {
   "cell_type": "code",
   "execution_count": 50,
   "metadata": {
    "_cell_guid": "4f6e83aa-6264-4c84-9dcf-d2cc3aa7d1e0",
    "_uuid": "6780fe4d3d168b49f2285a6a7b2ca4409b9debc5",
    "collapsed": true
   },
   "outputs": [],
   "source": [
    "df = pd.concat([dogs_training_data, cats_training_data])"
   ]
  },
  {
   "cell_type": "code",
   "execution_count": 51,
   "metadata": {
    "_cell_guid": "0d70dad4-0ede-4ce2-a3f9-c35b6181a792",
    "_uuid": "e4b5d124f28ffab05a59f90e6520f7b402cd8f7f"
   },
   "outputs": [],
   "source": [
    "df.head()"
   ]
  },
  {
   "cell_type": "code",
   "execution_count": null,
   "metadata": {
    "_cell_guid": "8d009c15-1e3c-40dd-8668-6020683f91e0",
    "_uuid": "501490df757a4ec6919696d02455d5d99c9569ec",
    "collapsed": true
   },
   "outputs": [],
   "source": []
  },
  {
   "cell_type": "markdown",
   "metadata": {
    "_cell_guid": "222de74e-b512-45e4-ad89-59a2d8923cae",
    "_uuid": "d66bdb8f37b0286252da3e034d7ca0674243981d"
   },
   "source": [
    "## Splitting data"
   ]
  },
  {
   "cell_type": "code",
   "execution_count": 52,
   "metadata": {
    "_cell_guid": "1e637c6f-59a3-4c6a-bc58-eeed3f02315d",
    "_uuid": "70ae08f6968da0d0ff14adb652e9411a6e2c3dfd",
    "collapsed": true
   },
   "outputs": [],
   "source": [
    "from sklearn.model_selection import train_test_split\n",
    "from sklearn.utils import shuffle"
   ]
  },
  {
   "cell_type": "code",
   "execution_count": 53,
   "metadata": {
    "_cell_guid": "edd4d437-f855-49eb-afa4-7cf099769ea1",
    "_uuid": "a693718ab9f52f621e708279239b31b3f8393f45",
    "collapsed": true
   },
   "outputs": [],
   "source": [
    "df = shuffle(df).reset_index()"
   ]
  },
  {
   "cell_type": "code",
   "execution_count": 54,
   "metadata": {
    "_cell_guid": "6f5add02-3dc0-4293-aec2-976ae22afc57",
    "_uuid": "17493c0196c63d5d94597a9bd2706ecab5579041"
   },
   "outputs": [],
   "source": [
    "df.head()"
   ]
  },
  {
   "cell_type": "code",
   "execution_count": 55,
   "metadata": {
    "_cell_guid": "da8d412f-20b4-4770-bf1f-2dd306fd9365",
    "_uuid": "2cee88c33f687cd0268a68556c5deb8fb744183d"
   },
   "outputs": [],
   "source": [
    "df = df.drop(['index'], axis = 1)\n",
    "df.head()"
   ]
  },
  {
   "cell_type": "code",
   "execution_count": null,
   "metadata": {
    "_cell_guid": "8e5cd77c-efbc-471c-a09c-b369f184fa74",
    "_uuid": "80caa639a187487b7c7cb46778c9352d68f39796",
    "collapsed": true
   },
   "outputs": [],
   "source": []
  },
  {
   "cell_type": "code",
   "execution_count": 56,
   "metadata": {
    "_cell_guid": "69fa11e3-e69b-4291-9965-fa080b166197",
    "_uuid": "68f5c4031128802b42cf90046c14999be573e6e5"
   },
   "outputs": [],
   "source": [
    "df.info()"
   ]
  },
  {
   "cell_type": "code",
   "execution_count": 57,
   "metadata": {
    "_cell_guid": "b9b16343-a593-4dcf-bef6-e84169c850e0",
    "_uuid": "54bd6b95c4f3a79c7b6b0a71a3cd77ccb21014c7",
    "collapsed": true
   },
   "outputs": [],
   "source": [
    "df_train, df_test = train_test_split(df, test_size = 0.15)"
   ]
  },
  {
   "cell_type": "code",
   "execution_count": 58,
   "metadata": {
    "_cell_guid": "4e2105bc-9983-4f73-b17f-593320482619",
    "_uuid": "65cc4186b8acf0edf669bfa8fe4ff93381bd0397",
    "collapsed": true
   },
   "outputs": [],
   "source": [
    "df_train, df_validation = train_test_split(df_train, test_size = 0.176)"
   ]
  },
  {
   "cell_type": "code",
   "execution_count": 59,
   "metadata": {
    "_cell_guid": "28ac82d9-e83c-40a5-8565-7e3e50440309",
    "_uuid": "84db6144848229958d6dd896d5f53eaaed5f471a"
   },
   "outputs": [],
   "source": [
    "df_train.info()"
   ]
  },
  {
   "cell_type": "code",
   "execution_count": 60,
   "metadata": {
    "_cell_guid": "29e8bdcd-7654-416c-9b3c-d1eac1de74df",
    "_uuid": "43dff0195d2b652f10f09fc2dd22f50cec0a7815"
   },
   "outputs": [],
   "source": [
    "df_validation.info()"
   ]
  },
  {
   "cell_type": "markdown",
   "metadata": {
    "_cell_guid": "ce79f955-1677-4ca3-b667-1431bf535156",
    "_uuid": "76f43faf62163a75a23f3e4218848d6fc218a03d",
    "collapsed": true
   },
   "source": [
    "# Run basic algorithm\n",
    "Just to check its accuracy so that we can understand importance of CNN"
   ]
  },
  {
   "cell_type": "code",
   "execution_count": 61,
   "metadata": {
    "_cell_guid": "18eed9e8-4824-4d66-8150-a45ff6d7d968",
    "_uuid": "9b4dfc4038107ab7ad90384441427046f4776fb3",
    "collapsed": true
   },
   "outputs": [],
   "source": [
    "from sklearn.linear_model import LogisticRegression as Lr\n",
    "from sklearn.ensemble import RandomForestClassifier as Rfc\n",
    "from sklearn.ensemble import GradientBoostingClassifier as Gbc\n",
    "from xgboost import XGBClassifier as Xgb"
   ]
  },
  {
   "cell_type": "markdown",
   "metadata": {
    "_cell_guid": "6aeb79d4-516c-41a9-b8e8-cd771c5620a2",
    "_uuid": "24a5c9e03a887e0da458e511176b35848b3d5952"
   },
   "source": [
    "## Linear Regression"
   ]
  },
  {
   "cell_type": "code",
   "execution_count": 62,
   "metadata": {
    "_cell_guid": "a4e53f01-2c1d-4ee3-8308-f410d55479e9",
    "_uuid": "da1dd2bc6590f7b5b4ad79ed80a364cd71787c4d",
    "collapsed": true
   },
   "outputs": [],
   "source": [
    "df_train_y = df_train['is_cat']"
   ]
  },
  {
   "cell_type": "code",
   "execution_count": 63,
   "metadata": {
    "_cell_guid": "6e76321d-761b-4fef-9eb4-5ef0d490e276",
    "_uuid": "099f92ffb6d04a4df636d295a523291e30002fa5",
    "collapsed": true
   },
   "outputs": [],
   "source": [
    "df_train_x = df_train.drop(['is_cat'], axis = 1)"
   ]
  },
  {
   "cell_type": "code",
   "execution_count": 64,
   "metadata": {
    "_cell_guid": "56eda799-69c7-4ab7-8b84-afe7bd212bfe",
    "_uuid": "9b969aa1715a9cffe0e8c53ad8399622918d64fa"
   },
   "outputs": [],
   "source": [
    "df_train_x.head()"
   ]
  },
  {
   "cell_type": "code",
   "execution_count": 65,
   "metadata": {
    "_cell_guid": "2d9e4887-8dba-4e19-a0e5-503e9ed1bbc0",
    "_uuid": "ec602da7c23460c4bfabc683ced93b0e623fd46d",
    "collapsed": true
   },
   "outputs": [],
   "source": [
    "lr = Lr()"
   ]
  },
  {
   "cell_type": "code",
   "execution_count": 66,
   "metadata": {
    "_cell_guid": "e66bd83f-9f79-4f14-a97e-165bc1a98528",
    "_uuid": "08028f8642e4b1a18550a8b140a3d5cc8f94e187"
   },
   "outputs": [],
   "source": [
    "lr.fit(df_train_x, df_train_y)"
   ]
  },
  {
   "cell_type": "code",
   "execution_count": 67,
   "metadata": {
    "_cell_guid": "a01e6b5d-ab0b-4f3d-85af-4912ca775774",
    "_uuid": "4a33fd5021403a2b37f185b3dbfe790835fb6b36"
   },
   "outputs": [],
   "source": [
    "lr.score(df_train_x, df_train_y)"
   ]
  },
  {
   "cell_type": "code",
   "execution_count": 68,
   "metadata": {
    "_cell_guid": "00d2dca9-c4c3-455d-9281-9ecfbc5d5864",
    "_uuid": "91c14ae251054d4394e98d93d2e2491bc1311d10",
    "collapsed": true
   },
   "outputs": [],
   "source": [
    "df_validation_y = df_validation['is_cat']"
   ]
  },
  {
   "cell_type": "code",
   "execution_count": 69,
   "metadata": {
    "_cell_guid": "b8c8f371-f00a-4ef9-9505-e1fee80b84da",
    "_uuid": "a252c5a226f6f919fc581cf47c03b1154e72b302",
    "collapsed": true
   },
   "outputs": [],
   "source": [
    "df_validation_x = df_validation.drop(['is_cat'], axis = 1) "
   ]
  },
  {
   "cell_type": "code",
   "execution_count": 70,
   "metadata": {
    "_cell_guid": "10900d9c-c578-4eb3-8c7f-47473da871bc",
    "_uuid": "014714c4f5c206a35012303ecc122e5c7e7954a8"
   },
   "outputs": [],
   "source": [
    "lr.score(df_validation_x, df_validation_y)"
   ]
  },
  {
   "cell_type": "markdown",
   "metadata": {
    "_cell_guid": "0edc0e31-7b3d-4b08-8a2e-f00c3196c710",
    "_uuid": "57b14631c1a69d2d279810c3e1b50679d0d40ce0"
   },
   "source": [
    "## Random forest classifier"
   ]
  },
  {
   "cell_type": "code",
   "execution_count": 71,
   "metadata": {
    "_cell_guid": "7108ee5c-1a29-4356-93bb-985798eefdeb",
    "_uuid": "633a2581dbfb8324f0af237cd3e1db907f908096",
    "collapsed": true
   },
   "outputs": [],
   "source": [
    "rfc = Rfc()"
   ]
  },
  {
   "cell_type": "code",
   "execution_count": 72,
   "metadata": {
    "_cell_guid": "ea7e55fe-92f0-4d75-96ee-bbd5e46793a7",
    "_uuid": "6bb8798eac27f083dc8c54fbbfb3ac458db7183a"
   },
   "outputs": [],
   "source": [
    "rfc.fit(df_train_x, df_train_y)"
   ]
  },
  {
   "cell_type": "code",
   "execution_count": 73,
   "metadata": {
    "_cell_guid": "9838e770-d775-4686-b64d-9d1a0fa4976d",
    "_uuid": "86dcb32ba7c093a644948dfc8b5c8df4ae9b2485"
   },
   "outputs": [],
   "source": [
    "rfc.score(df_train_x, df_train_y)"
   ]
  },
  {
   "cell_type": "code",
   "execution_count": 74,
   "metadata": {
    "_cell_guid": "50ba5a4d-81a0-4666-8cf4-aa21f6f39a0b",
    "_uuid": "49a39df63be4ce21fc5fe35d56e4d0688079882c"
   },
   "outputs": [],
   "source": [
    "plt.plot(rfc.feature_importances_)\n",
    "plt.show"
   ]
  },
  {
   "cell_type": "code",
   "execution_count": 75,
   "metadata": {
    "_cell_guid": "5c79c0bd-223f-4940-9c4f-6d61b192ae68",
    "_uuid": "b35b733bb4d31501f3c150bc6627169567f3d2b5"
   },
   "outputs": [],
   "source": [
    "rfc.score(df_validation_x, df_validation_y)"
   ]
  },
  {
   "cell_type": "markdown",
   "metadata": {
    "_cell_guid": "bb93b7b5-24a6-49be-85d5-b76bfb7044be",
    "_uuid": "36a26ef59342aae303c2f21df2a685d83e1c616a"
   },
   "source": [
    "## XGB"
   ]
  },
  {
   "cell_type": "code",
   "execution_count": 76,
   "metadata": {
    "_cell_guid": "3967a0e8-3b0c-48c0-9ff3-2c8c72bc1e1f",
    "_uuid": "40a5484dfcc7a86aa971146d236aacad794b2dfb",
    "collapsed": true
   },
   "outputs": [],
   "source": [
    "xgb = Xgb()"
   ]
  },
  {
   "cell_type": "code",
   "execution_count": 77,
   "metadata": {
    "_cell_guid": "b4e1c103-dc61-4812-ab61-fa4ca766919e",
    "_uuid": "5d43fee9f8da0f9908374e8f3c48f68bfe3ab953"
   },
   "outputs": [],
   "source": [
    "xgb.fit(df_train_x, df_train_y)"
   ]
  },
  {
   "cell_type": "code",
   "execution_count": 78,
   "metadata": {
    "_cell_guid": "728d6b7a-fcc0-482f-9fb3-73c766c1ee71",
    "_uuid": "b7f908b9c6dcbceef4f3a1cb5248a572c7ebddbb"
   },
   "outputs": [],
   "source": [
    "xgb.score(df_train_x, df_train_y)"
   ]
  },
  {
   "cell_type": "code",
   "execution_count": 79,
   "metadata": {
    "_cell_guid": "c1601a89-4511-469b-8727-3c76f8c681f9",
    "_uuid": "8e5389b15421364ffb9a5ec8a05a9812b039b24c"
   },
   "outputs": [],
   "source": [
    "plt.plot(xgb.feature_importances_)\n",
    "plt.show"
   ]
  },
  {
   "cell_type": "code",
   "execution_count": 80,
   "metadata": {
    "_cell_guid": "d04fc53d-ef10-4998-8789-f58529bf9d4e",
    "_uuid": "6bb69ef4a8772184fe1fb4770a4645090f2bf89f"
   },
   "outputs": [],
   "source": [
    "xgb.score(df_validation_x, df_validation_y)"
   ]
  },
  {
   "cell_type": "markdown",
   "metadata": {
    "_cell_guid": "15f22d75-3d5c-4672-a05a-328de472a3f0",
    "_uuid": "4aef990b6ab512965616308a976ebdf8b5faa0af"
   },
   "source": [
    "## Max Vote\n",
    "we'll take max vote from  all the above algo as  answer"
   ]
  },
  {
   "cell_type": "code",
   "execution_count": 81,
   "metadata": {
    "_cell_guid": "cff9f119-c15d-461a-8f2b-5df8c1edfbcd",
    "_uuid": "4cef41b2bf2380be96001d567f87681c5bd46ee8"
   },
   "outputs": [],
   "source": [
    "df_train_x = df_train_x.reset_index()\n",
    "df_train_y = df_train_y.reset_index()\n",
    "df_train_x = df_train_x.drop(['index'], axis = 1)\n",
    "df_train_y = df_train_y.drop(['index'], axis = 1)\n",
    "df_train_x.head()"
   ]
  },
  {
   "cell_type": "code",
   "execution_count": 82,
   "metadata": {
    "_cell_guid": "6a800316-a0b4-49f3-bcf3-e93fa747676e",
    "_uuid": "779f361ef82811f2cded739810d174e65db97ade",
    "collapsed": true
   },
   "outputs": [],
   "source": [
    "def max_vote(x):\n",
    "    s1 = lr.predict(x)\n",
    "    s2 = rfc.predict(x)\n",
    "    s3 = xgb.predict(x)\n",
    "    result = pd.DataFrame(s1 + s2 + s3, columns=['is_cat'])\n",
    "    result['is_cat'] = pd.Series(np.where(result['is_cat'] > 1, 1, 0))\n",
    "    return result"
   ]
  },
  {
   "cell_type": "code",
   "execution_count": 83,
   "metadata": {
    "_cell_guid": "ff2d24ce-873e-4679-90d8-c79509f502a9",
    "_uuid": "8987161f5cedac4a1228af898c7d2778c411c365",
    "collapsed": true
   },
   "outputs": [],
   "source": [
    "result_maxvote = max_vote(df_train_x)"
   ]
  },
  {
   "cell_type": "code",
   "execution_count": 84,
   "metadata": {
    "_cell_guid": "69018f3e-ca25-499d-a52c-bb677a8f9450",
    "_uuid": "db34b2333230d12b440c34be71ccefc1ac51a3ee"
   },
   "outputs": [],
   "source": [
    "result_maxvote.head()"
   ]
  },
  {
   "cell_type": "code",
   "execution_count": 85,
   "metadata": {
    "_cell_guid": "09195402-ed0a-47a0-a07d-acf93bd13b4c",
    "_uuid": "5b087f5af78cdc1cdad1cdfca6b0b02150cb410b",
    "collapsed": true
   },
   "outputs": [],
   "source": [
    "def check_accuracy(result, output):\n",
    "    total = result.shape[0]\n",
    "    true = (result.is_cat == output.is_cat).sum()\n",
    "    print(true)\n",
    "    print(true / total)\n",
    "    return (true / total)"
   ]
  },
  {
   "cell_type": "code",
   "execution_count": 86,
   "metadata": {
    "_cell_guid": "4d925a54-c0eb-402a-8396-05800d1bffa4",
    "_uuid": "939397967d5eb2f960f3a7ecbda83c65bfe9970c"
   },
   "outputs": [],
   "source": [
    "check_accuracy(result_maxvote, df_train_y)"
   ]
  },
  {
   "cell_type": "code",
   "execution_count": 87,
   "metadata": {
    "_cell_guid": "ec877884-969b-450e-a858-500f9ee1b274",
    "_uuid": "8fc3e8b7a7a17b4148d08938804a74c42001a0fa",
    "collapsed": true
   },
   "outputs": [],
   "source": [
    "result_validation =  max_vote(df_validation_x)"
   ]
  },
  {
   "cell_type": "code",
   "execution_count": 88,
   "metadata": {
    "_cell_guid": "38213565-05ab-47b6-82cb-a10b398591ad",
    "_uuid": "61a379c38a08dd23e6bb6c9f05e056eb77bebfb8"
   },
   "outputs": [],
   "source": [
    "check_accuracy(result_validation, df_validation_y)"
   ]
  },
  {
   "cell_type": "markdown",
   "metadata": {
    "_cell_guid": "93b60cc1-ba2f-413b-8e79-1b3393182696",
    "_uuid": "7e2e67f23981f3d2c1cb224aa05455d75ae63ba4"
   },
   "source": [
    "## Logistic regression with PCA "
   ]
  },
  {
   "cell_type": "code",
   "execution_count": 89,
   "metadata": {
    "_cell_guid": "e224d114-3074-4ebe-ac22-d75597a193ce",
    "_uuid": "0446318078d79fe8a1c4ce0d2a56eef57fb91e6a",
    "collapsed": true
   },
   "outputs": [],
   "source": [
    "from sklearn.decomposition import PCA"
   ]
  },
  {
   "cell_type": "code",
   "execution_count": 100,
   "metadata": {
    "_cell_guid": "a8e44440-699c-4ad3-83a4-52b5f1f973b3",
    "_uuid": "c14802ac23d409c5fe70acafeeb6bab99159aa5d",
    "collapsed": true
   },
   "outputs": [],
   "source": [
    "pca = PCA(n_components=512)"
   ]
  },
  {
   "cell_type": "code",
   "execution_count": 101,
   "metadata": {
    "_cell_guid": "283a1a44-71b9-404b-b749-c2681b46ea2d",
    "_uuid": "fddd484676ab2ed027b4ad3ffbce8875c09c2127"
   },
   "outputs": [],
   "source": [
    "pca.fit(df_train_x)"
   ]
  },
  {
   "cell_type": "code",
   "execution_count": 102,
   "metadata": {
    "_cell_guid": "35b094ef-d361-4e69-8ca7-00006f88f4ee",
    "_uuid": "dbf1ba132fc374c891b55e1a8d1d83855bdef168"
   },
   "outputs": [],
   "source": [
    "plt.plot(pca.explained_variance_ratio_)\n",
    "plt.show()"
   ]
  },
  {
   "cell_type": "code",
   "execution_count": 103,
   "metadata": {
    "_cell_guid": "0cf835a4-2f50-4260-89cc-5e850dce66bb",
    "_uuid": "400bea6c75d26184faaeb73e77ac39a0e1b5f638"
   },
   "outputs": [],
   "source": [
    "plt.plot(pca.singular_values_)\n",
    "plt.show()"
   ]
  },
  {
   "cell_type": "code",
   "execution_count": 104,
   "metadata": {
    "_cell_guid": "c3b3927f-6e80-44e5-9119-caccb29cba25",
    "_uuid": "08e6f6e7bd16bf0abbcaaaae1868ed6e388b8f50"
   },
   "outputs": [],
   "source": [
    "print(np.sum(pca.explained_variance_ratio_))"
   ]
  },
  {
   "cell_type": "code",
   "execution_count": 105,
   "metadata": {
    "_cell_guid": "bf27c3fa-7c88-4651-abe0-14d0976b26af",
    "_uuid": "fef5e98012409717e41d2e28c7a016a67f867490"
   },
   "outputs": [],
   "source": [
    "df_train_pca_x = pd.DataFrame(pca.transform(df_train_x))\n",
    "df_validation_pca_x = pd.DataFrame(pca.transform(df_validation_x))\n",
    "df_train_pca_x.head()"
   ]
  },
  {
   "cell_type": "code",
   "execution_count": 106,
   "metadata": {
    "_cell_guid": "a6b277b0-72f1-4802-baa2-df4c78a987ba",
    "_uuid": "5557115f9004f8f56c55699effb9759c08319645",
    "collapsed": true
   },
   "outputs": [],
   "source": [
    "lr_pca = Lr()"
   ]
  },
  {
   "cell_type": "code",
   "execution_count": 107,
   "metadata": {
    "_cell_guid": "7e50fe6b-9fd5-40a8-8b62-bc28b33adbbb",
    "_uuid": "f95f5e25b23c4aca9a8fe20163ffcf5c5a4b2633"
   },
   "outputs": [],
   "source": [
    "lr_pca.fit(df_train_pca_x, df_train_y, )"
   ]
  },
  {
   "cell_type": "code",
   "execution_count": 108,
   "metadata": {
    "_cell_guid": "1fa76faf-2878-4b69-8daf-8a69d8cd829f",
    "_uuid": "3567efb313fd250178c5aaf3e011a680d1f7f31c"
   },
   "outputs": [],
   "source": [
    "lr_pca.score(df_train_pca_x, df_train_y)"
   ]
  },
  {
   "cell_type": "code",
   "execution_count": 109,
   "metadata": {
    "_cell_guid": "fc1d5d4a-514b-4633-a278-ab6fada47f0d",
    "_uuid": "c25632b65fd8528457913110e830d94e4967c97f"
   },
   "outputs": [],
   "source": [
    "lr_pca.score(df_validation_pca_x, df_validation_y)"
   ]
  },
  {
   "cell_type": "markdown",
   "metadata": {
    "_uuid": "d446988678b0bb461e45c13d90db4c853fac6fd9"
   },
   "source": [
    "## SVM"
   ]
  },
  {
   "cell_type": "code",
   "execution_count": 111,
   "metadata": {
    "_uuid": "62efd9acdd423bdfd87e2aa738ee95a73d6cd481",
    "collapsed": true
   },
   "outputs": [],
   "source": [
    "from sklearn.svm import LinearSVC as SVC"
   ]
  },
  {
   "cell_type": "code",
   "execution_count": 112,
   "metadata": {
    "_uuid": "5675fad20590a06bbf32ff336067562f1c9d3a45",
    "collapsed": true
   },
   "outputs": [],
   "source": [
    "svc = SVC()"
   ]
  },
  {
   "cell_type": "code",
   "execution_count": 113,
   "metadata": {
    "_uuid": "6e3e985a952056f8dcc4e29a225fe72e489149c7"
   },
   "outputs": [],
   "source": [
    "svc.fit(df_train_pca_x, df_train_y)"
   ]
  },
  {
   "cell_type": "code",
   "execution_count": 114,
   "metadata": {
    "_uuid": "0c95b8a9486bfd68772d04fdefd412d6d1f01892"
   },
   "outputs": [],
   "source": [
    "svc.score(df_train_pca_x, df_train_y)"
   ]
  },
  {
   "cell_type": "code",
   "execution_count": 115,
   "metadata": {
    "_uuid": "c2653bc73ce9cbc804bbd96a9f7a54886d6b234f"
   },
   "outputs": [],
   "source": [
    "svc.score(df_validation_pca_x, df_validation_y)"
   ]
  },
  {
   "cell_type": "markdown",
   "metadata": {
    "_cell_guid": "ff6a5189-e5a4-4f90-aaf7-d31f33cb7b2e",
    "_uuid": "8df27de03ebf8c068cdf708e458c45a7dbb1765a",
    "collapsed": true
   },
   "source": [
    "### As we can see all the algorithms that are used for classification problem are no more better than random guess.In next kernel we'll learn state of the art image classfication algorithm CNN."
   ]
  },
  {
   "cell_type": "code",
   "execution_count": null,
   "metadata": {
    "_cell_guid": "19e8452c-d67e-45d7-b724-df32ca40d1da",
    "_uuid": "a3bced1dc611c921f7267284dca897fca8d6c4a1",
    "collapsed": true
   },
   "outputs": [],
   "source": []
  }
 ],
 "metadata": {
  "kernelspec": {
   "display_name": "Python 3 (ipykernel)",
   "language": "python",
   "name": "python3"
  },
  "language_info": {
   "codemirror_mode": {
    "name": "ipython",
    "version": 3
   },
   "file_extension": ".py",
   "mimetype": "text/x-python",
   "name": "python",
   "nbconvert_exporter": "python",
   "pygments_lexer": "ipython3",
   "version": "3.9.6"
  }
 },
 "nbformat": 4,
 "nbformat_minor": 1
}
